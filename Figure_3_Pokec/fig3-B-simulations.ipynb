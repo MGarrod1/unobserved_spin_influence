{
 "cells": [
  {
   "cell_type": "markdown",
   "metadata": {},
   "source": [
    "Evaluate different ising influence strategies on the Pokec dataset for a range of different linear field gradients.\n",
    "\n",
    "Created on: 28/09/20"
   ]
  },
  {
   "cell_type": "code",
   "execution_count": 1,
   "metadata": {},
   "outputs": [],
   "source": [
    "import networkx as nx\n",
    "import numpy as np\n",
    "import pandas as pd\n",
    "import ast\n",
    "import seaborn as sns\n",
    "import matplotlib.pyplot as plt\n",
    "import tqdm\n",
    "import random\n",
    "import itertools\n",
    "import matplotlib\n",
    "from scipy import stats\n",
    "import math\n",
    "\n",
    "from ising_block_level_influence import N_Block_sbm_class as NBlock\n",
    "from ising_block_level_influence import projection_simplex as proj\n",
    "from ising_block_level_influence import mean_field_IIM\n",
    "from spatial_spin_monte_carlo import spatial_spin_monte_carlo as Spins\n",
    "import Pokec_processing as  PokProc\n",
    "\n",
    "from pokec_utils import *"
   ]
  },
  {
   "cell_type": "markdown",
   "metadata": {},
   "source": [
    "### Read in processed data\n",
    "\n",
    "This data has been generated using:\n",
    "\n",
    "1. **make_Pokec_reduced_profiles.ipynb** - which then feeds data into:\n",
    "\n",
    "2. The pre-processing script **'make_bratislava_graph_and_blocks.py'**."
   ]
  },
  {
   "cell_type": "code",
   "execution_count": 2,
   "metadata": {},
   "outputs": [
    {
     "name": "stdout",
     "output_type": "stream",
     "text": [
      "Computing critical temperature\n"
     ]
    },
    {
     "data": {
      "text/html": [
       "<div>\n",
       "<style scoped>\n",
       "    .dataframe tbody tr th:only-of-type {\n",
       "        vertical-align: middle;\n",
       "    }\n",
       "\n",
       "    .dataframe tbody tr th {\n",
       "        vertical-align: top;\n",
       "    }\n",
       "\n",
       "    .dataframe thead th {\n",
       "        text-align: right;\n",
       "    }\n",
       "</style>\n",
       "<table border=\"1\" class=\"dataframe\">\n",
       "  <thead>\n",
       "    <tr style=\"text-align: right;\">\n",
       "      <th></th>\n",
       "      <th>Unnamed: 0</th>\n",
       "      <th>block_name</th>\n",
       "      <th>block_size</th>\n",
       "      <th>average_age</th>\n",
       "      <th>age_group</th>\n",
       "    </tr>\n",
       "  </thead>\n",
       "  <tbody>\n",
       "    <tr>\n",
       "      <td>0</td>\n",
       "      <td>0</td>\n",
       "      <td>Okolie_ages_1-17</td>\n",
       "      <td>1234</td>\n",
       "      <td>9.0</td>\n",
       "      <td>ages_1-17</td>\n",
       "    </tr>\n",
       "    <tr>\n",
       "      <td>1</td>\n",
       "      <td>1</td>\n",
       "      <td>Okolie_ages_18-21</td>\n",
       "      <td>1939</td>\n",
       "      <td>19.5</td>\n",
       "      <td>ages_18-21</td>\n",
       "    </tr>\n",
       "    <tr>\n",
       "      <td>2</td>\n",
       "      <td>2</td>\n",
       "      <td>Okolie_ages_22-28</td>\n",
       "      <td>3154</td>\n",
       "      <td>25.0</td>\n",
       "      <td>ages_22-28</td>\n",
       "    </tr>\n",
       "    <tr>\n",
       "      <td>3</td>\n",
       "      <td>3</td>\n",
       "      <td>Okolie_ages_29-112</td>\n",
       "      <td>3458</td>\n",
       "      <td>70.5</td>\n",
       "      <td>ages_29-112</td>\n",
       "    </tr>\n",
       "    <tr>\n",
       "      <td>4</td>\n",
       "      <td>4</td>\n",
       "      <td>Petrzalka_ages_1-17</td>\n",
       "      <td>1398</td>\n",
       "      <td>9.0</td>\n",
       "      <td>ages_1-17</td>\n",
       "    </tr>\n",
       "  </tbody>\n",
       "</table>\n",
       "</div>"
      ],
      "text/plain": [
       "   Unnamed: 0           block_name  block_size  average_age    age_group\n",
       "0           0     Okolie_ages_1-17        1234          9.0    ages_1-17\n",
       "1           1    Okolie_ages_18-21        1939         19.5   ages_18-21\n",
       "2           2    Okolie_ages_22-28        3154         25.0   ages_22-28\n",
       "3           3   Okolie_ages_29-112        3458         70.5  ages_29-112\n",
       "4           4  Petrzalka_ages_1-17        1398          9.0    ages_1-17"
      ]
     },
     "execution_count": 2,
     "metadata": {},
     "output_type": "execute_result"
    }
   ],
   "source": [
    "graph = nx.read_graphml('Data/Bratislava_graph.graphml')\n",
    "beta_c = Spins.crit_beta_sparse(graph)\n",
    "bratislava_profiles = pd.read_csv(\"Data/bratislava_profiles.csv\")\n",
    "coupling_graph = nx.read_graphml('Data/Bratislava_coupling.graphml')\n",
    "block_data = pd.read_csv('Data/block_info.csv',converters={'Block' : ast.literal_eval})\n",
    "mean_block_ages = list(block_data['average_age'])\n",
    "block_sizes = list(block_data['block_size'])\n",
    "block_names = list(block_data['block_name'])\n",
    "block_data['age_group'] = [ 'ages_' + k.split('_')[-1] for k in list(block_data['block_name'])]\n",
    "block_data.head()"
   ]
  },
  {
   "cell_type": "code",
   "execution_count": 3,
   "metadata": {},
   "outputs": [],
   "source": [
    "def linear_field(x : np.ndarray,gradient :float) :\n",
    "    return gradient*x\n",
    "#Scale ages to [-1,1]:\n",
    "rescaled_ages = [ (k-np.mean(mean_block_ages))/(max(mean_block_ages)-min(mean_block_ages)) for k in mean_block_ages ]"
   ]
  },
  {
   "cell_type": "code",
   "execution_count": 4,
   "metadata": {},
   "outputs": [],
   "source": [
    "bratislava_profiles_indices = bratislava_profiles.reset_index()\n",
    "groups = [ bratislava_profiles_indices.loc[bratislava_profiles_indices['block']==block] for block in block_names]\n",
    "groups_node_ids = [list(k['index']) for k in groups]"
   ]
  },
  {
   "cell_type": "markdown",
   "metadata": {},
   "source": [
    "## Sweep over $\\beta$ values"
   ]
  },
  {
   "cell_type": "code",
   "execution_count": 11,
   "metadata": {},
   "outputs": [
    {
     "data": {
      "application/vnd.jupyter.widget-view+json": {
       "model_id": "1a01544b69c641b18e092c32fd209382",
       "version_major": 2,
       "version_minor": 0
      },
      "text/plain": [
       "HBox(children=(IntProgress(value=0, max=1), HTML(value='')))"
      ]
     },
     "metadata": {},
     "output_type": "display_data"
    },
    {
     "data": {
      "application/vnd.jupyter.widget-view+json": {
       "model_id": "7096654d221741cf8f6b2f39dd7f1df5",
       "version_major": 2,
       "version_minor": 0
      },
      "text/plain": [
       "HBox(children=(IntProgress(value=0, max=2), HTML(value='')))"
      ]
     },
     "metadata": {},
     "output_type": "display_data"
    },
    {
     "name": "stderr",
     "output_type": "stream",
     "text": [
      "/home/matt/anaconda3/lib/python3.7/site-packages/ipykernel_launcher.py:88: RuntimeWarning: divide by zero encountered in double_scalars\n",
      "/home/matt/anaconda3/lib/python3.7/site-packages/ipykernel_launcher.py:88: RuntimeWarning: invalid value encountered in multiply\n"
     ]
    },
    {
     "data": {
      "application/vnd.jupyter.widget-view+json": {
       "model_id": "3263280bd99d4a448d36341ab40e69de",
       "version_major": 2,
       "version_minor": 0
      },
      "text/plain": [
       "HBox(children=(IntProgress(value=0, max=10), HTML(value='')))"
      ]
     },
     "metadata": {},
     "output_type": "display_data"
    },
    {
     "name": "stdout",
     "output_type": "stream",
     "text": [
      "\n"
     ]
    },
    {
     "data": {
      "application/vnd.jupyter.widget-view+json": {
       "model_id": "fcca0bdd351144caa7638c69c34b5966",
       "version_major": 2,
       "version_minor": 0
      },
      "text/plain": [
       "HBox(children=(IntProgress(value=0, max=15), HTML(value='')))"
      ]
     },
     "metadata": {},
     "output_type": "display_data"
    },
    {
     "data": {
      "application/vnd.jupyter.widget-view+json": {
       "model_id": "a0c789e1966b426aa0326932954227e2",
       "version_major": 2,
       "version_minor": 0
      },
      "text/plain": [
       "HBox(children=(IntProgress(value=0, max=10010), HTML(value='')))"
      ]
     },
     "metadata": {},
     "output_type": "display_data"
    },
    {
     "name": "stdout",
     "output_type": "stream",
     "text": [
      "\n"
     ]
    },
    {
     "data": {
      "application/vnd.jupyter.widget-view+json": {
       "model_id": "37bf680bfe9745c795bf9d496883be09",
       "version_major": 2,
       "version_minor": 0
      },
      "text/plain": [
       "HBox(children=(IntProgress(value=0, max=10010), HTML(value='')))"
      ]
     },
     "metadata": {},
     "output_type": "display_data"
    },
    {
     "name": "stdout",
     "output_type": "stream",
     "text": [
      "\n",
      "0.8568492664458117 +/- 0.000768863305260335 \n",
      "0.8521325806233521 +/- 0.0007826592200164519 \n"
     ]
    },
    {
     "data": {
      "application/vnd.jupyter.widget-view+json": {
       "model_id": "09588ae9a4b449c6bb457e07b5c8578f",
       "version_major": 2,
       "version_minor": 0
      },
      "text/plain": [
       "HBox(children=(IntProgress(value=0, max=10010), HTML(value='')))"
      ]
     },
     "metadata": {},
     "output_type": "display_data"
    },
    {
     "name": "stdout",
     "output_type": "stream",
     "text": [
      "\n"
     ]
    },
    {
     "data": {
      "application/vnd.jupyter.widget-view+json": {
       "model_id": "5febb196b3f74334b9f59fda56614540",
       "version_major": 2,
       "version_minor": 0
      },
      "text/plain": [
       "HBox(children=(IntProgress(value=0, max=10010), HTML(value='')))"
      ]
     },
     "metadata": {},
     "output_type": "display_data"
    },
    {
     "name": "stdout",
     "output_type": "stream",
     "text": [
      "\n",
      "0.8544348184706916 +/- 0.0007747775970716197 \n",
      "0.8563520992495436 +/- 0.0007714518943233554 \n"
     ]
    },
    {
     "data": {
      "application/vnd.jupyter.widget-view+json": {
       "model_id": "d767d584aaf5447fb9b4e92f32c87989",
       "version_major": 2,
       "version_minor": 0
      },
      "text/plain": [
       "HBox(children=(IntProgress(value=0, max=10010), HTML(value='')))"
      ]
     },
     "metadata": {},
     "output_type": "display_data"
    },
    {
     "name": "stdout",
     "output_type": "stream",
     "text": [
      "\n"
     ]
    },
    {
     "data": {
      "application/vnd.jupyter.widget-view+json": {
       "model_id": "f545fdc3567d41d6988f671457cdbc99",
       "version_major": 2,
       "version_minor": 0
      },
      "text/plain": [
       "HBox(children=(IntProgress(value=0, max=10010), HTML(value='')))"
      ]
     },
     "metadata": {},
     "output_type": "display_data"
    },
    {
     "name": "stdout",
     "output_type": "stream",
     "text": [
      "\n",
      "0.8532649448989248 +/- 0.0007792276169696091 \n",
      "0.8539006963694137 +/- 0.0007821232720777864 \n"
     ]
    },
    {
     "data": {
      "application/vnd.jupyter.widget-view+json": {
       "model_id": "27c0902bdfa94a1986a297802d537d34",
       "version_major": 2,
       "version_minor": 0
      },
      "text/plain": [
       "HBox(children=(IntProgress(value=0, max=10010), HTML(value='')))"
      ]
     },
     "metadata": {},
     "output_type": "display_data"
    },
    {
     "name": "stdout",
     "output_type": "stream",
     "text": [
      "\n"
     ]
    },
    {
     "data": {
      "application/vnd.jupyter.widget-view+json": {
       "model_id": "e9ee48019c1f4374abaca3074d3057b7",
       "version_major": 2,
       "version_minor": 0
      },
      "text/plain": [
       "HBox(children=(IntProgress(value=0, max=10010), HTML(value='')))"
      ]
     },
     "metadata": {},
     "output_type": "display_data"
    },
    {
     "name": "stdout",
     "output_type": "stream",
     "text": [
      "\n",
      "0.855411676019201 +/- 0.0007841450550797927 \n",
      "0.8551511797714826 +/- 0.000770876631616354 \n"
     ]
    },
    {
     "data": {
      "application/vnd.jupyter.widget-view+json": {
       "model_id": "d21eb3c9526743ee8b7cb1099717786b",
       "version_major": 2,
       "version_minor": 0
      },
      "text/plain": [
       "HBox(children=(IntProgress(value=0, max=10010), HTML(value='')))"
      ]
     },
     "metadata": {},
     "output_type": "display_data"
    },
    {
     "name": "stdout",
     "output_type": "stream",
     "text": [
      "\n"
     ]
    },
    {
     "data": {
      "application/vnd.jupyter.widget-view+json": {
       "model_id": "6e7cb2245b09493dbb1751316bc304fc",
       "version_major": 2,
       "version_minor": 0
      },
      "text/plain": [
       "HBox(children=(IntProgress(value=0, max=10010), HTML(value='')))"
      ]
     },
     "metadata": {},
     "output_type": "display_data"
    },
    {
     "name": "stdout",
     "output_type": "stream",
     "text": [
      "\n",
      "0.8583549185315394 +/- 0.0007772451619072703 \n",
      "0.851878047461294 +/- 0.0007839411152517072 \n"
     ]
    },
    {
     "data": {
      "application/vnd.jupyter.widget-view+json": {
       "model_id": "b7cf862844c843939b0e591d42a512f6",
       "version_major": 2,
       "version_minor": 0
      },
      "text/plain": [
       "HBox(children=(IntProgress(value=0, max=10010), HTML(value='')))"
      ]
     },
     "metadata": {},
     "output_type": "display_data"
    },
    {
     "name": "stdout",
     "output_type": "stream",
     "text": [
      "\n"
     ]
    },
    {
     "data": {
      "application/vnd.jupyter.widget-view+json": {
       "model_id": "525da16336274553a9b7f72d4e6b1089",
       "version_major": 2,
       "version_minor": 0
      },
      "text/plain": [
       "HBox(children=(IntProgress(value=0, max=10010), HTML(value='')))"
      ]
     },
     "metadata": {},
     "output_type": "display_data"
    },
    {
     "name": "stdout",
     "output_type": "stream",
     "text": [
      "\n",
      "0.8562310459062943 +/- 0.0007821429398761821 \n",
      "0.8543312757758096 +/- 0.0007877495959386048 \n"
     ]
    },
    {
     "data": {
      "application/vnd.jupyter.widget-view+json": {
       "model_id": "78f8ff4c112546c4a528e6e5fdd9267b",
       "version_major": 2,
       "version_minor": 0
      },
      "text/plain": [
       "HBox(children=(IntProgress(value=0, max=10010), HTML(value='')))"
      ]
     },
     "metadata": {},
     "output_type": "display_data"
    },
    {
     "name": "stdout",
     "output_type": "stream",
     "text": [
      "\n"
     ]
    },
    {
     "data": {
      "application/vnd.jupyter.widget-view+json": {
       "model_id": "414062c3e9c04125bf7a0aea8892923e",
       "version_major": 2,
       "version_minor": 0
      },
      "text/plain": [
       "HBox(children=(IntProgress(value=0, max=10010), HTML(value='')))"
      ]
     },
     "metadata": {},
     "output_type": "display_data"
    },
    {
     "name": "stdout",
     "output_type": "stream",
     "text": [
      "\n",
      "0.8577670407680347 +/- 0.0007677580879071496 \n",
      "0.852259563247921 +/- 0.0007895065645806444 \n"
     ]
    },
    {
     "data": {
      "application/vnd.jupyter.widget-view+json": {
       "model_id": "a1b1ec0f01554e5f9fe67b9262d45b53",
       "version_major": 2,
       "version_minor": 0
      },
      "text/plain": [
       "HBox(children=(IntProgress(value=0, max=10010), HTML(value='')))"
      ]
     },
     "metadata": {},
     "output_type": "display_data"
    },
    {
     "name": "stdout",
     "output_type": "stream",
     "text": [
      "\n"
     ]
    },
    {
     "data": {
      "application/vnd.jupyter.widget-view+json": {
       "model_id": "49c42c20412743e3a0c523a96b449c85",
       "version_major": 2,
       "version_minor": 0
      },
      "text/plain": [
       "HBox(children=(IntProgress(value=0, max=10010), HTML(value='')))"
      ]
     },
     "metadata": {},
     "output_type": "display_data"
    },
    {
     "name": "stdout",
     "output_type": "stream",
     "text": [
      "\n",
      "0.8554892434588601 +/- 0.000771669709810979 \n",
      "0.8546586437698601 +/- 0.000783078154592545 \n"
     ]
    },
    {
     "data": {
      "application/vnd.jupyter.widget-view+json": {
       "model_id": "b1f67cee056344298a1800e8f3cd9c05",
       "version_major": 2,
       "version_minor": 0
      },
      "text/plain": [
       "HBox(children=(IntProgress(value=0, max=10010), HTML(value='')))"
      ]
     },
     "metadata": {},
     "output_type": "display_data"
    },
    {
     "name": "stdout",
     "output_type": "stream",
     "text": [
      "\n"
     ]
    },
    {
     "data": {
      "application/vnd.jupyter.widget-view+json": {
       "model_id": "f22f4dca154f4d95a6645e8cd1a76c85",
       "version_major": 2,
       "version_minor": 0
      },
      "text/plain": [
       "HBox(children=(IntProgress(value=0, max=10010), HTML(value='')))"
      ]
     },
     "metadata": {},
     "output_type": "display_data"
    },
    {
     "name": "stdout",
     "output_type": "stream",
     "text": [
      "\n",
      "0.8573475559461835 +/- 0.0007710892155531089 \n",
      "0.8587148941924142 +/- 0.0007656725320543171 \n"
     ]
    },
    {
     "data": {
      "application/vnd.jupyter.widget-view+json": {
       "model_id": "0035bc074bb74632b88bfaaa208fafea",
       "version_major": 2,
       "version_minor": 0
      },
      "text/plain": [
       "HBox(children=(IntProgress(value=0, max=10010), HTML(value='')))"
      ]
     },
     "metadata": {},
     "output_type": "display_data"
    },
    {
     "name": "stdout",
     "output_type": "stream",
     "text": [
      "\n"
     ]
    },
    {
     "data": {
      "application/vnd.jupyter.widget-view+json": {
       "model_id": "40e93cb1fb6549038bb74c6393fddffc",
       "version_major": 2,
       "version_minor": 0
      },
      "text/plain": [
       "HBox(children=(IntProgress(value=0, max=10010), HTML(value='')))"
      ]
     },
     "metadata": {},
     "output_type": "display_data"
    },
    {
     "name": "stdout",
     "output_type": "stream",
     "text": [
      "\n",
      "0.8570788520045975 +/- 0.0007609844831679454 \n",
      "0.857045115272801 +/- 0.0007677895527223083 \n"
     ]
    },
    {
     "data": {
      "application/vnd.jupyter.widget-view+json": {
       "model_id": "3d518412d83042868db4c831455082ff",
       "version_major": 2,
       "version_minor": 0
      },
      "text/plain": [
       "HBox(children=(IntProgress(value=0, max=10010), HTML(value='')))"
      ]
     },
     "metadata": {},
     "output_type": "display_data"
    },
    {
     "name": "stdout",
     "output_type": "stream",
     "text": [
      "\n"
     ]
    },
    {
     "data": {
      "application/vnd.jupyter.widget-view+json": {
       "model_id": "e4361257dbce46fa87794851ea1e1779",
       "version_major": 2,
       "version_minor": 0
      },
      "text/plain": [
       "HBox(children=(IntProgress(value=0, max=10010), HTML(value='')))"
      ]
     },
     "metadata": {},
     "output_type": "display_data"
    },
    {
     "name": "stdout",
     "output_type": "stream",
     "text": [
      "\n",
      "0.8580745385707526 +/- 0.0007646452634266728 \n",
      "0.8538940774795483 +/- 0.0007831057225228597 \n"
     ]
    },
    {
     "data": {
      "application/vnd.jupyter.widget-view+json": {
       "model_id": "01fea102c76d4b8ab1f12d2ef01aec9a",
       "version_major": 2,
       "version_minor": 0
      },
      "text/plain": [
       "HBox(children=(IntProgress(value=0, max=10010), HTML(value='')))"
      ]
     },
     "metadata": {},
     "output_type": "display_data"
    },
    {
     "name": "stdout",
     "output_type": "stream",
     "text": [
      "\n"
     ]
    },
    {
     "data": {
      "application/vnd.jupyter.widget-view+json": {
       "model_id": "38169b1494d84c2192070db9285e0500",
       "version_major": 2,
       "version_minor": 0
      },
      "text/plain": [
       "HBox(children=(IntProgress(value=0, max=10010), HTML(value='')))"
      ]
     },
     "metadata": {},
     "output_type": "display_data"
    },
    {
     "name": "stdout",
     "output_type": "stream",
     "text": [
      "\n",
      "0.8540733216144952 +/- 0.0007805232281926755 \n",
      "0.8543281995808262 +/- 0.0007764013834401249 \n"
     ]
    },
    {
     "data": {
      "application/vnd.jupyter.widget-view+json": {
       "model_id": "4a6cadd0af82489d872961849f203583",
       "version_major": 2,
       "version_minor": 0
      },
      "text/plain": [
       "HBox(children=(IntProgress(value=0, max=10010), HTML(value='')))"
      ]
     },
     "metadata": {},
     "output_type": "display_data"
    },
    {
     "name": "stdout",
     "output_type": "stream",
     "text": [
      "\n"
     ]
    },
    {
     "data": {
      "application/vnd.jupyter.widget-view+json": {
       "model_id": "e08ef1e17dab4e32a4007c55e7a01b2e",
       "version_major": 2,
       "version_minor": 0
      },
      "text/plain": [
       "HBox(children=(IntProgress(value=0, max=10010), HTML(value='')))"
      ]
     },
     "metadata": {},
     "output_type": "display_data"
    },
    {
     "name": "stdout",
     "output_type": "stream",
     "text": [
      "\n",
      "0.8574679399634914 +/- 0.0007612037323672634 \n",
      "0.8539136299100805 +/- 0.0007776267402060949 \n"
     ]
    },
    {
     "data": {
      "application/vnd.jupyter.widget-view+json": {
       "model_id": "1bcbbf198eb84667ab972e8f3514d919",
       "version_major": 2,
       "version_minor": 0
      },
      "text/plain": [
       "HBox(children=(IntProgress(value=0, max=10010), HTML(value='')))"
      ]
     },
     "metadata": {},
     "output_type": "display_data"
    },
    {
     "name": "stdout",
     "output_type": "stream",
     "text": [
      "\n"
     ]
    },
    {
     "data": {
      "application/vnd.jupyter.widget-view+json": {
       "model_id": "9cf84459668c4687827b1543530f7cea",
       "version_major": 2,
       "version_minor": 0
      },
      "text/plain": [
       "HBox(children=(IntProgress(value=0, max=10010), HTML(value='')))"
      ]
     },
     "metadata": {},
     "output_type": "display_data"
    },
    {
     "name": "stdout",
     "output_type": "stream",
     "text": [
      "\n",
      "0.855885403285782 +/- 0.0007579732820349496 \n",
      "0.8590334730579405 +/- 0.0007647687429019452 \n"
     ]
    },
    {
     "data": {
      "application/vnd.jupyter.widget-view+json": {
       "model_id": "ea975231c97442dcbec40997d4aeb247",
       "version_major": 2,
       "version_minor": 0
      },
      "text/plain": [
       "HBox(children=(IntProgress(value=0, max=10010), HTML(value='')))"
      ]
     },
     "metadata": {},
     "output_type": "display_data"
    },
    {
     "name": "stdout",
     "output_type": "stream",
     "text": [
      "\n"
     ]
    },
    {
     "data": {
      "application/vnd.jupyter.widget-view+json": {
       "model_id": "e77770106de046d0bef77e841ca19cdf",
       "version_major": 2,
       "version_minor": 0
      },
      "text/plain": [
       "HBox(children=(IntProgress(value=0, max=10010), HTML(value='')))"
      ]
     },
     "metadata": {},
     "output_type": "display_data"
    },
    {
     "name": "stdout",
     "output_type": "stream",
     "text": [
      "\n",
      "0.8543064971942398 +/- 0.0007785397012520959 \n",
      "0.8554292204719086 +/- 0.0007759173326460689 \n",
      "\n"
     ]
    },
    {
     "data": {
      "application/vnd.jupyter.widget-view+json": {
       "model_id": "3c4e0c9d94b549f48e01f3ecc83d0f86",
       "version_major": 2,
       "version_minor": 0
      },
      "text/plain": [
       "HBox(children=(IntProgress(value=0, max=10), HTML(value='')))"
      ]
     },
     "metadata": {},
     "output_type": "display_data"
    },
    {
     "name": "stdout",
     "output_type": "stream",
     "text": [
      "\n"
     ]
    },
    {
     "data": {
      "application/vnd.jupyter.widget-view+json": {
       "model_id": "afbe2c8712164b88ba99985fe696fb70",
       "version_major": 2,
       "version_minor": 0
      },
      "text/plain": [
       "HBox(children=(IntProgress(value=0, max=15), HTML(value='')))"
      ]
     },
     "metadata": {},
     "output_type": "display_data"
    },
    {
     "data": {
      "application/vnd.jupyter.widget-view+json": {
       "model_id": "42117aba3d16476191677816b0905cb6",
       "version_major": 2,
       "version_minor": 0
      },
      "text/plain": [
       "HBox(children=(IntProgress(value=0, max=10010), HTML(value='')))"
      ]
     },
     "metadata": {},
     "output_type": "display_data"
    },
    {
     "name": "stdout",
     "output_type": "stream",
     "text": [
      "\n"
     ]
    },
    {
     "data": {
      "application/vnd.jupyter.widget-view+json": {
       "model_id": "526b72ae83cb4554b1fdb0af6aed0bf0",
       "version_major": 2,
       "version_minor": 0
      },
      "text/plain": [
       "HBox(children=(IntProgress(value=0, max=10010), HTML(value='')))"
      ]
     },
     "metadata": {},
     "output_type": "display_data"
    },
    {
     "name": "stdout",
     "output_type": "stream",
     "text": [
      "\n",
      "0.8839100736934623 +/- 0.0006176699231106142 \n",
      "0.8868866202420391 +/- 0.0006235805012363318 \n"
     ]
    },
    {
     "data": {
      "application/vnd.jupyter.widget-view+json": {
       "model_id": "d16bb62c65d14601b3234e4bf08bfdd7",
       "version_major": 2,
       "version_minor": 0
      },
      "text/plain": [
       "HBox(children=(IntProgress(value=0, max=10010), HTML(value='')))"
      ]
     },
     "metadata": {},
     "output_type": "display_data"
    },
    {
     "name": "stdout",
     "output_type": "stream",
     "text": [
      "\n"
     ]
    },
    {
     "data": {
      "application/vnd.jupyter.widget-view+json": {
       "model_id": "8975465558f2466fadb29f9b9328b26f",
       "version_major": 2,
       "version_minor": 0
      },
      "text/plain": [
       "HBox(children=(IntProgress(value=0, max=10010), HTML(value='')))"
      ]
     },
     "metadata": {},
     "output_type": "display_data"
    },
    {
     "name": "stdout",
     "output_type": "stream",
     "text": [
      "\n",
      "0.8895237576904876 +/- 0.0006104668295124215 \n",
      "0.8857904739368536 +/- 0.000606284602931795 \n"
     ]
    },
    {
     "data": {
      "application/vnd.jupyter.widget-view+json": {
       "model_id": "2f017b713cef4d79b1cba8dd1fee93bf",
       "version_major": 2,
       "version_minor": 0
      },
      "text/plain": [
       "HBox(children=(IntProgress(value=0, max=10010), HTML(value='')))"
      ]
     },
     "metadata": {},
     "output_type": "display_data"
    },
    {
     "name": "stdout",
     "output_type": "stream",
     "text": [
      "\n"
     ]
    },
    {
     "data": {
      "application/vnd.jupyter.widget-view+json": {
       "model_id": "fa14c56fa2f944f9aa4b4eb09a156a32",
       "version_major": 2,
       "version_minor": 0
      },
      "text/plain": [
       "HBox(children=(IntProgress(value=0, max=10010), HTML(value='')))"
      ]
     },
     "metadata": {},
     "output_type": "display_data"
    },
    {
     "name": "stdout",
     "output_type": "stream",
     "text": [
      "\n",
      "0.8843727672233115 +/- 0.0006051574039444448 \n",
      "0.8824926644581165 +/- 0.0006297483993925239 \n"
     ]
    },
    {
     "data": {
      "application/vnd.jupyter.widget-view+json": {
       "model_id": "d8f52ba946d34598ad91fcd7faf88da0",
       "version_major": 2,
       "version_minor": 0
      },
      "text/plain": [
       "HBox(children=(IntProgress(value=0, max=10010), HTML(value='')))"
      ]
     },
     "metadata": {},
     "output_type": "display_data"
    },
    {
     "name": "stdout",
     "output_type": "stream",
     "text": [
      "\n"
     ]
    },
    {
     "data": {
      "application/vnd.jupyter.widget-view+json": {
       "model_id": "dc3ab8f21d1f4e1ebe9647288bfdb976",
       "version_major": 2,
       "version_minor": 0
      },
      "text/plain": [
       "HBox(children=(IntProgress(value=0, max=10010), HTML(value='')))"
      ]
     },
     "metadata": {},
     "output_type": "display_data"
    },
    {
     "name": "stdout",
     "output_type": "stream",
     "text": [
      "\n",
      "0.8862216753431139 +/- 0.0006146301032035549 \n",
      "0.886231654384423 +/- 0.0005960581450659272 \n"
     ]
    },
    {
     "data": {
      "application/vnd.jupyter.widget-view+json": {
       "model_id": "d6e0ebd0e4cd4a41939d245cc50208d0",
       "version_major": 2,
       "version_minor": 0
      },
      "text/plain": [
       "HBox(children=(IntProgress(value=0, max=10010), HTML(value='')))"
      ]
     },
     "metadata": {},
     "output_type": "display_data"
    },
    {
     "name": "stdout",
     "output_type": "stream",
     "text": [
      "\n"
     ]
    },
    {
     "data": {
      "application/vnd.jupyter.widget-view+json": {
       "model_id": "6893cb3e4d524c999283328cb97eb5d0",
       "version_major": 2,
       "version_minor": 0
      },
      "text/plain": [
       "HBox(children=(IntProgress(value=0, max=10010), HTML(value='')))"
      ]
     },
     "metadata": {},
     "output_type": "display_data"
    },
    {
     "name": "stdout",
     "output_type": "stream",
     "text": [
      "\n",
      "0.8859460009465217 +/- 0.0006137613003190561 \n",
      "0.8889465012507606 +/- 0.0006045767836646696 \n"
     ]
    },
    {
     "data": {
      "application/vnd.jupyter.widget-view+json": {
       "model_id": "99e5b24e7af34320abc30a09ac08f54c",
       "version_major": 2,
       "version_minor": 0
      },
      "text/plain": [
       "HBox(children=(IntProgress(value=0, max=10010), HTML(value='')))"
      ]
     },
     "metadata": {},
     "output_type": "display_data"
    },
    {
     "name": "stdout",
     "output_type": "stream",
     "text": [
      "\n"
     ]
    },
    {
     "data": {
      "application/vnd.jupyter.widget-view+json": {
       "model_id": "7f09f51867234dcb939b0139a5dfe10d",
       "version_major": 2,
       "version_minor": 0
      },
      "text/plain": [
       "HBox(children=(IntProgress(value=0, max=10010), HTML(value='')))"
      ]
     },
     "metadata": {},
     "output_type": "display_data"
    },
    {
     "name": "stdout",
     "output_type": "stream",
     "text": [
      "\n",
      "0.8868542965316747 +/- 0.0006135704706019562 \n",
      "0.8847840173078223 +/- 0.0006186136381068082 \n"
     ]
    },
    {
     "data": {
      "application/vnd.jupyter.widget-view+json": {
       "model_id": "43cb517231f84bf6b0785cb49271de64",
       "version_major": 2,
       "version_minor": 0
      },
      "text/plain": [
       "HBox(children=(IntProgress(value=0, max=10010), HTML(value='')))"
      ]
     },
     "metadata": {},
     "output_type": "display_data"
    },
    {
     "name": "stdout",
     "output_type": "stream",
     "text": [
      "\n"
     ]
    },
    {
     "data": {
      "application/vnd.jupyter.widget-view+json": {
       "model_id": "debb7866c8fb413c8dc7847f40e10381",
       "version_major": 2,
       "version_minor": 0
      },
      "text/plain": [
       "HBox(children=(IntProgress(value=0, max=10010), HTML(value='')))"
      ]
     },
     "metadata": {},
     "output_type": "display_data"
    },
    {
     "name": "stdout",
     "output_type": "stream",
     "text": [
      "\n",
      "0.8869176593874654 +/- 0.0006018558802767431 \n",
      "0.8853326955581095 +/- 0.0006154107015195124 \n"
     ]
    },
    {
     "data": {
      "application/vnd.jupyter.widget-view+json": {
       "model_id": "a4662f4176c645e6b0e06dcc320ac107",
       "version_major": 2,
       "version_minor": 0
      },
      "text/plain": [
       "HBox(children=(IntProgress(value=0, max=10010), HTML(value='')))"
      ]
     },
     "metadata": {},
     "output_type": "display_data"
    },
    {
     "name": "stdout",
     "output_type": "stream",
     "text": [
      "\n"
     ]
    },
    {
     "data": {
      "application/vnd.jupyter.widget-view+json": {
       "model_id": "0882abf834c24884874e52c36a2fc203",
       "version_major": 2,
       "version_minor": 0
      },
      "text/plain": [
       "HBox(children=(IntProgress(value=0, max=10010), HTML(value='')))"
      ]
     },
     "metadata": {},
     "output_type": "display_data"
    },
    {
     "name": "stdout",
     "output_type": "stream",
     "text": [
      "\n",
      "0.8869703062673246 +/- 0.0006050002790223333 \n",
      "0.8869911635453993 +/- 0.0006069811155121623 \n"
     ]
    },
    {
     "data": {
      "application/vnd.jupyter.widget-view+json": {
       "model_id": "ac3fbf02d561408db55ca191249b8dd6",
       "version_major": 2,
       "version_minor": 0
      },
      "text/plain": [
       "HBox(children=(IntProgress(value=0, max=10010), HTML(value='')))"
      ]
     },
     "metadata": {},
     "output_type": "display_data"
    },
    {
     "name": "stdout",
     "output_type": "stream",
     "text": [
      "\n"
     ]
    },
    {
     "data": {
      "application/vnd.jupyter.widget-view+json": {
       "model_id": "08ffee080ebc492b870084a48b5c37e3",
       "version_major": 2,
       "version_minor": 0
      },
      "text/plain": [
       "HBox(children=(IntProgress(value=0, max=10010), HTML(value='')))"
      ]
     },
     "metadata": {},
     "output_type": "display_data"
    },
    {
     "name": "stdout",
     "output_type": "stream",
     "text": [
      "\n",
      "0.8826484889459806 +/- 0.0006277187240232158 \n",
      "0.8858353255357988 +/- 0.0006215754652722964 \n"
     ]
    },
    {
     "data": {
      "application/vnd.jupyter.widget-view+json": {
       "model_id": "0b254162b5744bc5a16fe7a6647502df",
       "version_major": 2,
       "version_minor": 0
      },
      "text/plain": [
       "HBox(children=(IntProgress(value=0, max=10010), HTML(value='')))"
      ]
     },
     "metadata": {},
     "output_type": "display_data"
    },
    {
     "name": "stdout",
     "output_type": "stream",
     "text": [
      "\n"
     ]
    },
    {
     "data": {
      "application/vnd.jupyter.widget-view+json": {
       "model_id": "aee232cdaeb146c684ad33d2f681fde0",
       "version_major": 2,
       "version_minor": 0
      },
      "text/plain": [
       "HBox(children=(IntProgress(value=0, max=10010), HTML(value='')))"
      ]
     },
     "metadata": {},
     "output_type": "display_data"
    },
    {
     "name": "stdout",
     "output_type": "stream",
     "text": [
      "\n",
      "0.8866064093029545 +/- 0.0006053426846111754 \n",
      "0.8868976607396389 +/- 0.00060519979051059 \n"
     ]
    },
    {
     "data": {
      "application/vnd.jupyter.widget-view+json": {
       "model_id": "151e1879cab04db8a9778cffc555fbcc",
       "version_major": 2,
       "version_minor": 0
      },
      "text/plain": [
       "HBox(children=(IntProgress(value=0, max=10010), HTML(value='')))"
      ]
     },
     "metadata": {},
     "output_type": "display_data"
    },
    {
     "name": "stdout",
     "output_type": "stream",
     "text": [
      "\n"
     ]
    },
    {
     "data": {
      "application/vnd.jupyter.widget-view+json": {
       "model_id": "207bf38748344dbaa7fe0ee7b0214dd1",
       "version_major": 2,
       "version_minor": 0
      },
      "text/plain": [
       "HBox(children=(IntProgress(value=0, max=10010), HTML(value='')))"
      ]
     },
     "metadata": {},
     "output_type": "display_data"
    },
    {
     "name": "stdout",
     "output_type": "stream",
     "text": [
      "\n",
      "0.8854127171928876 +/- 0.0006116722994460224 \n",
      "0.8869403353390575 +/- 0.0006145078571760025 \n"
     ]
    },
    {
     "data": {
      "application/vnd.jupyter.widget-view+json": {
       "model_id": "b9bed130d29d4c15b204f9f60282f97d",
       "version_major": 2,
       "version_minor": 0
      },
      "text/plain": [
       "HBox(children=(IntProgress(value=0, max=10010), HTML(value='')))"
      ]
     },
     "metadata": {},
     "output_type": "display_data"
    },
    {
     "name": "stdout",
     "output_type": "stream",
     "text": [
      "\n"
     ]
    },
    {
     "data": {
      "application/vnd.jupyter.widget-view+json": {
       "model_id": "8c02bf3541304a7a9d63fae2f0d466bc",
       "version_major": 2,
       "version_minor": 0
      },
      "text/plain": [
       "HBox(children=(IntProgress(value=0, max=10010), HTML(value='')))"
      ]
     },
     "metadata": {},
     "output_type": "display_data"
    },
    {
     "name": "stdout",
     "output_type": "stream",
     "text": [
      "\n",
      "0.8858436008383477 +/- 0.0006215476017710519 \n",
      "0.8869002704347239 +/- 0.0005956065254682085 \n"
     ]
    },
    {
     "data": {
      "application/vnd.jupyter.widget-view+json": {
       "model_id": "19e7e4bc1aa34619b945ba5e00ae864a",
       "version_major": 2,
       "version_minor": 0
      },
      "text/plain": [
       "HBox(children=(IntProgress(value=0, max=10010), HTML(value='')))"
      ]
     },
     "metadata": {},
     "output_type": "display_data"
    },
    {
     "name": "stdout",
     "output_type": "stream",
     "text": [
      "\n"
     ]
    },
    {
     "data": {
      "application/vnd.jupyter.widget-view+json": {
       "model_id": "54f54506e63d4553b892e39b096aaf64",
       "version_major": 2,
       "version_minor": 0
      },
      "text/plain": [
       "HBox(children=(IntProgress(value=0, max=10010), HTML(value='')))"
      ]
     },
     "metadata": {},
     "output_type": "display_data"
    },
    {
     "name": "stdout",
     "output_type": "stream",
     "text": [
      "\n",
      "0.8886044689338112 +/- 0.000593023838882845 \n",
      "0.8883331214927997 +/- 0.000604717418044083 \n"
     ]
    },
    {
     "data": {
      "application/vnd.jupyter.widget-view+json": {
       "model_id": "41b45e713d4e4d729a9641cfbc882e4d",
       "version_major": 2,
       "version_minor": 0
      },
      "text/plain": [
       "HBox(children=(IntProgress(value=0, max=10010), HTML(value='')))"
      ]
     },
     "metadata": {},
     "output_type": "display_data"
    },
    {
     "name": "stdout",
     "output_type": "stream",
     "text": [
      "\n"
     ]
    },
    {
     "data": {
      "application/vnd.jupyter.widget-view+json": {
       "model_id": "bba2d6442a644f73a64ed51c874e9faa",
       "version_major": 2,
       "version_minor": 0
      },
      "text/plain": [
       "HBox(children=(IntProgress(value=0, max=10010), HTML(value='')))"
      ]
     },
     "metadata": {},
     "output_type": "display_data"
    },
    {
     "name": "stdout",
     "output_type": "stream",
     "text": [
      "\n",
      "0.8850577040091948 +/- 0.0006272358791966767 \n",
      "0.8869403556216617 +/- 0.000602008618997679 \n"
     ]
    },
    {
     "data": {
      "application/vnd.jupyter.widget-view+json": {
       "model_id": "072c1822208c4f9ea94654b648ec15b1",
       "version_major": 2,
       "version_minor": 0
      },
      "text/plain": [
       "HBox(children=(IntProgress(value=0, max=10010), HTML(value='')))"
      ]
     },
     "metadata": {},
     "output_type": "display_data"
    },
    {
     "name": "stdout",
     "output_type": "stream",
     "text": [
      "\n"
     ]
    },
    {
     "data": {
      "application/vnd.jupyter.widget-view+json": {
       "model_id": "6e75d6828165453986728d2666b4e899",
       "version_major": 2,
       "version_minor": 0
      },
      "text/plain": [
       "HBox(children=(IntProgress(value=0, max=10010), HTML(value='')))"
      ]
     },
     "metadata": {},
     "output_type": "display_data"
    },
    {
     "name": "stdout",
     "output_type": "stream",
     "text": [
      "\n",
      "0.8853610438780339 +/- 0.0006258416660007328 \n",
      "0.8842893381110134 +/- 0.0006165992660320779 \n",
      "\n",
      "\n",
      "\n"
     ]
    }
   ],
   "source": [
    "def check_group(input_val,group_label) :\n",
    "    if input_val == group_label :\n",
    "        return 1.0\n",
    "    else :\n",
    "        return 0.0\n",
    "    \n",
    "def mean_and_se(values) :\n",
    "    return f\"{np.mean(values)} +/- {stats.sem(values)} \"\n",
    "\n",
    "#Seed the random number generators:\n",
    "seed = 1\n",
    "random.seed(seed)\n",
    "np.random.seed(seed)\n",
    "\n",
    "Field_Budget = 2500.0\n",
    "T=10000\n",
    "T_Burn = 2*300000\n",
    "Samples = 15\n",
    "sample_frac = 1.0 # for snapshot control\n",
    "eval_data = pd.DataFrame()\n",
    "control_data = pd.DataFrame()\n",
    "\n",
    "init_sign=1.0\n",
    "\n",
    "beta_factor_vals = [1.0,3.0,5.0,7.0,9.0]\n",
    "#beta_factor_vals=[2.0]\n",
    "#grad_vals =  np.arange(-10.0,12.0,2.0)\n",
    "grad_vals = [ 0.0]\n",
    "\n",
    "#con_names = ['no con','unif','full','block','sv','nc','snapshot']\n",
    "con_names=['block','unif']\n",
    "control_dict={}\n",
    "\n",
    "for gradient in tqdm.tqdm_notebook(grad_vals) : \n",
    "    \n",
    "    age_field = [linear_field(a,gradient) for a in rescaled_ages ]\n",
    "    age_field_map = {k:j for k,j in zip(list(block_data['age_group']),age_field)}\n",
    "\n",
    "    # Block MF setup:\n",
    "    coupling_graph = nx.convert_node_labels_to_integers(coupling_graph)\n",
    "    block_graph_ising_system = mean_field_IIM.mean_field_ising_system(coupling_graph,age_field)\n",
    "    block_graph_ising_system.gamma = 1.0\n",
    "    block_graph_ising_system.tol = 1E-5\n",
    "    block_graph_ising_system.max_mf_fp_iterations = 10000\n",
    "    block_graph_ising_system.mf_fp_init_state = init_sign*np.ones(len(block_sizes))\n",
    "    block_graph_ising_system.mf_fp_noisy = False\n",
    "\n",
    "    # Full graph Mf setup\n",
    "    background_field = np.asarray([age_field_map[k] for k in list(bratislava_profiles['age_group'])])\n",
    "    relab_graph = nx.relabel.convert_node_labels_to_integers(graph)\n",
    "    full_graph_ising_system = mean_field_IIM.mean_field_ising_system(relab_graph,background_field)\n",
    "    full_graph_ising_system.mf_fp_init_state = init_sign*np.ones(len(graph))\n",
    "    full_graph_ising_system.mf_fp_noisy = False\n",
    "\n",
    "\n",
    "    for beta_factor in tqdm.tqdm_notebook(beta_factor_vals) : \n",
    "\n",
    "        beta = beta_c*beta_factor\n",
    "\n",
    "        # Block gradient computation: \n",
    "        m_block = block_graph_ising_system.mf_magnetization(age_field,beta)\n",
    "        mag_gradient = block_graph_ising_system.mf_magnetization_gradient(m_block, beta)\n",
    "        mag_grad_map = { i:j for i,j in zip(block_names,mag_gradient)}\n",
    "        block_names_list = list(bratislava_profiles['block'])\n",
    "        block_mf_gradient = np.asarray([mag_grad_map[k] for k in block_names_list])\n",
    "\n",
    "        # Full gradient computation:\n",
    "        if 'full' in con_names :\n",
    "            m_full = full_graph_ising_system.mf_magnetization(background_field,beta)\n",
    "            mag_grad_full = full_graph_ising_system.mf_sparse_magnetisation_gradient(m_full, beta)\n",
    "            H_full = np.sum(mag_grad_full)\n",
    "            mag_grad_full_at_field_budget = (Field_Budget/H_full)*mag_grad_full\n",
    "            control_dict['full']=mag_grad_full_at_field_budget\n",
    "\n",
    "        # Compute the controls:\n",
    "    \n",
    "        H_block = np.sum(block_mf_gradient)\n",
    "        uniform_control = (Field_Budget / len(graph)) * np.ones(len(graph))\n",
    "        \n",
    "        mag_grad_block_at_field_budget = (Field_Budget/H_block)*block_mf_gradient\n",
    "        negative_cancelling_field = []\n",
    "        for field in background_field :\n",
    "            if field < 0.0:\n",
    "                negative_cancelling_field.append(-1.0*field)\n",
    "            else:\n",
    "                negative_cancelling_field.append(0.0)\n",
    "        negative_cancelling_field = np.asarray(negative_cancelling_field)\n",
    "        negative_cancelling_field = (Field_Budget/np.sum(negative_cancelling_field))*np.asarray(negative_cancelling_field) \n",
    "        swing_voter_nodes = np.asarray([check_group(k,'ages_22-28') for k in list(bratislava_profiles['age_group']) ])\n",
    "        H_SV = np.sum(swing_voter_nodes)\n",
    "        swing_voter_control =  (Field_Budget/H_SV)*swing_voter_nodes\n",
    "        \n",
    "        #Snapshot control\n",
    "        initial_state = init_sign*np.ones(len(graph))\n",
    "        block_snapshot = Run_MonteCarlo_Snapshot(relab_graph,groups_node_ids ,0, beta_factor,beta_c ,T_Burn=T_Burn,addition_control=None,sampling_method=\"Metropolis\",full_graph_field=background_field,initial_state=initial_state,frac_to_sample=sample_frac)\n",
    "        snapshot_gradient = [ (1.0-k**2) for k in block_snapshot ] \n",
    "        snapshot_grad_map = { i:j for i,j in zip(block_names,snapshot_gradient)}\n",
    "        snapshot_influence = np.asarray([snapshot_grad_map[k] for k in block_names_list])\n",
    "        #Normalize:\n",
    "        H_snapshot = np.sum(snapshot_influence)\n",
    "        snapshot_influence = (Field_Budget/H_snapshot)*snapshot_influence\n",
    "        \n",
    "        control_dict['no con']=np.zeros(len(graph))\n",
    "        control_dict['unif']=uniform_control\n",
    "        control_dict['block']=mag_grad_block_at_field_budget\n",
    "        control_dict['sv']=swing_voter_control\n",
    "        control_dict['nc']=negative_cancelling_field\n",
    "        control_dict['snapshot']=snapshot_influence\n",
    "        \n",
    "        # 'full','block','sv','nc','snapshot'\n",
    "        \n",
    "        \n",
    "        for s in tqdm.tqdm_notebook( range(Samples) )  : \n",
    "\n",
    "            \n",
    "            # initial_state = init_sign*np.ones(len(graph))\n",
    "            # no_control = Run_MonteCarlo_Average(relab_graph, T, beta_factor,beta_c, T_Burn=T_Burn,addition_control=None,sampling_method=\"Metropolis\",full_graph_field=background_field,initial_state=initial_state)\n",
    "\n",
    "            magnetisations_dict={}\n",
    "            for con_name in con_names : \n",
    "                initial_state = init_sign*np.ones(len(graph))\n",
    "                control_w_background=np.asarray([i+j for i,j in zip(control_dict[con_name],background_field)])\n",
    "                magnetisations=Run_MonteCarlo_Average(relab_graph, T, beta_factor,beta_c, T_Burn=T_Burn,addition_control=None,sampling_method=\"Metropolis\",full_graph_field=control_w_background,initial_state=initial_state)\n",
    "                magnetisations_dict[con_name]=magnetisations\n",
    "            \n",
    "            \"\"\"\n",
    "            \n",
    "            initial_state = init_sign*np.ones(len(graph))\n",
    "            unif_control_field = np.asarray([i+j for i,j in zip(uniform_control,background_field)])\n",
    "            unif_control = Run_MonteCarlo_Average(relab_graph, T, beta_factor,beta_c, T_Burn=T_Burn,addition_control=None,sampling_method=\"Metropolis\",full_graph_field=unif_control_field,initial_state=initial_state)\n",
    "\n",
    "            initial_state = init_sign*np.ones(len(graph))\n",
    "            full_sus_control_field = np.asarray([i+j for i,j in zip(mag_grad_full_at_field_budget,background_field)])\n",
    "            full_sus_control_mags = Run_MonteCarlo_Average(relab_graph, T, beta_factor,beta_c, T_Burn=T_Burn,addition_control=None,sampling_method=\"Metropolis\",full_graph_field=full_sus_control_field,initial_state=initial_state)\n",
    "\n",
    "            initial_state = init_sign*np.ones(len(graph))\n",
    "            block_sus_control_field = np.asarray([i+j for i,j in zip(mag_grad_block_at_field_budget,background_field)])\n",
    "            block_sus_control_mags = Run_MonteCarlo_Average(relab_graph, T, beta_factor,beta_c, T_Burn=T_Burn,addition_control=None,sampling_method=\"Metropolis\",full_graph_field=block_sus_control_field ,initial_state=initial_state)\n",
    "\n",
    "            initial_state = init_sign*np.ones(len(graph))\n",
    "            sv_control_field = np.asarray([i+j for i,j in zip(swing_voter_control,background_field)])\n",
    "            sv_control_mags = Run_MonteCarlo_Average(relab_graph, T, beta_factor,beta_c, T_Burn=T_Burn,addition_control=None,sampling_method=\"Metropolis\",full_graph_field=sv_control_field  ,initial_state=initial_state)\n",
    "\n",
    "            initial_state = init_sign*np.ones(len(graph))\n",
    "            nc_control_field = np.asarray([i+j for i,j in zip(negative_cancelling_field,background_field)])\n",
    "            nc_control_mags = Run_MonteCarlo_Average(relab_graph, T, beta_factor,beta_c, T_Burn=T_Burn,addition_control=None,sampling_method=\"Metropolis\",full_graph_field=nc_control_field  ,initial_state=initial_state)\n",
    "\n",
    "            initial_state = init_sign*np.ones(len(graph))\n",
    "            snapshot_control_field = np.asarray([i+j for i,j in zip(snapshot_influence,background_field)])\n",
    "            snapshot_control_mags = Run_MonteCarlo_Average(relab_graph, T, beta_factor,beta_c, T_Burn=T_Burn,addition_control=None,sampling_method=\"Metropolis\",full_graph_field=snapshot_control_field  ,initial_state=initial_state)\n",
    "            \n",
    "            \"\"\"\n",
    "            \n",
    "            \n",
    "            \n",
    "            means=[]\n",
    "            ses=[]\n",
    "            #Loop in same order as cont_names\n",
    "            # control_list = [no_control,unif_control,full_sus_control_mags,block_sus_control_mags,sv_control_mags,nc_control_mags,snapshot_control_mags]\n",
    "            #for k in control_list :\n",
    "            for k in list(magnetisations_dict.values()):\n",
    "                print(mean_and_se(k))\n",
    "                means.append(np.mean(k))\n",
    "                ses.append(stats.sem(k))\n",
    "\n",
    "            eval_data = eval_data.append(pd.DataFrame({'control':list(magnetisations_dict.keys()),'magnetisation':means,'mag_se':ses,'beta_factor':beta_factor*np.ones(len(means)),'gradient':gradient*np.ones(len(means))}))\n",
    "            #eval_data.to_csv(\"Data/Pokec_control_eval_data_positive.csv\")\n",
    "            #eval_data.to_csv(\"Data/Pokec_control_eval_data_beta2_neg.csv\")\n",
    "            #eval_data.to_csv(\"Data/Pokec_control_eval_data_no_field.csv\")\n",
    "            #eval_data.to_csv(\"Data/Pokec_control_eval_data_g5_beta_impact.csv\")\n",
    "            #eval_data.to_csv(\"Data/Pokec_control_eval_data_negative_beta_8_start_neg_g.csv\")\n",
    "            #eval_data.to_csv(\"Data/Pokec_control_eval_data_positive_larger_gs.csv\")\n",
    "            #eval_data.to_csv(\"Data/Pokec_control_eval_data_positive_start_neg_g.csv\")\n",
    "            #eval_data.to_csv(f\"Data/Pokec_control_eval_data_beta_{beta_factor}_{init_sign}\".replace('.','-') + \".csv\")\n",
    "\n",
    "            eval_data.to_csv(\"Data/Pokec_control_eval_data_g0_beta_impact.csv\")"
   ]
  },
  {
   "cell_type": "code",
   "execution_count": 12,
   "metadata": {},
   "outputs": [
    {
     "data": {
      "text/html": [
       "<div>\n",
       "<style scoped>\n",
       "    .dataframe tbody tr th:only-of-type {\n",
       "        vertical-align: middle;\n",
       "    }\n",
       "\n",
       "    .dataframe tbody tr th {\n",
       "        vertical-align: top;\n",
       "    }\n",
       "\n",
       "    .dataframe thead th {\n",
       "        text-align: right;\n",
       "    }\n",
       "</style>\n",
       "<table border=\"1\" class=\"dataframe\">\n",
       "  <thead>\n",
       "    <tr style=\"text-align: right;\">\n",
       "      <th></th>\n",
       "      <th>control</th>\n",
       "      <th>magnetisation</th>\n",
       "      <th>mag_se</th>\n",
       "      <th>beta_factor</th>\n",
       "      <th>gradient</th>\n",
       "    </tr>\n",
       "  </thead>\n",
       "  <tbody>\n",
       "    <tr>\n",
       "      <td>0</td>\n",
       "      <td>block</td>\n",
       "      <td>0.856849</td>\n",
       "      <td>0.000769</td>\n",
       "      <td>2.0</td>\n",
       "      <td>0.0</td>\n",
       "    </tr>\n",
       "    <tr>\n",
       "      <td>1</td>\n",
       "      <td>unif</td>\n",
       "      <td>0.852133</td>\n",
       "      <td>0.000783</td>\n",
       "      <td>2.0</td>\n",
       "      <td>0.0</td>\n",
       "    </tr>\n",
       "    <tr>\n",
       "      <td>0</td>\n",
       "      <td>block</td>\n",
       "      <td>0.854435</td>\n",
       "      <td>0.000775</td>\n",
       "      <td>2.0</td>\n",
       "      <td>0.0</td>\n",
       "    </tr>\n",
       "    <tr>\n",
       "      <td>1</td>\n",
       "      <td>unif</td>\n",
       "      <td>0.856352</td>\n",
       "      <td>0.000771</td>\n",
       "      <td>2.0</td>\n",
       "      <td>0.0</td>\n",
       "    </tr>\n",
       "    <tr>\n",
       "      <td>0</td>\n",
       "      <td>block</td>\n",
       "      <td>0.853265</td>\n",
       "      <td>0.000779</td>\n",
       "      <td>2.0</td>\n",
       "      <td>0.0</td>\n",
       "    </tr>\n",
       "    <tr>\n",
       "      <td>1</td>\n",
       "      <td>unif</td>\n",
       "      <td>0.853901</td>\n",
       "      <td>0.000782</td>\n",
       "      <td>2.0</td>\n",
       "      <td>0.0</td>\n",
       "    </tr>\n",
       "    <tr>\n",
       "      <td>0</td>\n",
       "      <td>block</td>\n",
       "      <td>0.855412</td>\n",
       "      <td>0.000784</td>\n",
       "      <td>2.0</td>\n",
       "      <td>0.0</td>\n",
       "    </tr>\n",
       "    <tr>\n",
       "      <td>1</td>\n",
       "      <td>unif</td>\n",
       "      <td>0.855151</td>\n",
       "      <td>0.000771</td>\n",
       "      <td>2.0</td>\n",
       "      <td>0.0</td>\n",
       "    </tr>\n",
       "    <tr>\n",
       "      <td>0</td>\n",
       "      <td>block</td>\n",
       "      <td>0.858355</td>\n",
       "      <td>0.000777</td>\n",
       "      <td>2.0</td>\n",
       "      <td>0.0</td>\n",
       "    </tr>\n",
       "    <tr>\n",
       "      <td>1</td>\n",
       "      <td>unif</td>\n",
       "      <td>0.851878</td>\n",
       "      <td>0.000784</td>\n",
       "      <td>2.0</td>\n",
       "      <td>0.0</td>\n",
       "    </tr>\n",
       "    <tr>\n",
       "      <td>0</td>\n",
       "      <td>block</td>\n",
       "      <td>0.856231</td>\n",
       "      <td>0.000782</td>\n",
       "      <td>2.0</td>\n",
       "      <td>0.0</td>\n",
       "    </tr>\n",
       "    <tr>\n",
       "      <td>1</td>\n",
       "      <td>unif</td>\n",
       "      <td>0.854331</td>\n",
       "      <td>0.000788</td>\n",
       "      <td>2.0</td>\n",
       "      <td>0.0</td>\n",
       "    </tr>\n",
       "    <tr>\n",
       "      <td>0</td>\n",
       "      <td>block</td>\n",
       "      <td>0.857767</td>\n",
       "      <td>0.000768</td>\n",
       "      <td>2.0</td>\n",
       "      <td>0.0</td>\n",
       "    </tr>\n",
       "    <tr>\n",
       "      <td>1</td>\n",
       "      <td>unif</td>\n",
       "      <td>0.852260</td>\n",
       "      <td>0.000790</td>\n",
       "      <td>2.0</td>\n",
       "      <td>0.0</td>\n",
       "    </tr>\n",
       "    <tr>\n",
       "      <td>0</td>\n",
       "      <td>block</td>\n",
       "      <td>0.855489</td>\n",
       "      <td>0.000772</td>\n",
       "      <td>2.0</td>\n",
       "      <td>0.0</td>\n",
       "    </tr>\n",
       "    <tr>\n",
       "      <td>1</td>\n",
       "      <td>unif</td>\n",
       "      <td>0.854659</td>\n",
       "      <td>0.000783</td>\n",
       "      <td>2.0</td>\n",
       "      <td>0.0</td>\n",
       "    </tr>\n",
       "    <tr>\n",
       "      <td>0</td>\n",
       "      <td>block</td>\n",
       "      <td>0.857348</td>\n",
       "      <td>0.000771</td>\n",
       "      <td>2.0</td>\n",
       "      <td>0.0</td>\n",
       "    </tr>\n",
       "    <tr>\n",
       "      <td>1</td>\n",
       "      <td>unif</td>\n",
       "      <td>0.858715</td>\n",
       "      <td>0.000766</td>\n",
       "      <td>2.0</td>\n",
       "      <td>0.0</td>\n",
       "    </tr>\n",
       "    <tr>\n",
       "      <td>0</td>\n",
       "      <td>block</td>\n",
       "      <td>0.857079</td>\n",
       "      <td>0.000761</td>\n",
       "      <td>2.0</td>\n",
       "      <td>0.0</td>\n",
       "    </tr>\n",
       "    <tr>\n",
       "      <td>1</td>\n",
       "      <td>unif</td>\n",
       "      <td>0.857045</td>\n",
       "      <td>0.000768</td>\n",
       "      <td>2.0</td>\n",
       "      <td>0.0</td>\n",
       "    </tr>\n",
       "    <tr>\n",
       "      <td>0</td>\n",
       "      <td>block</td>\n",
       "      <td>0.858075</td>\n",
       "      <td>0.000765</td>\n",
       "      <td>2.0</td>\n",
       "      <td>0.0</td>\n",
       "    </tr>\n",
       "    <tr>\n",
       "      <td>1</td>\n",
       "      <td>unif</td>\n",
       "      <td>0.853894</td>\n",
       "      <td>0.000783</td>\n",
       "      <td>2.0</td>\n",
       "      <td>0.0</td>\n",
       "    </tr>\n",
       "    <tr>\n",
       "      <td>0</td>\n",
       "      <td>block</td>\n",
       "      <td>0.854073</td>\n",
       "      <td>0.000781</td>\n",
       "      <td>2.0</td>\n",
       "      <td>0.0</td>\n",
       "    </tr>\n",
       "    <tr>\n",
       "      <td>1</td>\n",
       "      <td>unif</td>\n",
       "      <td>0.854328</td>\n",
       "      <td>0.000776</td>\n",
       "      <td>2.0</td>\n",
       "      <td>0.0</td>\n",
       "    </tr>\n",
       "    <tr>\n",
       "      <td>0</td>\n",
       "      <td>block</td>\n",
       "      <td>0.857468</td>\n",
       "      <td>0.000761</td>\n",
       "      <td>2.0</td>\n",
       "      <td>0.0</td>\n",
       "    </tr>\n",
       "    <tr>\n",
       "      <td>1</td>\n",
       "      <td>unif</td>\n",
       "      <td>0.853914</td>\n",
       "      <td>0.000778</td>\n",
       "      <td>2.0</td>\n",
       "      <td>0.0</td>\n",
       "    </tr>\n",
       "    <tr>\n",
       "      <td>0</td>\n",
       "      <td>block</td>\n",
       "      <td>0.855885</td>\n",
       "      <td>0.000758</td>\n",
       "      <td>2.0</td>\n",
       "      <td>0.0</td>\n",
       "    </tr>\n",
       "    <tr>\n",
       "      <td>1</td>\n",
       "      <td>unif</td>\n",
       "      <td>0.859033</td>\n",
       "      <td>0.000765</td>\n",
       "      <td>2.0</td>\n",
       "      <td>0.0</td>\n",
       "    </tr>\n",
       "    <tr>\n",
       "      <td>0</td>\n",
       "      <td>block</td>\n",
       "      <td>0.854306</td>\n",
       "      <td>0.000779</td>\n",
       "      <td>2.0</td>\n",
       "      <td>0.0</td>\n",
       "    </tr>\n",
       "    <tr>\n",
       "      <td>1</td>\n",
       "      <td>unif</td>\n",
       "      <td>0.855429</td>\n",
       "      <td>0.000776</td>\n",
       "      <td>2.0</td>\n",
       "      <td>0.0</td>\n",
       "    </tr>\n",
       "    <tr>\n",
       "      <td>0</td>\n",
       "      <td>block</td>\n",
       "      <td>0.883910</td>\n",
       "      <td>0.000618</td>\n",
       "      <td>3.0</td>\n",
       "      <td>0.0</td>\n",
       "    </tr>\n",
       "    <tr>\n",
       "      <td>1</td>\n",
       "      <td>unif</td>\n",
       "      <td>0.886887</td>\n",
       "      <td>0.000624</td>\n",
       "      <td>3.0</td>\n",
       "      <td>0.0</td>\n",
       "    </tr>\n",
       "    <tr>\n",
       "      <td>0</td>\n",
       "      <td>block</td>\n",
       "      <td>0.889524</td>\n",
       "      <td>0.000610</td>\n",
       "      <td>3.0</td>\n",
       "      <td>0.0</td>\n",
       "    </tr>\n",
       "    <tr>\n",
       "      <td>1</td>\n",
       "      <td>unif</td>\n",
       "      <td>0.885790</td>\n",
       "      <td>0.000606</td>\n",
       "      <td>3.0</td>\n",
       "      <td>0.0</td>\n",
       "    </tr>\n",
       "    <tr>\n",
       "      <td>0</td>\n",
       "      <td>block</td>\n",
       "      <td>0.884373</td>\n",
       "      <td>0.000605</td>\n",
       "      <td>3.0</td>\n",
       "      <td>0.0</td>\n",
       "    </tr>\n",
       "    <tr>\n",
       "      <td>1</td>\n",
       "      <td>unif</td>\n",
       "      <td>0.882493</td>\n",
       "      <td>0.000630</td>\n",
       "      <td>3.0</td>\n",
       "      <td>0.0</td>\n",
       "    </tr>\n",
       "    <tr>\n",
       "      <td>0</td>\n",
       "      <td>block</td>\n",
       "      <td>0.886222</td>\n",
       "      <td>0.000615</td>\n",
       "      <td>3.0</td>\n",
       "      <td>0.0</td>\n",
       "    </tr>\n",
       "    <tr>\n",
       "      <td>1</td>\n",
       "      <td>unif</td>\n",
       "      <td>0.886232</td>\n",
       "      <td>0.000596</td>\n",
       "      <td>3.0</td>\n",
       "      <td>0.0</td>\n",
       "    </tr>\n",
       "    <tr>\n",
       "      <td>0</td>\n",
       "      <td>block</td>\n",
       "      <td>0.885946</td>\n",
       "      <td>0.000614</td>\n",
       "      <td>3.0</td>\n",
       "      <td>0.0</td>\n",
       "    </tr>\n",
       "    <tr>\n",
       "      <td>1</td>\n",
       "      <td>unif</td>\n",
       "      <td>0.888947</td>\n",
       "      <td>0.000605</td>\n",
       "      <td>3.0</td>\n",
       "      <td>0.0</td>\n",
       "    </tr>\n",
       "    <tr>\n",
       "      <td>0</td>\n",
       "      <td>block</td>\n",
       "      <td>0.886854</td>\n",
       "      <td>0.000614</td>\n",
       "      <td>3.0</td>\n",
       "      <td>0.0</td>\n",
       "    </tr>\n",
       "    <tr>\n",
       "      <td>1</td>\n",
       "      <td>unif</td>\n",
       "      <td>0.884784</td>\n",
       "      <td>0.000619</td>\n",
       "      <td>3.0</td>\n",
       "      <td>0.0</td>\n",
       "    </tr>\n",
       "    <tr>\n",
       "      <td>0</td>\n",
       "      <td>block</td>\n",
       "      <td>0.886918</td>\n",
       "      <td>0.000602</td>\n",
       "      <td>3.0</td>\n",
       "      <td>0.0</td>\n",
       "    </tr>\n",
       "    <tr>\n",
       "      <td>1</td>\n",
       "      <td>unif</td>\n",
       "      <td>0.885333</td>\n",
       "      <td>0.000615</td>\n",
       "      <td>3.0</td>\n",
       "      <td>0.0</td>\n",
       "    </tr>\n",
       "    <tr>\n",
       "      <td>0</td>\n",
       "      <td>block</td>\n",
       "      <td>0.886970</td>\n",
       "      <td>0.000605</td>\n",
       "      <td>3.0</td>\n",
       "      <td>0.0</td>\n",
       "    </tr>\n",
       "    <tr>\n",
       "      <td>1</td>\n",
       "      <td>unif</td>\n",
       "      <td>0.886991</td>\n",
       "      <td>0.000607</td>\n",
       "      <td>3.0</td>\n",
       "      <td>0.0</td>\n",
       "    </tr>\n",
       "    <tr>\n",
       "      <td>0</td>\n",
       "      <td>block</td>\n",
       "      <td>0.882648</td>\n",
       "      <td>0.000628</td>\n",
       "      <td>3.0</td>\n",
       "      <td>0.0</td>\n",
       "    </tr>\n",
       "    <tr>\n",
       "      <td>1</td>\n",
       "      <td>unif</td>\n",
       "      <td>0.885835</td>\n",
       "      <td>0.000622</td>\n",
       "      <td>3.0</td>\n",
       "      <td>0.0</td>\n",
       "    </tr>\n",
       "    <tr>\n",
       "      <td>0</td>\n",
       "      <td>block</td>\n",
       "      <td>0.886606</td>\n",
       "      <td>0.000605</td>\n",
       "      <td>3.0</td>\n",
       "      <td>0.0</td>\n",
       "    </tr>\n",
       "    <tr>\n",
       "      <td>1</td>\n",
       "      <td>unif</td>\n",
       "      <td>0.886898</td>\n",
       "      <td>0.000605</td>\n",
       "      <td>3.0</td>\n",
       "      <td>0.0</td>\n",
       "    </tr>\n",
       "    <tr>\n",
       "      <td>0</td>\n",
       "      <td>block</td>\n",
       "      <td>0.885413</td>\n",
       "      <td>0.000612</td>\n",
       "      <td>3.0</td>\n",
       "      <td>0.0</td>\n",
       "    </tr>\n",
       "    <tr>\n",
       "      <td>1</td>\n",
       "      <td>unif</td>\n",
       "      <td>0.886940</td>\n",
       "      <td>0.000615</td>\n",
       "      <td>3.0</td>\n",
       "      <td>0.0</td>\n",
       "    </tr>\n",
       "    <tr>\n",
       "      <td>0</td>\n",
       "      <td>block</td>\n",
       "      <td>0.885844</td>\n",
       "      <td>0.000622</td>\n",
       "      <td>3.0</td>\n",
       "      <td>0.0</td>\n",
       "    </tr>\n",
       "    <tr>\n",
       "      <td>1</td>\n",
       "      <td>unif</td>\n",
       "      <td>0.886900</td>\n",
       "      <td>0.000596</td>\n",
       "      <td>3.0</td>\n",
       "      <td>0.0</td>\n",
       "    </tr>\n",
       "    <tr>\n",
       "      <td>0</td>\n",
       "      <td>block</td>\n",
       "      <td>0.888604</td>\n",
       "      <td>0.000593</td>\n",
       "      <td>3.0</td>\n",
       "      <td>0.0</td>\n",
       "    </tr>\n",
       "    <tr>\n",
       "      <td>1</td>\n",
       "      <td>unif</td>\n",
       "      <td>0.888333</td>\n",
       "      <td>0.000605</td>\n",
       "      <td>3.0</td>\n",
       "      <td>0.0</td>\n",
       "    </tr>\n",
       "    <tr>\n",
       "      <td>0</td>\n",
       "      <td>block</td>\n",
       "      <td>0.885058</td>\n",
       "      <td>0.000627</td>\n",
       "      <td>3.0</td>\n",
       "      <td>0.0</td>\n",
       "    </tr>\n",
       "    <tr>\n",
       "      <td>1</td>\n",
       "      <td>unif</td>\n",
       "      <td>0.886940</td>\n",
       "      <td>0.000602</td>\n",
       "      <td>3.0</td>\n",
       "      <td>0.0</td>\n",
       "    </tr>\n",
       "    <tr>\n",
       "      <td>0</td>\n",
       "      <td>block</td>\n",
       "      <td>0.885361</td>\n",
       "      <td>0.000626</td>\n",
       "      <td>3.0</td>\n",
       "      <td>0.0</td>\n",
       "    </tr>\n",
       "    <tr>\n",
       "      <td>1</td>\n",
       "      <td>unif</td>\n",
       "      <td>0.884289</td>\n",
       "      <td>0.000617</td>\n",
       "      <td>3.0</td>\n",
       "      <td>0.0</td>\n",
       "    </tr>\n",
       "  </tbody>\n",
       "</table>\n",
       "</div>"
      ],
      "text/plain": [
       "  control  magnetisation    mag_se  beta_factor  gradient\n",
       "0   block       0.856849  0.000769          2.0       0.0\n",
       "1    unif       0.852133  0.000783          2.0       0.0\n",
       "0   block       0.854435  0.000775          2.0       0.0\n",
       "1    unif       0.856352  0.000771          2.0       0.0\n",
       "0   block       0.853265  0.000779          2.0       0.0\n",
       "1    unif       0.853901  0.000782          2.0       0.0\n",
       "0   block       0.855412  0.000784          2.0       0.0\n",
       "1    unif       0.855151  0.000771          2.0       0.0\n",
       "0   block       0.858355  0.000777          2.0       0.0\n",
       "1    unif       0.851878  0.000784          2.0       0.0\n",
       "0   block       0.856231  0.000782          2.0       0.0\n",
       "1    unif       0.854331  0.000788          2.0       0.0\n",
       "0   block       0.857767  0.000768          2.0       0.0\n",
       "1    unif       0.852260  0.000790          2.0       0.0\n",
       "0   block       0.855489  0.000772          2.0       0.0\n",
       "1    unif       0.854659  0.000783          2.0       0.0\n",
       "0   block       0.857348  0.000771          2.0       0.0\n",
       "1    unif       0.858715  0.000766          2.0       0.0\n",
       "0   block       0.857079  0.000761          2.0       0.0\n",
       "1    unif       0.857045  0.000768          2.0       0.0\n",
       "0   block       0.858075  0.000765          2.0       0.0\n",
       "1    unif       0.853894  0.000783          2.0       0.0\n",
       "0   block       0.854073  0.000781          2.0       0.0\n",
       "1    unif       0.854328  0.000776          2.0       0.0\n",
       "0   block       0.857468  0.000761          2.0       0.0\n",
       "1    unif       0.853914  0.000778          2.0       0.0\n",
       "0   block       0.855885  0.000758          2.0       0.0\n",
       "1    unif       0.859033  0.000765          2.0       0.0\n",
       "0   block       0.854306  0.000779          2.0       0.0\n",
       "1    unif       0.855429  0.000776          2.0       0.0\n",
       "0   block       0.883910  0.000618          3.0       0.0\n",
       "1    unif       0.886887  0.000624          3.0       0.0\n",
       "0   block       0.889524  0.000610          3.0       0.0\n",
       "1    unif       0.885790  0.000606          3.0       0.0\n",
       "0   block       0.884373  0.000605          3.0       0.0\n",
       "1    unif       0.882493  0.000630          3.0       0.0\n",
       "0   block       0.886222  0.000615          3.0       0.0\n",
       "1    unif       0.886232  0.000596          3.0       0.0\n",
       "0   block       0.885946  0.000614          3.0       0.0\n",
       "1    unif       0.888947  0.000605          3.0       0.0\n",
       "0   block       0.886854  0.000614          3.0       0.0\n",
       "1    unif       0.884784  0.000619          3.0       0.0\n",
       "0   block       0.886918  0.000602          3.0       0.0\n",
       "1    unif       0.885333  0.000615          3.0       0.0\n",
       "0   block       0.886970  0.000605          3.0       0.0\n",
       "1    unif       0.886991  0.000607          3.0       0.0\n",
       "0   block       0.882648  0.000628          3.0       0.0\n",
       "1    unif       0.885835  0.000622          3.0       0.0\n",
       "0   block       0.886606  0.000605          3.0       0.0\n",
       "1    unif       0.886898  0.000605          3.0       0.0\n",
       "0   block       0.885413  0.000612          3.0       0.0\n",
       "1    unif       0.886940  0.000615          3.0       0.0\n",
       "0   block       0.885844  0.000622          3.0       0.0\n",
       "1    unif       0.886900  0.000596          3.0       0.0\n",
       "0   block       0.888604  0.000593          3.0       0.0\n",
       "1    unif       0.888333  0.000605          3.0       0.0\n",
       "0   block       0.885058  0.000627          3.0       0.0\n",
       "1    unif       0.886940  0.000602          3.0       0.0\n",
       "0   block       0.885361  0.000626          3.0       0.0\n",
       "1    unif       0.884289  0.000617          3.0       0.0"
      ]
     },
     "execution_count": 12,
     "metadata": {},
     "output_type": "execute_result"
    }
   ],
   "source": [
    "eval_data"
   ]
  },
  {
   "cell_type": "code",
   "execution_count": null,
   "metadata": {},
   "outputs": [],
   "source": []
  }
 ],
 "metadata": {
  "kernelspec": {
   "display_name": "Python 3",
   "language": "python",
   "name": "python3"
  },
  "language_info": {
   "codemirror_mode": {
    "name": "ipython",
    "version": 3
   },
   "file_extension": ".py",
   "mimetype": "text/x-python",
   "name": "python",
   "nbconvert_exporter": "python",
   "pygments_lexer": "ipython3",
   "version": "3.7.4"
  }
 },
 "nbformat": 4,
 "nbformat_minor": 2
}
