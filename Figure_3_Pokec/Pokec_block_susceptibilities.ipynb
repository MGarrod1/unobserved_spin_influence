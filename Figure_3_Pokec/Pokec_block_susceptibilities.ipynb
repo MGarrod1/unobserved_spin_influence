{
 "cells": [
  {
   "cell_type": "markdown",
   "metadata": {},
   "source": [
    "Compare the controls to the measured susceptibility values of the blocks in order to understand the degree to which proposed low budget controls correlate with the observed susceptibility of the Pokec network.\n",
    "\n",
    "Created 02/02/21"
   ]
  },
  {
   "cell_type": "code",
   "execution_count": 1,
   "metadata": {},
   "outputs": [],
   "source": [
    "import networkx as nx\n",
    "import numpy as np\n",
    "import pandas as pd\n",
    "import ast\n",
    "import seaborn as sns\n",
    "import matplotlib.pyplot as plt\n",
    "import tqdm\n",
    "import random\n",
    "import itertools\n",
    "import matplotlib\n",
    "from scipy import stats\n",
    "import math\n",
    "\n",
    "from ising_block_level_influence import N_Block_sbm_class as NBlock\n",
    "from ising_block_level_influence import projection_simplex as proj\n",
    "from ising_block_level_influence import mean_field_IIM\n",
    "from spatial_spin_monte_carlo import spatial_spin_monte_carlo as Spins\n",
    "import Pokec_processing as  PokProc\n",
    "\n",
    "from pokec_utils import *"
   ]
  },
  {
   "cell_type": "markdown",
   "metadata": {},
   "source": [
    "### Read in processed data\n",
    "\n",
    "This data has been generated using:\n",
    "\n",
    "1. **make_Pokec_reduced_profiles.ipynb** - which then feeds data into:\n",
    "\n",
    "2. The pre-processing script **'make_bratislava_graph_and_blocks.py'**."
   ]
  },
  {
   "cell_type": "code",
   "execution_count": 2,
   "metadata": {},
   "outputs": [
    {
     "name": "stdout",
     "output_type": "stream",
     "text": [
      "Computing critical temperature\n"
     ]
    },
    {
     "data": {
      "text/html": [
       "<div>\n",
       "<style scoped>\n",
       "    .dataframe tbody tr th:only-of-type {\n",
       "        vertical-align: middle;\n",
       "    }\n",
       "\n",
       "    .dataframe tbody tr th {\n",
       "        vertical-align: top;\n",
       "    }\n",
       "\n",
       "    .dataframe thead th {\n",
       "        text-align: right;\n",
       "    }\n",
       "</style>\n",
       "<table border=\"1\" class=\"dataframe\">\n",
       "  <thead>\n",
       "    <tr style=\"text-align: right;\">\n",
       "      <th></th>\n",
       "      <th>Unnamed: 0</th>\n",
       "      <th>block_name</th>\n",
       "      <th>block_size</th>\n",
       "      <th>average_age</th>\n",
       "      <th>age_group</th>\n",
       "    </tr>\n",
       "  </thead>\n",
       "  <tbody>\n",
       "    <tr>\n",
       "      <td>0</td>\n",
       "      <td>0</td>\n",
       "      <td>Okolie_ages_1-17</td>\n",
       "      <td>1234</td>\n",
       "      <td>9.0</td>\n",
       "      <td>ages_1-17</td>\n",
       "    </tr>\n",
       "    <tr>\n",
       "      <td>1</td>\n",
       "      <td>1</td>\n",
       "      <td>Okolie_ages_18-21</td>\n",
       "      <td>1939</td>\n",
       "      <td>19.5</td>\n",
       "      <td>ages_18-21</td>\n",
       "    </tr>\n",
       "    <tr>\n",
       "      <td>2</td>\n",
       "      <td>2</td>\n",
       "      <td>Okolie_ages_22-28</td>\n",
       "      <td>3154</td>\n",
       "      <td>25.0</td>\n",
       "      <td>ages_22-28</td>\n",
       "    </tr>\n",
       "    <tr>\n",
       "      <td>3</td>\n",
       "      <td>3</td>\n",
       "      <td>Okolie_ages_29-112</td>\n",
       "      <td>3458</td>\n",
       "      <td>70.5</td>\n",
       "      <td>ages_29-112</td>\n",
       "    </tr>\n",
       "    <tr>\n",
       "      <td>4</td>\n",
       "      <td>4</td>\n",
       "      <td>Petrzalka_ages_1-17</td>\n",
       "      <td>1398</td>\n",
       "      <td>9.0</td>\n",
       "      <td>ages_1-17</td>\n",
       "    </tr>\n",
       "  </tbody>\n",
       "</table>\n",
       "</div>"
      ],
      "text/plain": [
       "   Unnamed: 0           block_name  block_size  average_age    age_group\n",
       "0           0     Okolie_ages_1-17        1234          9.0    ages_1-17\n",
       "1           1    Okolie_ages_18-21        1939         19.5   ages_18-21\n",
       "2           2    Okolie_ages_22-28        3154         25.0   ages_22-28\n",
       "3           3   Okolie_ages_29-112        3458         70.5  ages_29-112\n",
       "4           4  Petrzalka_ages_1-17        1398          9.0    ages_1-17"
      ]
     },
     "execution_count": 2,
     "metadata": {},
     "output_type": "execute_result"
    }
   ],
   "source": [
    "graph = nx.read_graphml('Data/Bratislava_graph.graphml')\n",
    "beta_c = Spins.crit_beta_sparse(graph)\n",
    "bratislava_profiles = pd.read_csv(\"Data/bratislava_profiles.csv\")\n",
    "coupling_graph = nx.read_graphml('Data/Bratislava_coupling.graphml')\n",
    "block_data = pd.read_csv('Data/block_info.csv',converters={'Block' : ast.literal_eval})\n",
    "mean_block_ages = list(block_data['average_age'])\n",
    "block_sizes = list(block_data['block_size'])\n",
    "block_names = list(block_data['block_name'])\n",
    "block_data['age_group'] = [ 'ages_' + k.split('_')[-1] for k in list(block_data['block_name'])]\n",
    "block_data.head()"
   ]
  },
  {
   "cell_type": "code",
   "execution_count": 3,
   "metadata": {},
   "outputs": [],
   "source": [
    "def linear_field(x : np.ndarray,gradient :float) :\n",
    "    return gradient*x\n",
    "#Scale ages to [-1,1]:\n",
    "rescaled_ages = [ (k-np.mean(mean_block_ages))/(max(mean_block_ages)-min(mean_block_ages)) for k in mean_block_ages ]"
   ]
  },
  {
   "cell_type": "code",
   "execution_count": 4,
   "metadata": {},
   "outputs": [],
   "source": [
    "bratislava_profiles_indices = bratislava_profiles.reset_index()\n",
    "groups = [ bratislava_profiles_indices.loc[bratislava_profiles_indices['block']==block] for block in block_names]\n",
    "groups_node_ids = [list(k['index']) for k in groups]"
   ]
  },
  {
   "cell_type": "code",
   "execution_count": 7,
   "metadata": {},
   "outputs": [
    {
     "name": "stdout",
     "output_type": "stream",
     "text": [
      "block gradient computed\n"
     ]
    },
    {
     "data": {
      "application/vnd.jupyter.widget-view+json": {
       "model_id": "f0d37245eee747e996c85077198763c6",
       "version_major": 2,
       "version_minor": 0
      },
      "text/plain": [
       "HBox(children=(IntProgress(value=0, max=600000), HTML(value='')))"
      ]
     },
     "metadata": {},
     "output_type": "display_data"
    },
    {
     "name": "stdout",
     "output_type": "stream",
     "text": [
      "\n"
     ]
    }
   ],
   "source": [
    "def check_group(input_val,group_label) :\n",
    "    if input_val == group_label :\n",
    "        return 1.0\n",
    "    else :\n",
    "        return 0.0\n",
    "    \n",
    "def mean_and_se(values) :\n",
    "    return f\"{np.mean(values)} +/- {stats.sem(values)} \"\n",
    "\n",
    "#Seed the random number generators:\n",
    "seed = 1\n",
    "random.seed(seed)\n",
    "np.random.seed(seed)\n",
    "\n",
    "Field_Budget = 2500.0\n",
    "T=10000\n",
    "T_Burn = 2*300000\n",
    "Samples = 15\n",
    "sample_frac = 1.0 # for snapshot control\n",
    "eval_data = pd.DataFrame()\n",
    "control_data = pd.DataFrame()\n",
    "\n",
    "init_sign=-1.0\n",
    "\n",
    "beta_factor_vals = [8.0]\n",
    "# grad_vals =  np.arange(1.0,11.0,1.0)\n",
    "grad_vals=[0.0]\n",
    "\n",
    "gradient=2.0\n",
    "\n",
    "age_field = [linear_field(a,gradient) for a in rescaled_ages ]\n",
    "age_field_map = {k:j for k,j in zip(list(block_data['age_group']),age_field)}\n",
    "\n",
    "# Block MF setup:\n",
    "coupling_graph = nx.convert_node_labels_to_integers(coupling_graph)\n",
    "block_graph_ising_system = mean_field_IIM.mean_field_ising_system(coupling_graph,age_field)\n",
    "block_graph_ising_system.gamma = 1.0\n",
    "block_graph_ising_system.tol = 1E-5\n",
    "block_graph_ising_system.max_mf_fp_iterations = 10000\n",
    "block_graph_ising_system.mf_fp_init_state = init_sign*np.ones(len(block_sizes))\n",
    "block_graph_ising_system.mf_fp_noisy = False\n",
    "\n",
    "# Full graph Mf setup\n",
    "background_field = np.asarray([age_field_map[k] for k in list(bratislava_profiles['age_group'])])\n",
    "relab_graph = nx.relabel.convert_node_labels_to_integers(graph)\n",
    "full_graph_ising_system = mean_field_IIM.mean_field_ising_system(relab_graph,background_field)\n",
    "full_graph_ising_system.mf_fp_init_state = init_sign*np.ones(len(graph))\n",
    "full_graph_ising_system.mf_fp_noisy = False\n",
    "\n",
    "beta_factor=8.0\n",
    "\n",
    "\n",
    "beta = beta_c*beta_factor\n",
    "\n",
    "# Block gradient computation: \n",
    "m_block = block_graph_ising_system.mf_magnetization(age_field,beta)\n",
    "mag_gradient = block_graph_ising_system.mf_magnetization_gradient(m_block, beta)\n",
    "mag_grad_map = { i:j for i,j in zip(block_names,mag_gradient)}\n",
    "block_names_list = list(bratislava_profiles['block'])\n",
    "block_mf_gradient = np.asarray([mag_grad_map[k] for k in block_names_list])\n",
    "\n",
    "print(\"block gradient computed\")\n",
    "# Full gradient computation: \n",
    "# m_full = full_graph_ising_system.mf_magnetization(background_field,beta)\n",
    "# mag_grad_full = full_graph_ising_system.mf_sparse_magnetisation_gradient(m_full, beta)\n",
    "\n",
    "# Compute the controls:\n",
    "# H_full = np.sum(mag_grad_full)\n",
    "H_block = np.sum(block_mf_gradient)\n",
    "uniform_control = (Field_Budget / len(graph)) * np.ones(len(graph))\n",
    "# mag_grad_full_at_field_budget = (Field_Budget/H_full)*mag_grad_full\n",
    "mag_grad_block_at_field_budget = (Field_Budget/H_block)*block_mf_gradient\n",
    "negative_cancelling_field = []\n",
    "for field in background_field :\n",
    "    if field < 0.0:\n",
    "        negative_cancelling_field.append(-1.0*field)\n",
    "    else:\n",
    "        negative_cancelling_field.append(0.0)\n",
    "negative_cancelling_field = np.asarray(negative_cancelling_field)\n",
    "negative_cancelling_field = (Field_Budget/np.sum(negative_cancelling_field))*np.asarray(negative_cancelling_field) \n",
    "swing_voter_nodes = np.asarray([check_group(k,'ages_22-28') for k in list(bratislava_profiles['age_group']) ])\n",
    "H_SV = np.sum(swing_voter_nodes)\n",
    "swing_voter_control =  (Field_Budget/H_SV)*swing_voter_nodes\n",
    "\n",
    "#Snapshot control\n",
    "initial_state = init_sign*np.ones(len(graph))\n",
    "block_snapshot = Run_MonteCarlo_Snapshot(relab_graph,groups_node_ids ,0, beta_factor,beta_c ,T_Burn=T_Burn,addition_control=None,sampling_method=\"Metropolis\",full_graph_field=background_field,initial_state=initial_state,frac_to_sample=sample_frac)\n",
    "snapshot_gradient = [ (1.0-k**2) for k in block_snapshot ] \n",
    "snapshot_grad_map = { i:j for i,j in zip(block_names,snapshot_gradient)}\n",
    "snapshot_influence = np.asarray([snapshot_grad_map[k] for k in block_names_list])\n",
    "#Normalize:\n",
    "H_snapshot = np.sum(snapshot_influence)\n",
    "snapshot_influence = (Field_Budget/H_snapshot)*snapshot_influence\n",
    "\n",
    "\n",
    "con_names = ['no con','unif','full','block','sv','nc','snapshot']\n",
    "        \n",
    "        "
   ]
  },
  {
   "cell_type": "code",
   "execution_count": 8,
   "metadata": {},
   "outputs": [
    {
     "data": {
      "text/plain": [
       "array([-1., -1., -1., ..., -1., -1., -1.])"
      ]
     },
     "execution_count": 8,
     "metadata": {},
     "output_type": "execute_result"
    }
   ],
   "source": [
    "initial_state"
   ]
  },
  {
   "cell_type": "code",
   "execution_count": null,
   "metadata": {},
   "outputs": [
    {
     "data": {
      "application/vnd.jupyter.widget-view+json": {
       "model_id": "c0b6a3155d994baf8d302b9cfaeb0d89",
       "version_major": 2,
       "version_minor": 0
      },
      "text/plain": [
       "HBox(children=(IntProgress(value=0, max=50000), HTML(value='')))"
      ]
     },
     "metadata": {},
     "output_type": "display_data"
    }
   ],
   "source": [
    "T=50000\n",
    "block_level_mags = Run_MonteCarlo_Block(relab_graph ,groups_node_ids,T, beta_factor,beta_c, T_Burn=0,addition_control=None,sampling_method=\"Metropolis\",initial_state=initial_state,full_graph_field=background_field)"
   ]
  },
  {
   "cell_type": "code",
   "execution_count": null,
   "metadata": {},
   "outputs": [],
   "source": [
    "for k in range(12) :\n",
    "    plt.plot(np.asarray(block_level_mags).T[k])"
   ]
  },
  {
   "cell_type": "code",
   "execution_count": null,
   "metadata": {},
   "outputs": [],
   "source": []
  },
  {
   "cell_type": "code",
   "execution_count": null,
   "metadata": {},
   "outputs": [],
   "source": []
  },
  {
   "cell_type": "code",
   "execution_count": null,
   "metadata": {},
   "outputs": [],
   "source": []
  },
  {
   "cell_type": "code",
   "execution_count": null,
   "metadata": {},
   "outputs": [],
   "source": [
    "for s in tqdm.tqdm_notebook( range(Samples) )  : \n",
    "\n",
    "            initial_state = init_sign*np.ones(len(graph))\n",
    "            no_control = Run_MonteCarlo_Average(relab_graph, T, beta_factor,beta_c, T_Burn=T_Burn,addition_control=None,sampling_method=\"Metropolis\",full_graph_field=background_field,initial_state=initial_state)\n",
    "\n",
    "            initial_state = init_sign*np.ones(len(graph))\n",
    "            unif_control_field = np.asarray([i+j for i,j in zip(uniform_control,background_field)])\n",
    "            unif_control = Run_MonteCarlo_Average(relab_graph, T, beta_factor,beta_c, T_Burn=T_Burn,addition_control=None,sampling_method=\"Metropolis\",full_graph_field=unif_control_field,initial_state=initial_state)\n",
    "\n",
    "            initial_state = init_sign*np.ones(len(graph))\n",
    "            full_sus_control_field = np.asarray([i+j for i,j in zip(mag_grad_full_at_field_budget,background_field)])\n",
    "            full_sus_control_mags = Run_MonteCarlo_Average(relab_graph, T, beta_factor,beta_c, T_Burn=T_Burn,addition_control=None,sampling_method=\"Metropolis\",full_graph_field=full_sus_control_field,initial_state=initial_state)\n",
    "\n",
    "            initial_state = init_sign*np.ones(len(graph))\n",
    "            block_sus_control_field = np.asarray([i+j for i,j in zip(mag_grad_block_at_field_budget,background_field)])\n",
    "            block_sus_control_mags = Run_MonteCarlo_Average(relab_graph, T, beta_factor,beta_c, T_Burn=T_Burn,addition_control=None,sampling_method=\"Metropolis\",full_graph_field=block_sus_control_field ,initial_state=initial_state)\n",
    "\n",
    "            initial_state = init_sign*np.ones(len(graph))\n",
    "            sv_control_field = np.asarray([i+j for i,j in zip(swing_voter_control,background_field)])\n",
    "            sv_control_mags = Run_MonteCarlo_Average(relab_graph, T, beta_factor,beta_c, T_Burn=T_Burn,addition_control=None,sampling_method=\"Metropolis\",full_graph_field=sv_control_field  ,initial_state=initial_state)\n",
    "\n",
    "            initial_state = init_sign*np.ones(len(graph))\n",
    "            nc_control_field = np.asarray([i+j for i,j in zip(negative_cancelling_field,background_field)])\n",
    "            nc_control_mags = Run_MonteCarlo_Average(relab_graph, T, beta_factor,beta_c, T_Burn=T_Burn,addition_control=None,sampling_method=\"Metropolis\",full_graph_field=nc_control_field  ,initial_state=initial_state)\n",
    "\n",
    "            initial_state = init_sign*np.ones(len(graph))\n",
    "            snapshot_control_field = np.asarray([i+j for i,j in zip(snapshot_influence,background_field)])\n",
    "            snapshot_control_mags = Run_MonteCarlo_Average(relab_graph, T, beta_factor,beta_c, T_Burn=T_Burn,addition_control=None,sampling_method=\"Metropolis\",full_graph_field=snapshot_control_field  ,initial_state=initial_state)\n",
    "\n",
    "            \n",
    "            means=[]\n",
    "            ses=[]\n",
    "            #Loop in same order as cont_names\n",
    "            control_list = [no_control,unif_control,full_sus_control_mags,block_sus_control_mags,sv_control_mags,nc_control_mags,snapshot_control_mags]\n",
    "            for k in control_list :\n",
    "                print(mean_and_se(k))\n",
    "                means.append(np.mean(k))\n",
    "                ses.append(stats.sem(k))\n",
    "\n",
    "            eval_data = eval_data.append(pd.DataFrame({'control':con_names,'magnetisation':means,'mag_se':ses,'beta_factor':beta_factor*np.ones(len(means)),'gradient':gradient*np.ones(len(means))}))\n",
    "            #eval_data.to_csv(\"Data/Pokec_control_eval_data_positive.csv\")\n",
    "            #eval_data.to_csv(\"Data/Pokec_control_eval_data_no_field.csv\")"
   ]
  }
 ],
 "metadata": {
  "kernelspec": {
   "display_name": "Python 3",
   "language": "python",
   "name": "python3"
  },
  "language_info": {
   "codemirror_mode": {
    "name": "ipython",
    "version": 3
   },
   "file_extension": ".py",
   "mimetype": "text/x-python",
   "name": "python",
   "nbconvert_exporter": "python",
   "pygments_lexer": "ipython3",
   "version": "3.7.4"
  }
 },
 "nbformat": 4,
 "nbformat_minor": 2
}
