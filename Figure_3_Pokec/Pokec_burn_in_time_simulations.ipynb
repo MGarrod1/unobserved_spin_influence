{
 "cells": [
  {
   "cell_type": "markdown",
   "metadata": {},
   "source": [
    "Notebook to show how many spin flips it takes to come to equilibrium on the Pokec network. Also use this to explore the impact of different initial conditions/parameters on the burn-in time.\n",
    "\n",
    "To do:\n",
    "- Change convention for showing the number of timesteps from $T$ to $T$/$N$ (i.e. number of spin flips per node).\n",
    "\n",
    "Created on 06/01/20"
   ]
  },
  {
   "cell_type": "code",
   "execution_count": 1,
   "metadata": {},
   "outputs": [],
   "source": [
    "import networkx as nx\n",
    "import numpy as np\n",
    "import pandas as pd\n",
    "import ast\n",
    "import seaborn as sns\n",
    "import matplotlib.pyplot as plt\n",
    "import tqdm\n",
    "import random\n",
    "import itertools\n",
    "import matplotlib\n",
    "\n",
    "from ising_block_level_influence import N_Block_sbm_class as NBlock\n",
    "from ising_block_level_influence import projection_simplex as proj\n",
    "from ising_block_level_influence import mean_field_IIM\n",
    "from spatial_spin_monte_carlo import spatial_spin_monte_carlo as Spins\n",
    "import Pokec_processing as  PokProc\n",
    "\n",
    "from pokec_utils import *"
   ]
  },
  {
   "cell_type": "markdown",
   "metadata": {},
   "source": [
    "### Read in processed data\n",
    "\n",
    "This data has been generated using:\n",
    "\n",
    "1. **make_Pokec_reduced_profiles.ipynb** - which then feeds data into:\n",
    "\n",
    "2. The pre-processing script **'make_bratislava_graph_and_blocks.py'**."
   ]
  },
  {
   "cell_type": "code",
   "execution_count": 2,
   "metadata": {},
   "outputs": [
    {
     "data": {
      "text/html": [
       "<div>\n",
       "<style scoped>\n",
       "    .dataframe tbody tr th:only-of-type {\n",
       "        vertical-align: middle;\n",
       "    }\n",
       "\n",
       "    .dataframe tbody tr th {\n",
       "        vertical-align: top;\n",
       "    }\n",
       "\n",
       "    .dataframe thead th {\n",
       "        text-align: right;\n",
       "    }\n",
       "</style>\n",
       "<table border=\"1\" class=\"dataframe\">\n",
       "  <thead>\n",
       "    <tr style=\"text-align: right;\">\n",
       "      <th></th>\n",
       "      <th>Unnamed: 0</th>\n",
       "      <th>block_name</th>\n",
       "      <th>block_size</th>\n",
       "      <th>average_age</th>\n",
       "      <th>age_group</th>\n",
       "    </tr>\n",
       "  </thead>\n",
       "  <tbody>\n",
       "    <tr>\n",
       "      <td>0</td>\n",
       "      <td>0</td>\n",
       "      <td>Okolie_ages_1-17</td>\n",
       "      <td>1234</td>\n",
       "      <td>9.0</td>\n",
       "      <td>ages_1-17</td>\n",
       "    </tr>\n",
       "    <tr>\n",
       "      <td>1</td>\n",
       "      <td>1</td>\n",
       "      <td>Okolie_ages_18-21</td>\n",
       "      <td>1939</td>\n",
       "      <td>19.5</td>\n",
       "      <td>ages_18-21</td>\n",
       "    </tr>\n",
       "    <tr>\n",
       "      <td>2</td>\n",
       "      <td>2</td>\n",
       "      <td>Okolie_ages_22-28</td>\n",
       "      <td>3154</td>\n",
       "      <td>25.0</td>\n",
       "      <td>ages_22-28</td>\n",
       "    </tr>\n",
       "    <tr>\n",
       "      <td>3</td>\n",
       "      <td>3</td>\n",
       "      <td>Okolie_ages_29-112</td>\n",
       "      <td>3458</td>\n",
       "      <td>70.5</td>\n",
       "      <td>ages_29-112</td>\n",
       "    </tr>\n",
       "    <tr>\n",
       "      <td>4</td>\n",
       "      <td>4</td>\n",
       "      <td>Petrzalka_ages_1-17</td>\n",
       "      <td>1398</td>\n",
       "      <td>9.0</td>\n",
       "      <td>ages_1-17</td>\n",
       "    </tr>\n",
       "  </tbody>\n",
       "</table>\n",
       "</div>"
      ],
      "text/plain": [
       "   Unnamed: 0           block_name  block_size  average_age    age_group\n",
       "0           0     Okolie_ages_1-17        1234          9.0    ages_1-17\n",
       "1           1    Okolie_ages_18-21        1939         19.5   ages_18-21\n",
       "2           2    Okolie_ages_22-28        3154         25.0   ages_22-28\n",
       "3           3   Okolie_ages_29-112        3458         70.5  ages_29-112\n",
       "4           4  Petrzalka_ages_1-17        1398          9.0    ages_1-17"
      ]
     },
     "execution_count": 2,
     "metadata": {},
     "output_type": "execute_result"
    }
   ],
   "source": [
    "graph = nx.read_graphml('Data/Bratislava_graph.graphml')\n",
    "bratislava_profiles = pd.read_csv(\"Data/bratislava_profiles.csv\")\n",
    "coupling_graph = nx.read_graphml('Data/Bratislava_coupling.graphml')\n",
    "block_data = pd.read_csv('Data/block_info.csv',converters={'Block' : ast.literal_eval})\n",
    "mean_block_ages = list(block_data['average_age'])\n",
    "block_sizes = list(block_data['block_size'])\n",
    "block_names = list(block_data['block_name'])\n",
    "block_data['age_group'] = [ 'ages_' + k.split('_')[-1] for k in list(block_data['block_name'])]\n",
    "block_data.head()"
   ]
  },
  {
   "cell_type": "code",
   "execution_count": 3,
   "metadata": {},
   "outputs": [
    {
     "name": "stdout",
     "output_type": "stream",
     "text": [
      "Computing critical temperature\n"
     ]
    }
   ],
   "source": [
    "def linear_field(x : np.ndarray,gradient :float) :\n",
    "    return gradient*x\n",
    "\n",
    "#Scale ages to [-1,1]:\n",
    "rescaled_ages = [ (k-np.mean(mean_block_ages))/(max(mean_block_ages)-min(mean_block_ages)) for k in mean_block_ages ]\n",
    "\n",
    "beta_c = Spins.crit_beta_sparse(graph)\n",
    "\n",
    "bratislava_profiles_indices = bratislava_profiles.reset_index()\n",
    "groups = [ bratislava_profiles_indices.loc[bratislava_profiles_indices['block']==block] for block in block_names]\n",
    "groups_node_ids = [list(k['index']) for k in groups]"
   ]
  },
  {
   "cell_type": "markdown",
   "metadata": {},
   "source": [
    "## Spin series: sample chains for different initial conditions\n",
    "\n",
    "Use the parameters used in Figure 3 of main text.\n",
    "\n",
    "This version generates spin series for a single metastable state."
   ]
  },
  {
   "cell_type": "code",
   "execution_count": null,
   "metadata": {},
   "outputs": [
    {
     "data": {
      "application/vnd.jupyter.widget-view+json": {
       "model_id": "ea4533bb0a0040c79077e9c9710d7e12",
       "version_major": 2,
       "version_minor": 0
      },
      "text/plain": [
       "HBox(children=(IntProgress(value=0), HTML(value='')))"
      ]
     },
     "metadata": {},
     "output_type": "display_data"
    },
    {
     "data": {
      "application/vnd.jupyter.widget-view+json": {
       "model_id": "38b6896b89f8445a8d2344e5d45dba84",
       "version_major": 2,
       "version_minor": 0
      },
      "text/plain": [
       "HBox(children=(IntProgress(value=0, max=300000), HTML(value='')))"
      ]
     },
     "metadata": {},
     "output_type": "display_data"
    },
    {
     "name": "stdout",
     "output_type": "stream",
     "text": [
      "\n"
     ]
    },
    {
     "data": {
      "application/vnd.jupyter.widget-view+json": {
       "model_id": "5d7c055fb4c24c45a05ac7dac359825a",
       "version_major": 2,
       "version_minor": 0
      },
      "text/plain": [
       "HBox(children=(IntProgress(value=0, max=300000), HTML(value='')))"
      ]
     },
     "metadata": {},
     "output_type": "display_data"
    },
    {
     "name": "stdout",
     "output_type": "stream",
     "text": [
      "\n"
     ]
    },
    {
     "data": {
      "application/vnd.jupyter.widget-view+json": {
       "model_id": "ce7184ad4a724a2e8b58a9993f815342",
       "version_major": 2,
       "version_minor": 0
      },
      "text/plain": [
       "HBox(children=(IntProgress(value=0, max=300000), HTML(value='')))"
      ]
     },
     "metadata": {},
     "output_type": "display_data"
    }
   ],
   "source": [
    "#Seed the random number generators:\n",
    "seed = 1\n",
    "random.seed(seed)\n",
    "np.random.seed(seed)\n",
    "\n",
    "beta_factor_vals = [(10**k) for k in np.linspace(-1,1.8,25)]\n",
    "grad_vals = [1.0,5.0,10.0]\n",
    "\n",
    "beta_f=4.5\n",
    "gradient=10.0\n",
    "\n",
    "init_type='random'  #'neg'\n",
    "\n",
    "T = int(3*(10**5))\n",
    "T_Burn = 0 # Set this as zero to return the full length in 'Run_MonteCarlo_Average'\n",
    "\n",
    "#Field setup:\n",
    "\n",
    "age_field = [linear_field(a,gradient) for a in rescaled_ages ]\n",
    "age_field_map = {k:j for k,j in zip(list(block_data['age_group']),age_field)}\n",
    "background_field = np.asarray([age_field_map[k] for k in list(bratislava_profiles['age_group'])])\n",
    "\n",
    "# Inverse temperature: \n",
    "beta = beta_f*beta_c\n",
    "\n",
    "relab_graph = nx.relabel.convert_node_labels_to_integers(graph)\n",
    "\n",
    "\n",
    "samples=100\n",
    "mc_chains={}\n",
    "index=0\n",
    "\n",
    "sample_spacing=1000\n",
    "mc_chains['timestep']=list(np.arange(0,T,1))[0::sample_spacing]\n",
    "for samp in tqdm.tqdm_notebook( range(samples) ) :\n",
    "\n",
    "    # MC simulations: initial condition\n",
    "    if init_type=='neg' :\n",
    "        initial_state = -1.0*np.ones(len(graph))\n",
    "    elif init_type=='random' :\n",
    "        initial_state = np.random.choice([-1,1],len(graph))\n",
    "    elif init_type=='pos' :\n",
    "        initial_state = 1.0*np.ones(len(graph))\n",
    "    \n",
    "    \n",
    "    spin_series = Run_MonteCarlo_Average(relab_graph, T, beta_f,beta_c, T_Burn=T_Burn,addition_control=None,sampling_method=\"Metropolis\",full_graph_field=background_field,initial_state=initial_state)\n",
    "    \n",
    "    mc_chains[f\"chain_{index}\"]=spin_series[0::sample_spacing]\n",
    "    \n",
    "    # Add params to filename or dataset.\n",
    "    df=pd.DataFrame(mc_chains)\n",
    "    df.to_csv(f\"Data/mc_chain_examples/{init_type}_init_chain_data_beta_{beta_f}_g_{gradient}\".replace(\".\",\"-\") + \".csv\",index=False)\n",
    "    \n",
    "    index+=1"
   ]
  },
  {
   "cell_type": "code",
   "execution_count": null,
   "metadata": {},
   "outputs": [],
   "source": [
    "timesteps=np.arange(0,T,1)\n",
    "flips_per_spin=[ k/len(relab_graph) for k in timesteps]\n",
    "\n",
    "fig,ax = plt.subplots(figsize=(6,6))\n",
    "for spin_series in mc_chains :\n",
    "    plt.plot(flips_per_spin,spin_series)\n",
    "plt.xlabel(\"Flips per spin\",fontsize=20)\n",
    "plt.ylabel(\"Magnetisation\",fontsize=20)\n",
    "plt.xticks(fontsize=14)\n",
    "plt.yticks(fontsize=14)\n",
    "\n",
    "plt.savefig(\"Plots/spin_burn_in_neg_MS\")"
   ]
  },
  {
   "cell_type": "markdown",
   "metadata": {},
   "source": [
    "## spins: random initial condition\n",
    "\n",
    "Results from this suggest that 10 flips per spin is defintiely not enough for random initial conditions.\n",
    "\n",
    "To do: add saving script."
   ]
  },
  {
   "cell_type": "code",
   "execution_count": null,
   "metadata": {},
   "outputs": [],
   "source": [
    "#Seed the random number generators:\n",
    "seed = 1\n",
    "random.seed(seed)\n",
    "np.random.seed(seed)\n",
    "\n",
    "beta_factor_vals = [(10**k) for k in np.linspace(-1,1.8,25)]\n",
    "grad_vals = [1.0,5.0,10.0]\n",
    "\n",
    "beta_f=3.0\n",
    "gradient=10.0\n",
    "\n",
    "T = int(3*(10**6))\n",
    "T_Burn = 0 # Set this as zero to return the full length in 'Run_MonteCarlo_Average'\n",
    "\n",
    "#Field setup:\n",
    "\n",
    "age_field = [linear_field(a,gradient) for a in rescaled_ages ]\n",
    "age_field_map = {k:j for k,j in zip(list(block_data['age_group']),age_field)}\n",
    "background_field = np.asarray([age_field_map[k] for k in list(bratislava_profiles['age_group'])])\n",
    "\n",
    "# Inverse temperature: \n",
    "beta = beta_f*beta_c\n",
    "\n",
    "relab_graph = nx.relabel.convert_node_labels_to_integers(graph)\n",
    "\n",
    "\n",
    "samples=100\n",
    "mc_chains={}\n",
    "index=0\n",
    "\n",
    "sample_spacing=1000\n",
    "mc_chains['timestep']=list(np.arange(0,T,1))[0::sample_spacing]\n",
    "for samp in tqdm.tqdm_notebook( range(samples) ) :\n",
    "\n",
    "    # MC simulations: -VE initial condition\n",
    "    initial_state = np.random.choice([-1,1],len(graph))\n",
    "    \n",
    "    spin_series = Run_MonteCarlo_Average(relab_graph, T, beta_f,beta_c, T_Burn=T_Burn,addition_control=None,sampling_method=\"Metropolis\",full_graph_field=background_field,initial_state=initial_state)\n",
    "    \n",
    "    mc_chains[f\"chain_{index}\"]=spin_series[0::sample_spacing]\n",
    "    \n",
    "    # Add params to filename or dataset.\n",
    "    df=pd.DataFrame(mc_chains)\n",
    "    df.to_csv(f\"Data/mc_chain_examples/random_init_chain_data_beta_{beta_f}_g_{gradient}\".replace(\".\",\"-\") + \".csv\",index=False)\n",
    "    \n",
    "    index+=1"
   ]
  },
  {
   "cell_type": "code",
   "execution_count": null,
   "metadata": {},
   "outputs": [],
   "source": [
    "data=pd.read_csv(f\"Data/mc_chain_examples/random_init_chain_data_beta_{beta_f}_g_{gradient}\".replace(\".\",\"-\") + \".csv\")\n",
    "data"
   ]
  },
  {
   "cell_type": "code",
   "execution_count": null,
   "metadata": {},
   "outputs": [],
   "source": []
  }
 ],
 "metadata": {
  "kernelspec": {
   "display_name": "Python 3",
   "language": "python",
   "name": "python3"
  },
  "language_info": {
   "codemirror_mode": {
    "name": "ipython",
    "version": 3
   },
   "file_extension": ".py",
   "mimetype": "text/x-python",
   "name": "python",
   "nbconvert_exporter": "python",
   "pygments_lexer": "ipython3",
   "version": "3.7.4"
  }
 },
 "nbformat": 4,
 "nbformat_minor": 2
}
