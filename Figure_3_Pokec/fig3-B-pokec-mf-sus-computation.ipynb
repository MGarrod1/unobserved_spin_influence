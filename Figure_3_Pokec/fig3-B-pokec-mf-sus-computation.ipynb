{
 "cells": [
  {
   "cell_type": "markdown",
   "metadata": {},
   "source": [
    "Compute and store the mf full graph susceptibility for different parameters to explore what factors make a good influence strategy.\n",
    "\n",
    "Created on: 12/02/21"
   ]
  },
  {
   "cell_type": "code",
   "execution_count": 1,
   "metadata": {},
   "outputs": [],
   "source": [
    "import networkx as nx\n",
    "import numpy as np\n",
    "import pandas as pd\n",
    "import ast\n",
    "import seaborn as sns\n",
    "import matplotlib.pyplot as plt\n",
    "import tqdm\n",
    "import random\n",
    "import itertools\n",
    "import matplotlib\n",
    "from scipy import stats\n",
    "import math\n",
    "\n",
    "from ising_block_level_influence import N_Block_sbm_class as NBlock\n",
    "from ising_block_level_influence import projection_simplex as proj\n",
    "from ising_block_level_influence import mean_field_IIM\n",
    "from spatial_spin_monte_carlo import spatial_spin_monte_carlo as Spins\n",
    "import Pokec_processing as  PokProc\n",
    "\n",
    "from pokec_utils import *"
   ]
  },
  {
   "cell_type": "code",
   "execution_count": 2,
   "metadata": {},
   "outputs": [
    {
     "name": "stdout",
     "output_type": "stream",
     "text": [
      "Computing critical temperature\n"
     ]
    },
    {
     "data": {
      "text/html": [
       "<div>\n",
       "<style scoped>\n",
       "    .dataframe tbody tr th:only-of-type {\n",
       "        vertical-align: middle;\n",
       "    }\n",
       "\n",
       "    .dataframe tbody tr th {\n",
       "        vertical-align: top;\n",
       "    }\n",
       "\n",
       "    .dataframe thead th {\n",
       "        text-align: right;\n",
       "    }\n",
       "</style>\n",
       "<table border=\"1\" class=\"dataframe\">\n",
       "  <thead>\n",
       "    <tr style=\"text-align: right;\">\n",
       "      <th></th>\n",
       "      <th>Unnamed: 0</th>\n",
       "      <th>block_name</th>\n",
       "      <th>block_size</th>\n",
       "      <th>average_age</th>\n",
       "      <th>age_group</th>\n",
       "    </tr>\n",
       "  </thead>\n",
       "  <tbody>\n",
       "    <tr>\n",
       "      <td>0</td>\n",
       "      <td>0</td>\n",
       "      <td>Okolie_ages_1-17</td>\n",
       "      <td>1234</td>\n",
       "      <td>9.0</td>\n",
       "      <td>ages_1-17</td>\n",
       "    </tr>\n",
       "    <tr>\n",
       "      <td>1</td>\n",
       "      <td>1</td>\n",
       "      <td>Okolie_ages_18-21</td>\n",
       "      <td>1939</td>\n",
       "      <td>19.5</td>\n",
       "      <td>ages_18-21</td>\n",
       "    </tr>\n",
       "    <tr>\n",
       "      <td>2</td>\n",
       "      <td>2</td>\n",
       "      <td>Okolie_ages_22-28</td>\n",
       "      <td>3154</td>\n",
       "      <td>25.0</td>\n",
       "      <td>ages_22-28</td>\n",
       "    </tr>\n",
       "    <tr>\n",
       "      <td>3</td>\n",
       "      <td>3</td>\n",
       "      <td>Okolie_ages_29-112</td>\n",
       "      <td>3458</td>\n",
       "      <td>70.5</td>\n",
       "      <td>ages_29-112</td>\n",
       "    </tr>\n",
       "    <tr>\n",
       "      <td>4</td>\n",
       "      <td>4</td>\n",
       "      <td>Petrzalka_ages_1-17</td>\n",
       "      <td>1398</td>\n",
       "      <td>9.0</td>\n",
       "      <td>ages_1-17</td>\n",
       "    </tr>\n",
       "  </tbody>\n",
       "</table>\n",
       "</div>"
      ],
      "text/plain": [
       "   Unnamed: 0           block_name  block_size  average_age    age_group\n",
       "0           0     Okolie_ages_1-17        1234          9.0    ages_1-17\n",
       "1           1    Okolie_ages_18-21        1939         19.5   ages_18-21\n",
       "2           2    Okolie_ages_22-28        3154         25.0   ages_22-28\n",
       "3           3   Okolie_ages_29-112        3458         70.5  ages_29-112\n",
       "4           4  Petrzalka_ages_1-17        1398          9.0    ages_1-17"
      ]
     },
     "execution_count": 2,
     "metadata": {},
     "output_type": "execute_result"
    }
   ],
   "source": [
    "graph = nx.read_graphml('Data/Bratislava_graph.graphml')\n",
    "beta_c = Spins.crit_beta_sparse(graph)\n",
    "bratislava_profiles = pd.read_csv(\"Data/bratislava_profiles.csv\")\n",
    "coupling_graph = nx.read_graphml('Data/Bratislava_coupling.graphml')\n",
    "block_data = pd.read_csv('Data/block_info.csv',converters={'Block' : ast.literal_eval})\n",
    "mean_block_ages = list(block_data['average_age'])\n",
    "block_sizes = list(block_data['block_size'])\n",
    "block_names = list(block_data['block_name'])\n",
    "block_data['age_group'] = [ 'ages_' + k.split('_')[-1] for k in list(block_data['block_name'])]\n",
    "block_data.head()"
   ]
  },
  {
   "cell_type": "code",
   "execution_count": null,
   "metadata": {},
   "outputs": [],
   "source": [
    "def linear_field(x : np.ndarray,gradient :float) :\n",
    "    return gradient*x\n",
    "#Scale ages to [-1,1]:\n",
    "rescaled_ages = [ (k-np.mean(mean_block_ages))/(max(mean_block_ages)-min(mean_block_ages)) for k in mean_block_ages ]"
   ]
  },
  {
   "cell_type": "code",
   "execution_count": 9,
   "metadata": {},
   "outputs": [],
   "source": [
    "degrees=list(dict(relab_graph.degree()).values())"
   ]
  },
  {
   "cell_type": "code",
   "execution_count": 3,
   "metadata": {},
   "outputs": [
    {
     "data": {
      "text/html": [
       "<div>\n",
       "<style scoped>\n",
       "    .dataframe tbody tr th:only-of-type {\n",
       "        vertical-align: middle;\n",
       "    }\n",
       "\n",
       "    .dataframe tbody tr th {\n",
       "        vertical-align: top;\n",
       "    }\n",
       "\n",
       "    .dataframe thead th {\n",
       "        text-align: right;\n",
       "    }\n",
       "</style>\n",
       "<table border=\"1\" class=\"dataframe\">\n",
       "  <thead>\n",
       "    <tr style=\"text-align: right;\">\n",
       "      <th></th>\n",
       "      <th>index</th>\n",
       "      <th>Unnamed: 0</th>\n",
       "      <th>Unnamed: 0.1</th>\n",
       "      <th>user_id</th>\n",
       "      <th>gender</th>\n",
       "      <th>region</th>\n",
       "      <th>age</th>\n",
       "      <th>user_lat</th>\n",
       "      <th>user_lon</th>\n",
       "      <th>age_group</th>\n",
       "      <th>block</th>\n",
       "    </tr>\n",
       "  </thead>\n",
       "  <tbody>\n",
       "    <tr>\n",
       "      <td>0</td>\n",
       "      <td>0</td>\n",
       "      <td>112</td>\n",
       "      <td>112</td>\n",
       "      <td>181</td>\n",
       "      <td>1.0</td>\n",
       "      <td>Ruzinov</td>\n",
       "      <td>26.0</td>\n",
       "      <td>48.149314</td>\n",
       "      <td>17.164505</td>\n",
       "      <td>ages_22-28</td>\n",
       "      <td>Ruzinov_ages_22-28</td>\n",
       "    </tr>\n",
       "    <tr>\n",
       "      <td>1</td>\n",
       "      <td>1</td>\n",
       "      <td>314</td>\n",
       "      <td>314</td>\n",
       "      <td>344</td>\n",
       "      <td>0.0</td>\n",
       "      <td>Ruzinov</td>\n",
       "      <td>22.0</td>\n",
       "      <td>48.149314</td>\n",
       "      <td>17.164505</td>\n",
       "      <td>ages_22-28</td>\n",
       "      <td>Ruzinov_ages_22-28</td>\n",
       "    </tr>\n",
       "    <tr>\n",
       "      <td>2</td>\n",
       "      <td>2</td>\n",
       "      <td>804</td>\n",
       "      <td>804</td>\n",
       "      <td>834</td>\n",
       "      <td>1.0</td>\n",
       "      <td>Okolie</td>\n",
       "      <td>18.0</td>\n",
       "      <td>48.295066</td>\n",
       "      <td>17.242634</td>\n",
       "      <td>ages_18-21</td>\n",
       "      <td>Okolie_ages_18-21</td>\n",
       "    </tr>\n",
       "    <tr>\n",
       "      <td>3</td>\n",
       "      <td>3</td>\n",
       "      <td>1247</td>\n",
       "      <td>1247</td>\n",
       "      <td>1138</td>\n",
       "      <td>0.0</td>\n",
       "      <td>Okolie</td>\n",
       "      <td>16.0</td>\n",
       "      <td>48.295066</td>\n",
       "      <td>17.242634</td>\n",
       "      <td>ages_1-17</td>\n",
       "      <td>Okolie_ages_1-17</td>\n",
       "    </tr>\n",
       "    <tr>\n",
       "      <td>4</td>\n",
       "      <td>4</td>\n",
       "      <td>2010</td>\n",
       "      <td>2010</td>\n",
       "      <td>2032</td>\n",
       "      <td>0.0</td>\n",
       "      <td>Petrzalka</td>\n",
       "      <td>20.0</td>\n",
       "      <td>48.110972</td>\n",
       "      <td>17.111290</td>\n",
       "      <td>ages_18-21</td>\n",
       "      <td>Petrzalka_ages_18-21</td>\n",
       "    </tr>\n",
       "    <tr>\n",
       "      <td>...</td>\n",
       "      <td>...</td>\n",
       "      <td>...</td>\n",
       "      <td>...</td>\n",
       "      <td>...</td>\n",
       "      <td>...</td>\n",
       "      <td>...</td>\n",
       "      <td>...</td>\n",
       "      <td>...</td>\n",
       "      <td>...</td>\n",
       "      <td>...</td>\n",
       "      <td>...</td>\n",
       "    </tr>\n",
       "    <tr>\n",
       "      <td>29577</td>\n",
       "      <td>29577</td>\n",
       "      <td>1632373</td>\n",
       "      <td>1632373</td>\n",
       "      <td>1632374</td>\n",
       "      <td>0.0</td>\n",
       "      <td>Petrzalka</td>\n",
       "      <td>34.0</td>\n",
       "      <td>48.110972</td>\n",
       "      <td>17.111290</td>\n",
       "      <td>ages_29-112</td>\n",
       "      <td>Petrzalka_ages_29-112</td>\n",
       "    </tr>\n",
       "    <tr>\n",
       "      <td>29578</td>\n",
       "      <td>29578</td>\n",
       "      <td>1632399</td>\n",
       "      <td>1632399</td>\n",
       "      <td>1632400</td>\n",
       "      <td>0.0</td>\n",
       "      <td>Okolie</td>\n",
       "      <td>56.0</td>\n",
       "      <td>48.295066</td>\n",
       "      <td>17.242634</td>\n",
       "      <td>ages_29-112</td>\n",
       "      <td>Okolie_ages_29-112</td>\n",
       "    </tr>\n",
       "    <tr>\n",
       "      <td>29579</td>\n",
       "      <td>29579</td>\n",
       "      <td>1632423</td>\n",
       "      <td>1632423</td>\n",
       "      <td>1632424</td>\n",
       "      <td>1.0</td>\n",
       "      <td>Okolie</td>\n",
       "      <td>45.0</td>\n",
       "      <td>48.295066</td>\n",
       "      <td>17.242634</td>\n",
       "      <td>ages_29-112</td>\n",
       "      <td>Okolie_ages_29-112</td>\n",
       "    </tr>\n",
       "    <tr>\n",
       "      <td>29580</td>\n",
       "      <td>29580</td>\n",
       "      <td>1632753</td>\n",
       "      <td>1632753</td>\n",
       "      <td>1632754</td>\n",
       "      <td>1.0</td>\n",
       "      <td>Ruzinov</td>\n",
       "      <td>48.0</td>\n",
       "      <td>48.149314</td>\n",
       "      <td>17.164505</td>\n",
       "      <td>ages_29-112</td>\n",
       "      <td>Ruzinov_ages_29-112</td>\n",
       "    </tr>\n",
       "    <tr>\n",
       "      <td>29581</td>\n",
       "      <td>29581</td>\n",
       "      <td>1632794</td>\n",
       "      <td>1632794</td>\n",
       "      <td>1632795</td>\n",
       "      <td>1.0</td>\n",
       "      <td>Okolie</td>\n",
       "      <td>31.0</td>\n",
       "      <td>48.295066</td>\n",
       "      <td>17.242634</td>\n",
       "      <td>ages_29-112</td>\n",
       "      <td>Okolie_ages_29-112</td>\n",
       "    </tr>\n",
       "  </tbody>\n",
       "</table>\n",
       "<p>29582 rows × 11 columns</p>\n",
       "</div>"
      ],
      "text/plain": [
       "       index  Unnamed: 0  Unnamed: 0.1  user_id  gender     region   age  \\\n",
       "0          0         112           112      181     1.0    Ruzinov  26.0   \n",
       "1          1         314           314      344     0.0    Ruzinov  22.0   \n",
       "2          2         804           804      834     1.0     Okolie  18.0   \n",
       "3          3        1247          1247     1138     0.0     Okolie  16.0   \n",
       "4          4        2010          2010     2032     0.0  Petrzalka  20.0   \n",
       "...      ...         ...           ...      ...     ...        ...   ...   \n",
       "29577  29577     1632373       1632373  1632374     0.0  Petrzalka  34.0   \n",
       "29578  29578     1632399       1632399  1632400     0.0     Okolie  56.0   \n",
       "29579  29579     1632423       1632423  1632424     1.0     Okolie  45.0   \n",
       "29580  29580     1632753       1632753  1632754     1.0    Ruzinov  48.0   \n",
       "29581  29581     1632794       1632794  1632795     1.0     Okolie  31.0   \n",
       "\n",
       "        user_lat   user_lon    age_group                  block  \n",
       "0      48.149314  17.164505   ages_22-28     Ruzinov_ages_22-28  \n",
       "1      48.149314  17.164505   ages_22-28     Ruzinov_ages_22-28  \n",
       "2      48.295066  17.242634   ages_18-21      Okolie_ages_18-21  \n",
       "3      48.295066  17.242634    ages_1-17       Okolie_ages_1-17  \n",
       "4      48.110972  17.111290   ages_18-21   Petrzalka_ages_18-21  \n",
       "...          ...        ...          ...                    ...  \n",
       "29577  48.110972  17.111290  ages_29-112  Petrzalka_ages_29-112  \n",
       "29578  48.295066  17.242634  ages_29-112     Okolie_ages_29-112  \n",
       "29579  48.295066  17.242634  ages_29-112     Okolie_ages_29-112  \n",
       "29580  48.149314  17.164505  ages_29-112    Ruzinov_ages_29-112  \n",
       "29581  48.295066  17.242634  ages_29-112     Okolie_ages_29-112  \n",
       "\n",
       "[29582 rows x 11 columns]"
      ]
     },
     "execution_count": 3,
     "metadata": {},
     "output_type": "execute_result"
    }
   ],
   "source": [
    "bratislava_profiles_indices = bratislava_profiles.reset_index()\n",
    "groups = [ bratislava_profiles_indices.loc[bratislava_profiles_indices['block']==block] for block in block_names]\n",
    "groups_node_ids = [list(k['index']) for k in groups]\n",
    "bratislava_profiles_indices"
   ]
  },
  {
   "cell_type": "code",
   "execution_count": 4,
   "metadata": {},
   "outputs": [
    {
     "ename": "NameError",
     "evalue": "name 'ages' is not defined",
     "output_type": "error",
     "traceback": [
      "\u001b[0;31m---------------------------------------------------------------------------\u001b[0m",
      "\u001b[0;31mNameError\u001b[0m                                 Traceback (most recent call last)",
      "\u001b[0;32m<ipython-input-4-a6018dd1440c>\u001b[0m in \u001b[0;36m<module>\u001b[0;34m\u001b[0m\n\u001b[0;32m----> 1\u001b[0;31m \u001b[0mplt\u001b[0m\u001b[0;34m.\u001b[0m\u001b[0mplot\u001b[0m\u001b[0;34m(\u001b[0m\u001b[0mages\u001b[0m\u001b[0;34m,\u001b[0m\u001b[0mbackground_field\u001b[0m\u001b[0;34m,\u001b[0m\u001b[0;34m'bo'\u001b[0m\u001b[0;34m)\u001b[0m\u001b[0;34m\u001b[0m\u001b[0;34m\u001b[0m\u001b[0m\n\u001b[0m",
      "\u001b[0;31mNameError\u001b[0m: name 'ages' is not defined"
     ]
    }
   ],
   "source": [
    "plt.plot(ages,background_field,'bo')"
   ]
  },
  {
   "cell_type": "code",
   "execution_count": null,
   "metadata": {},
   "outputs": [],
   "source": [
    "plt.hist(background_field)"
   ]
  },
  {
   "cell_type": "markdown",
   "metadata": {},
   "source": [
    "## Identify gradient required to get strong age magnetisation correlation"
   ]
  },
  {
   "cell_type": "code",
   "execution_count": null,
   "metadata": {
    "scrolled": true
   },
   "outputs": [],
   "source": [
    "# Full graph Mf setup\n",
    "init_sign=-1.0\n",
    "beta_factor=8.0\n",
    "# gradient=0.1\n",
    "\n",
    "ages=bratislava_profiles_indices['age'].to_list()\n",
    "mean_age=np.mean(ages)\n",
    "min_age=min(ages)\n",
    "max_age=max(ages)\n",
    "rescaled_ages = [ (k-mean_age)/(min_age-max_age) for k in ages ]\n",
    "\n",
    "gradient_data=pd.DataFrame()\n",
    "\n",
    "gradient=100.0\n",
    "\n",
    "\n",
    "print(gradient)\n",
    "background_field = gradient*np.asarray(rescaled_ages)\n",
    "beta = beta_c*beta_factor\n",
    "relab_graph = nx.relabel.convert_node_labels_to_integers(graph)\n",
    "full_graph_ising_system = mean_field_IIM.mean_field_ising_system(relab_graph,background_field)\n",
    "full_graph_ising_system.mf_fp_init_state = init_sign*np.ones(len(graph))\n",
    "full_graph_ising_system.mf_fp_noisy = True\n",
    "\n",
    "# Full gradient computation: \n",
    "m_full = full_graph_ising_system.mf_magnetization(background_field,beta)\n",
    "print(len(m_full))"
   ]
  },
  {
   "cell_type": "code",
   "execution_count": null,
   "metadata": {},
   "outputs": [],
   "source": [
    "plt.plot(ages,m_full,'ro')"
   ]
  },
  {
   "cell_type": "code",
   "execution_count": null,
   "metadata": {},
   "outputs": [],
   "source": [
    "plt.plot(degrees,m_full,'ro')"
   ]
  },
  {
   "cell_type": "code",
   "execution_count": 5,
   "metadata": {},
   "outputs": [
    {
     "data": {
      "application/vnd.jupyter.widget-view+json": {
       "model_id": "52106972712a413dbae8c4ce48c3c51d",
       "version_major": 2,
       "version_minor": 0
      },
      "text/plain": [
       "HBox(children=(IntProgress(value=0, max=5), HTML(value='')))"
      ]
     },
     "metadata": {},
     "output_type": "display_data"
    },
    {
     "name": "stdout",
     "output_type": "stream",
     "text": [
      "0.01\n"
     ]
    },
    {
     "name": "stderr",
     "output_type": "stream",
     "text": [
      "/home/matt/anaconda3/lib/python3.7/site-packages/ising_block_level_influence-1.0-py3.7.egg/ising_block_level_influence/mean_field_IIM.py:168: FutureWarning: elementwise comparison failed; returning scalar instead, but in the future will perform elementwise comparison\n",
      "/home/matt/anaconda3/lib/python3.7/site-packages/ising_block_level_influence-1.0-py3.7.egg/ising_block_level_influence/mean_field_IIM.py:264: RuntimeWarning: divide by zero encountered in double_scalars\n"
     ]
    },
    {
     "name": "stdout",
     "output_type": "stream",
     "text": [
      "0.1333521432163324\n",
      "1.7782794100389228\n",
      "23.71373705661655\n",
      "316.22776601683796\n",
      "\n"
     ]
    }
   ],
   "source": [
    "# Full graph Mf setup\n",
    "init_sign=-1.0\n",
    "beta_factor=8.0\n",
    "# gradient=0.1\n",
    "\n",
    "ages=bratislava_profiles_indices['age'].to_list()\n",
    "mean_age=np.mean(ages)\n",
    "min_age=min(ages)\n",
    "max_age=max(ages)\n",
    "rescaled_ages = [ (k-mean_age)/(min_age-max_age) for k in ages ]\n",
    "\n",
    "gradient_data=pd.DataFrame()\n",
    "\n",
    "grad_vals=[10**k for k in np.linspace(-2,2.5,5)]\n",
    "\n",
    "for gradient in tqdm.tqdm_notebook(grad_vals) :\n",
    "    print(gradient)\n",
    "    background_field = gradient*np.asarray(rescaled_ages)\n",
    "    beta = beta_c*beta_factor\n",
    "    relab_graph = nx.relabel.convert_node_labels_to_integers(graph)\n",
    "    full_graph_ising_system = mean_field_IIM.mean_field_ising_system(relab_graph,background_field)\n",
    "    full_graph_ising_system.mf_fp_init_state = init_sign*np.ones(len(graph))\n",
    "    full_graph_ising_system.mf_fp_noisy = False\n",
    "    \n",
    "    # Full gradient computation: \n",
    "    m_full = full_graph_ising_system.mf_magnetization(background_field,beta)\n",
    "    mag_grad_full = full_graph_ising_system.mf_sparse_magnetisation_gradient(m_full, beta)\n",
    "\n",
    "\n",
    "    current_data=pd.DataFrame({'gradient':gradient*np.ones(len(mag_grad_full)),\n",
    "                               'node':np.arange(0,len(mag_grad_full)),\n",
    "                               'mag_gradient':mag_grad_full,\n",
    "                              'm':m_full})\n",
    "    \n",
    "    gradient_data=gradient_data.append(current_data)\n",
    "    \n",
    "    "
   ]
  },
  {
   "cell_type": "code",
   "execution_count": 6,
   "metadata": {},
   "outputs": [],
   "source": [
    "# gradient_data.to_csv(\"Data/Pokec_gradients.csv\")"
   ]
  },
  {
   "cell_type": "code",
   "execution_count": 7,
   "metadata": {},
   "outputs": [
    {
     "name": "stdout",
     "output_type": "stream",
     "text": [
      "147910\n"
     ]
    }
   ],
   "source": [
    "print(len(gradient_data))"
   ]
  },
  {
   "cell_type": "code",
   "execution_count": 23,
   "metadata": {},
   "outputs": [
    {
     "data": {
      "text/html": [
       "<div>\n",
       "<style scoped>\n",
       "    .dataframe tbody tr th:only-of-type {\n",
       "        vertical-align: middle;\n",
       "    }\n",
       "\n",
       "    .dataframe tbody tr th {\n",
       "        vertical-align: top;\n",
       "    }\n",
       "\n",
       "    .dataframe thead th {\n",
       "        text-align: right;\n",
       "    }\n",
       "</style>\n",
       "<table border=\"1\" class=\"dataframe\">\n",
       "  <thead>\n",
       "    <tr style=\"text-align: right;\">\n",
       "      <th></th>\n",
       "      <th>gradient</th>\n",
       "      <th>node</th>\n",
       "      <th>mag_gradient</th>\n",
       "      <th>m</th>\n",
       "    </tr>\n",
       "  </thead>\n",
       "  <tbody>\n",
       "    <tr>\n",
       "      <td>0</td>\n",
       "      <td>0.010000</td>\n",
       "      <td>0</td>\n",
       "      <td>3.832760e-03</td>\n",
       "      <td>-0.706432</td>\n",
       "    </tr>\n",
       "    <tr>\n",
       "      <td>1</td>\n",
       "      <td>0.010000</td>\n",
       "      <td>1</td>\n",
       "      <td>1.262636e-07</td>\n",
       "      <td>-0.999996</td>\n",
       "    </tr>\n",
       "    <tr>\n",
       "      <td>2</td>\n",
       "      <td>0.010000</td>\n",
       "      <td>2</td>\n",
       "      <td>2.336579e-04</td>\n",
       "      <td>-0.993106</td>\n",
       "    </tr>\n",
       "    <tr>\n",
       "      <td>3</td>\n",
       "      <td>0.010000</td>\n",
       "      <td>3</td>\n",
       "      <td>3.822182e-03</td>\n",
       "      <td>-0.706628</td>\n",
       "    </tr>\n",
       "    <tr>\n",
       "      <td>4</td>\n",
       "      <td>0.010000</td>\n",
       "      <td>4</td>\n",
       "      <td>4.294850e-06</td>\n",
       "      <td>-0.999852</td>\n",
       "    </tr>\n",
       "    <tr>\n",
       "      <td>...</td>\n",
       "      <td>...</td>\n",
       "      <td>...</td>\n",
       "      <td>...</td>\n",
       "      <td>...</td>\n",
       "    </tr>\n",
       "    <tr>\n",
       "      <td>29577</td>\n",
       "      <td>316.227766</td>\n",
       "      <td>29577</td>\n",
       "      <td>4.136181e-10</td>\n",
       "      <td>-1.000000</td>\n",
       "    </tr>\n",
       "    <tr>\n",
       "      <td>29578</td>\n",
       "      <td>316.227766</td>\n",
       "      <td>29578</td>\n",
       "      <td>2.299191e-22</td>\n",
       "      <td>-1.000000</td>\n",
       "    </tr>\n",
       "    <tr>\n",
       "      <td>29579</td>\n",
       "      <td>316.227766</td>\n",
       "      <td>29579</td>\n",
       "      <td>2.162206e-22</td>\n",
       "      <td>-1.000000</td>\n",
       "    </tr>\n",
       "    <tr>\n",
       "      <td>29580</td>\n",
       "      <td>316.227766</td>\n",
       "      <td>29580</td>\n",
       "      <td>2.152869e-22</td>\n",
       "      <td>-1.000000</td>\n",
       "    </tr>\n",
       "    <tr>\n",
       "      <td>29581</td>\n",
       "      <td>316.227766</td>\n",
       "      <td>29581</td>\n",
       "      <td>7.849180e-07</td>\n",
       "      <td>-0.999982</td>\n",
       "    </tr>\n",
       "  </tbody>\n",
       "</table>\n",
       "<p>147910 rows × 4 columns</p>\n",
       "</div>"
      ],
      "text/plain": [
       "         gradient   node  mag_gradient         m\n",
       "0        0.010000      0  3.832760e-03 -0.706432\n",
       "1        0.010000      1  1.262636e-07 -0.999996\n",
       "2        0.010000      2  2.336579e-04 -0.993106\n",
       "3        0.010000      3  3.822182e-03 -0.706628\n",
       "4        0.010000      4  4.294850e-06 -0.999852\n",
       "...           ...    ...           ...       ...\n",
       "29577  316.227766  29577  4.136181e-10 -1.000000\n",
       "29578  316.227766  29578  2.299191e-22 -1.000000\n",
       "29579  316.227766  29579  2.162206e-22 -1.000000\n",
       "29580  316.227766  29580  2.152869e-22 -1.000000\n",
       "29581  316.227766  29581  7.849180e-07 -0.999982\n",
       "\n",
       "[147910 rows x 4 columns]"
      ]
     },
     "execution_count": 23,
     "metadata": {},
     "output_type": "execute_result"
    }
   ],
   "source": [
    "gradient_data"
   ]
  },
  {
   "cell_type": "code",
   "execution_count": 38,
   "metadata": {},
   "outputs": [
    {
     "data": {
      "image/png": "[encoded data removed]",
      "text/plain": [
       "<Figure size 432x288 with 1 Axes>"
      ]
     },
     "metadata": {
      "needs_background": "light"
     },
     "output_type": "display_data"
    },
    {
     "data": {
      "image/png": "[encoded data removed]",
      "text/plain": [
       "<Figure size 432x288 with 1 Axes>"
      ]
     },
     "metadata": {
      "needs_background": "light"
     },
     "output_type": "display_data"
    },
    {
     "data": {
      "image/png": "[encoded data removed]",
      "text/plain": [
       "<Figure size 432x288 with 1 Axes>"
      ]
     },
     "metadata": {
      "needs_background": "light"
     },
     "output_type": "display_data"
    },
    {
     "data": {
      "image/png": "[encoded data removed]",
      "text/plain": [
       "<Figure size 432x288 with 1 Axes>"
      ]
     },
     "metadata": {
      "needs_background": "light"
     },
     "output_type": "display_data"
    },
    {
     "data": {
      "image/png": "[encoded data removed]",
      "text/plain": [
       "<Figure size 432x288 with 1 Axes>"
      ]
     },
     "metadata": {
      "needs_background": "light"
     },
     "output_type": "display_data"
    }
   ],
   "source": [
    "from scipy import stats\n",
    "spearmans_age=[]\n",
    "spearmans_degree=[]\n",
    "for index,gradient in enumerate(grad_vals) :\n",
    "    this_grad=gradient_data.loc[gradient_data['gradient']==gradient]['mag_gradient'].to_list()\n",
    "    this_m=gradient_data.loc[gradient_data['gradient']==gradient]['m'].to_list()\n",
    "    # Also get the magnetisation out\n",
    "    fig,ax=plt.subplots()\n",
    "    #plt.plot([k+j for k,j in zip(background_field,degrees)],this_grad,'bo')\n",
    "    # plt.plot(ages,this_grad,'bo')\n",
    "    ax.scatter(ages,this_grad,c=degrees,cmap='coolwarm')\n",
    "    #plt.plot(ages,this_m,'bo')\n",
    "    plt.xlabel(\"Age\")\n",
    "    plt.ylabel(\"Magnetisation\")\n",
    "    #plt.yscale('log')\n",
    "    spearmans_age.append(stats.spearmanr(background_field,this_grad)[0])\n",
    "    spearmans_degree.append(stats.spearmanr(degrees,this_grad)[0])"
   ]
  },
  {
   "cell_type": "code",
   "execution_count": 20,
   "metadata": {},
   "outputs": [
    {
     "data": {
      "image/png": "[encoded data removed]",
      "text/plain": [
       "<Figure size 432x288 with 1 Axes>"
      ]
     },
     "metadata": {
      "needs_background": "light"
     },
     "output_type": "display_data"
    }
   ],
   "source": [
    "plt.plot(grad_vals,spearmans_age,'go')\n",
    "plt.xscale('log')"
   ]
  },
  {
   "cell_type": "code",
   "execution_count": 18,
   "metadata": {},
   "outputs": [
    {
     "data": {
      "text/plain": [
       "[SpearmanrResult(correlation=-0.8959729462246214, pvalue=0.0),\n",
       " SpearmanrResult(correlation=-0.8962680847204468, pvalue=0.0),\n",
       " SpearmanrResult(correlation=-0.89827829787769, pvalue=0.0),\n",
       " SpearmanrResult(correlation=-0.6170913463840862, pvalue=0.0),\n",
       " SpearmanrResult(correlation=-0.04811045547460261, pvalue=1.2404406089440103e-16)]"
      ]
     },
     "execution_count": 18,
     "metadata": {},
     "output_type": "execute_result"
    }
   ],
   "source": [
    "spearmans_degree"
   ]
  },
  {
   "cell_type": "code",
   "execution_count": 33,
   "metadata": {},
   "outputs": [
    {
     "data": {
      "text/plain": [
       "[<matplotlib.lines.Line2D at 0x7f05cd48c710>]"
      ]
     },
     "execution_count": 33,
     "metadata": {},
     "output_type": "execute_result"
    },
    {
     "data": {
      "image/png": "[encoded data removed]",
      "text/plain": [
       "<Figure size 432x432 with 1 Axes>"
      ]
     },
     "metadata": {
      "needs_background": "light"
     },
     "output_type": "display_data"
    }
   ],
   "source": [
    "fig,ax=plt.subplots(figsize=(6,6))\n",
    "plt.plot(grad_vals,spearmans_degree,'go-')\n",
    "plt.xscale('log')\n",
    "plt.ylabel(\"$\\\\rho(\\\\nabla M^{MF})$\",fontsize=20)\n",
    "plt.xlabel(\"Field gradient\",fontsize=16)\n",
    "plt.plot(grad_vals,np.zeros(len(grad_vals)),'k--')"
   ]
  },
  {
   "cell_type": "code",
   "execution_count": null,
   "metadata": {},
   "outputs": [],
   "source": [
    "plt.plot(degrees,m_full,'bo')"
   ]
  },
  {
   "cell_type": "code",
   "execution_count": null,
   "metadata": {},
   "outputs": [],
   "source": [
    "plt.plot(ages,m_full,'bo')"
   ]
  },
  {
   "cell_type": "code",
   "execution_count": null,
   "metadata": {},
   "outputs": [],
   "source": [
    "# Test analysis\n",
    "\n",
    "plt.plot(background_field,mag_grad_full,'bo')"
   ]
  },
  {
   "cell_type": "code",
   "execution_count": null,
   "metadata": {},
   "outputs": [],
   "source": []
  },
  {
   "cell_type": "code",
   "execution_count": null,
   "metadata": {},
   "outputs": [],
   "source": [
    "plt.plot(degrees,mag_grad_full,'bo')\n",
    "# Compare with exponential decay.\n",
    "plt.yscale('log')"
   ]
  },
  {
   "cell_type": "code",
   "execution_count": null,
   "metadata": {},
   "outputs": [],
   "source": []
  }
 ],
 "metadata": {
  "kernelspec": {
   "display_name": "Python 3",
   "language": "python",
   "name": "python3"
  },
  "language_info": {
   "codemirror_mode": {
    "name": "ipython",
    "version": 3
   },
   "file_extension": ".py",
   "mimetype": "text/x-python",
   "name": "python",
   "nbconvert_exporter": "python",
   "pygments_lexer": "ipython3",
   "version": "3.7.4"
  }
 },
 "nbformat": 4,
 "nbformat_minor": 2
}
