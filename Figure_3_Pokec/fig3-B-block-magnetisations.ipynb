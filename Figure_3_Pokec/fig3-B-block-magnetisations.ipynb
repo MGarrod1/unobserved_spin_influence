{
 "cells": [
  {
   "cell_type": "markdown",
   "metadata": {},
   "source": [
    "Generat data for plots illustrating how the magnetisation of each block varies as we increase the field gradient $g$.\n",
    "\n",
    "Created on: 20/02/21"
   ]
  },
  {
   "cell_type": "code",
   "execution_count": 1,
   "metadata": {},
   "outputs": [],
   "source": [
    "import networkx as nx\n",
    "import numpy as np\n",
    "import pandas as pd\n",
    "import ast\n",
    "import seaborn as sns\n",
    "import matplotlib.pyplot as plt\n",
    "import tqdm\n",
    "import random\n",
    "import itertools\n",
    "import matplotlib\n",
    "from scipy import stats\n",
    "import math\n",
    "\n",
    "from ising_block_level_influence import N_Block_sbm_class as NBlock\n",
    "from ising_block_level_influence import projection_simplex as proj\n",
    "from ising_block_level_influence import mean_field_IIM\n",
    "from spatial_spin_monte_carlo import spatial_spin_monte_carlo as Spins\n",
    "import Pokec_processing as  PokProc\n",
    "\n",
    "from pokec_utils import *"
   ]
  },
  {
   "cell_type": "code",
   "execution_count": null,
   "metadata": {},
   "outputs": [],
   "source": [
    "graph = nx.read_graphml('Data/Bratislava_graph.graphml')\n",
    "beta_c = Spins.crit_beta_sparse(graph)\n",
    "bratislava_profiles = pd.read_csv(\"Data/bratislava_profiles.csv\")\n",
    "coupling_graph = nx.read_graphml('Data/Bratislava_coupling.graphml')\n",
    "block_data = pd.read_csv('Data/block_info.csv',converters={'Block' : ast.literal_eval})\n",
    "mean_block_ages = list(block_data['average_age'])\n",
    "block_sizes = list(block_data['block_size'])\n",
    "block_names = list(block_data['block_name'])\n",
    "block_data['age_group'] = [ 'ages_' + k.split('_')[-1] for k in list(block_data['block_name'])]\n",
    "block_data.head()"
   ]
  },
  {
   "cell_type": "code",
   "execution_count": null,
   "metadata": {},
   "outputs": [],
   "source": [
    "def linear_field(x : np.ndarray,gradient :float) :\n",
    "    return gradient*x\n",
    "#Scale ages to [-1,1]:\n",
    "rescaled_ages = [ (k-np.mean(mean_block_ages))/(max(mean_block_ages)-min(mean_block_ages)) for k in mean_block_ages ]"
   ]
  },
  {
   "cell_type": "code",
   "execution_count": null,
   "metadata": {},
   "outputs": [],
   "source": [
    "bratislava_profiles_indices = bratislava_profiles.reset_index()\n",
    "groups = [ bratislava_profiles_indices.loc[bratislava_profiles_indices['block']==block] for block in block_names]\n",
    "groups_node_ids = [list(k['index']) for k in groups]"
   ]
  },
  {
   "cell_type": "code",
   "execution_count": null,
   "metadata": {},
   "outputs": [],
   "source": [
    "def check_group(input_val,group_label) :\n",
    "    if input_val == group_label :\n",
    "        return 1.0\n",
    "    else :\n",
    "        return 0.0\n",
    "    \n",
    "def mean_and_se(values) :\n",
    "    return f\"{np.mean(values)} +/- {stats.sem(values)} \"\n",
    "\n",
    "#Seed the random number generators:\n",
    "seed = 1\n",
    "random.seed(seed)\n",
    "np.random.seed(seed)\n",
    "\n",
    "Field_Budget = 2500.0\n",
    "T=10000\n",
    "T_Burn = 2*300000\n",
    "Samples = 15\n",
    "sample_frac = 1.0 # for snapshot control\n",
    "eval_data = pd.DataFrame()\n",
    "control_data = pd.DataFrame()\n",
    "\n",
    "init_sign=-1.0\n",
    "\n",
    "#beta_factor_vals = [1.0,3.0,5.0,7.0,9.0]\n",
    "beta_factor_vals=[8.0]\n",
    "#grad_vals =  np.arange(-10.0,12.0,2.0)\n",
    "#grad_vals =  np.arange(0,20.0,1.0)\n",
    "\n",
    "grad_vals =  np.arange(-10.0,11.0,1.0)\n",
    "\n",
    "beta_factor=8.0\n",
    "#grad_vals=[5.0]\n",
    "\n",
    "relab_graph = nx.relabel.convert_node_labels_to_integers(graph)\n",
    "\n",
    "block_mag_data=pd.DataFrame()\n",
    "\n",
    "for gradient in tqdm.tqdm_notebook(grad_vals) : \n",
    "    age_field = [linear_field(a,gradient) for a in rescaled_ages ]\n",
    "    age_field_map = {k:j for k,j in zip(list(block_data['age_group']),age_field)}\n",
    "    background_field = np.asarray([age_field_map[k] for k in list(bratislava_profiles['age_group'])])\n",
    "    \n",
    "    initial_state = init_sign*np.ones(len(graph))\n",
    "    #Run_MonteCarlo_Average(relab_graph, T, beta_factor,beta_c, T_Burn=T_Burn,addition_control=None,sampling_method=\"Metropolis\",full_graph_field=background_field,initial_state=initial_state)\n",
    "    block_mags = Run_MonteCarlo_Block(relab_graph,\n",
    "                                      groups_node_ids ,\n",
    "                                      T, beta_factor,\n",
    "                                      beta_c, T_Burn=T_Burn,\n",
    "                                      addition_control=None,\n",
    "                                      sampling_method=\"Metropolis\",\n",
    "                                      initial_state=initial_state,\n",
    "                                      full_graph_field=background_field)\n",
    "    \n",
    "    block_mag_data=block_mag_data.append(pd.DataFrame({'block':[int(k) for k in range(len(block_mags[-1]))],\n",
    "                                                       'gradient':gradient*np.ones(len(block_mags[-1])),\n",
    "                                                          'mag':block_mags[-1],\n",
    "                                                      'background_field':age_field}))\n",
    "    \n",
    "    \n",
    "    "
   ]
  },
  {
   "cell_type": "code",
   "execution_count": null,
   "metadata": {},
   "outputs": [],
   "source": [
    "# get the ages and regions seperately\n",
    "block_mag_data=block_mag_data.merge(block_data.rename(columns={'Unnamed: 0':'block'}),on='block',how='left')\n",
    "block_mag_data.head()"
   ]
  },
  {
   "cell_type": "code",
   "execution_count": null,
   "metadata": {},
   "outputs": [],
   "source": [
    "block_mag_data.to_csv(f\"Data/block_magnetisations_{init_sign}\".replace('.','-') +\".csv\")"
   ]
  },
  {
   "cell_type": "code",
   "execution_count": 2,
   "metadata": {},
   "outputs": [
    {
     "data": {
      "text/html": [
       "<div>\n",
       "<style scoped>\n",
       "    .dataframe tbody tr th:only-of-type {\n",
       "        vertical-align: middle;\n",
       "    }\n",
       "\n",
       "    .dataframe tbody tr th {\n",
       "        vertical-align: top;\n",
       "    }\n",
       "\n",
       "    .dataframe thead th {\n",
       "        text-align: right;\n",
       "    }\n",
       "</style>\n",
       "<table border=\"1\" class=\"dataframe\">\n",
       "  <thead>\n",
       "    <tr style=\"text-align: right;\">\n",
       "      <th></th>\n",
       "      <th>Unnamed: 0</th>\n",
       "      <th>block</th>\n",
       "      <th>gradient</th>\n",
       "      <th>mag</th>\n",
       "      <th>background_field</th>\n",
       "      <th>block_name</th>\n",
       "      <th>block_size</th>\n",
       "      <th>average_age</th>\n",
       "      <th>age_group</th>\n",
       "    </tr>\n",
       "  </thead>\n",
       "  <tbody>\n",
       "    <tr>\n",
       "      <td>0</td>\n",
       "      <td>0</td>\n",
       "      <td>0</td>\n",
       "      <td>-10.0</td>\n",
       "      <td>0.171799</td>\n",
       "      <td>3.577236</td>\n",
       "      <td>Okolie_ages_1-17</td>\n",
       "      <td>1234</td>\n",
       "      <td>9.0</td>\n",
       "      <td>ages_1-17</td>\n",
       "    </tr>\n",
       "    <tr>\n",
       "      <td>1</td>\n",
       "      <td>1</td>\n",
       "      <td>1</td>\n",
       "      <td>-10.0</td>\n",
       "      <td>-0.234657</td>\n",
       "      <td>1.869919</td>\n",
       "      <td>Okolie_ages_18-21</td>\n",
       "      <td>1939</td>\n",
       "      <td>19.5</td>\n",
       "      <td>ages_18-21</td>\n",
       "    </tr>\n",
       "    <tr>\n",
       "      <td>2</td>\n",
       "      <td>2</td>\n",
       "      <td>2</td>\n",
       "      <td>-10.0</td>\n",
       "      <td>-0.384274</td>\n",
       "      <td>0.975610</td>\n",
       "      <td>Okolie_ages_22-28</td>\n",
       "      <td>3154</td>\n",
       "      <td>25.0</td>\n",
       "      <td>ages_22-28</td>\n",
       "    </tr>\n",
       "    <tr>\n",
       "      <td>3</td>\n",
       "      <td>3</td>\n",
       "      <td>3</td>\n",
       "      <td>-10.0</td>\n",
       "      <td>-0.995951</td>\n",
       "      <td>-6.422764</td>\n",
       "      <td>Okolie_ages_29-112</td>\n",
       "      <td>3458</td>\n",
       "      <td>70.5</td>\n",
       "      <td>ages_29-112</td>\n",
       "    </tr>\n",
       "    <tr>\n",
       "      <td>4</td>\n",
       "      <td>4</td>\n",
       "      <td>4</td>\n",
       "      <td>-10.0</td>\n",
       "      <td>0.234621</td>\n",
       "      <td>3.577236</td>\n",
       "      <td>Petrzalka_ages_1-17</td>\n",
       "      <td>1398</td>\n",
       "      <td>9.0</td>\n",
       "      <td>ages_1-17</td>\n",
       "    </tr>\n",
       "  </tbody>\n",
       "</table>\n",
       "</div>"
      ],
      "text/plain": [
       "   Unnamed: 0  block  gradient       mag  background_field  \\\n",
       "0           0      0     -10.0  0.171799          3.577236   \n",
       "1           1      1     -10.0 -0.234657          1.869919   \n",
       "2           2      2     -10.0 -0.384274          0.975610   \n",
       "3           3      3     -10.0 -0.995951         -6.422764   \n",
       "4           4      4     -10.0  0.234621          3.577236   \n",
       "\n",
       "            block_name  block_size  average_age    age_group  \n",
       "0     Okolie_ages_1-17        1234          9.0    ages_1-17  \n",
       "1    Okolie_ages_18-21        1939         19.5   ages_18-21  \n",
       "2    Okolie_ages_22-28        3154         25.0   ages_22-28  \n",
       "3   Okolie_ages_29-112        3458         70.5  ages_29-112  \n",
       "4  Petrzalka_ages_1-17        1398          9.0    ages_1-17  "
      ]
     },
     "execution_count": 2,
     "metadata": {},
     "output_type": "execute_result"
    }
   ],
   "source": []
  },
  {
   "cell_type": "code",
   "execution_count": 4,
   "metadata": {},
   "outputs": [],
   "source": []
  },
  {
   "cell_type": "code",
   "execution_count": 25,
   "metadata": {},
   "outputs": [
    {
     "data": {
      "image/png": "[encoded data removed]",
      "text/plain": [
       "<Figure size 432x432 with 1 Axes>"
      ]
     },
     "metadata": {
      "needs_background": "light"
     },
     "output_type": "display_data"
    }
   ],
   "source": [
    "import seaborn as sns\n",
    "\n",
    "init_sign=-1.0\n",
    "df=pd.read_csv(f\"Data/block_magnetisations_{init_sign}\".replace('.','-') +\".csv\")\n",
    "df['region']=df['block_name'].apply(lambda x : x.split('_')[0])\n",
    "df=df.rename(columns={'average_age':'Mean Age','region':'Region'})\n",
    "\n",
    "grad_vals =  np.arange(-10.0,11.0,1.0)\n",
    "\n",
    "\n",
    "fig,ax=plt.subplots(figsize=(6,6))\n",
    "#sns.scatterplot(data=df,x='gradient',y='mag',hue='average_age',palette='tab20',style='region')\n",
    "sns.lineplot(data=df,x='gradient',y='mag',hue='Mean Age',palette='coolwarm',style='Region',lw=2.0)\n",
    "plt.plot(grad_vals,np.zeros(len(grad_vals)),'k--')\n",
    "plt.ylim(-1,1)\n",
    "if init_sign==-1.0:\n",
    "    plt.legend(ncol=2,loc='upper left',fontsize=14)\n",
    "    plt.title(\"$s_0=(-1,-1,...,-1)$\",fontsize=16)\n",
    "    plt.text(-11,1.05,\"(a)\",fontsize=20)\n",
    "elif init_sign==1.0:\n",
    "    plt.legend([],[], frameon=False)\n",
    "    plt.title(\"$s_0=(+1,+1,...,+1)$\",fontsize=16)\n",
    "    plt.text(-11,1.05,\"(b)\",fontsize=20)\n",
    "\n",
    "plt.xlabel(\"Field gradient\",fontsize=16)\n",
    "plt.ylabel(\"Magnetisation\",fontsize=16)\n",
    "plt.xticks(fontsize=14)\n",
    "plt.yticks(fontsize=14)\n",
    "\n",
    "plt.savefig(f\"Plots/Pokec_block_mags_{init_sign}\".replace('.','-')+\".jpg\")"
   ]
  },
  {
   "cell_type": "code",
   "execution_count": null,
   "metadata": {},
   "outputs": [],
   "source": [
    "init_sign"
   ]
  },
  {
   "cell_type": "code",
   "execution_count": null,
   "metadata": {},
   "outputs": [],
   "source": [
    "plt.imshow( np.cov(np.asarray(block_mags).T) )"
   ]
  },
  {
   "cell_type": "code",
   "execution_count": null,
   "metadata": {},
   "outputs": [],
   "source": [
    "init_sign"
   ]
  },
  {
   "cell_type": "code",
   "execution_count": null,
   "metadata": {},
   "outputs": [],
   "source": []
  }
 ],
 "metadata": {
  "kernelspec": {
   "display_name": "Python 3",
   "language": "python",
   "name": "python3"
  },
  "language_info": {
   "codemirror_mode": {
    "name": "ipython",
    "version": 3
   },
   "file_extension": ".py",
   "mimetype": "text/x-python",
   "name": "python",
   "nbconvert_exporter": "python",
   "pygments_lexer": "ipython3",
   "version": "3.7.4"
  }
 },
 "nbformat": 4,
 "nbformat_minor": 2
}
