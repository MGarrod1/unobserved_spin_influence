{
 "cells": [
  {
   "cell_type": "markdown",
   "metadata": {},
   "source": [
    "Notebook to show how many spin flips it takes to come to equilibrium on the Pokec network. Also use this to explore the impact of different initial conditions/parameters on the burn-in time.\n",
    "\n",
    "To do:\n",
    "- Change convention for showing the number of timesteps from $T$ to $T$/$N$ (i.e. number of spin flips per node).\n",
    "\n",
    "Created on 06/01/20"
   ]
  },
  {
   "cell_type": "code",
   "execution_count": 1,
   "metadata": {},
   "outputs": [],
   "source": [
    "import networkx as nx\n",
    "import numpy as np\n",
    "import pandas as pd\n",
    "import ast\n",
    "import seaborn as sns\n",
    "import matplotlib.pyplot as plt\n",
    "import tqdm\n",
    "import random\n",
    "import itertools\n",
    "import matplotlib\n",
    "\n",
    "from ising_block_level_influence import N_Block_sbm_class as NBlock\n",
    "from ising_block_level_influence import projection_simplex as proj\n",
    "from ising_block_level_influence import mean_field_IIM\n",
    "from spatial_spin_monte_carlo import spatial_spin_monte_carlo as Spins\n",
    "import Pokec_processing as  PokProc\n",
    "\n",
    "from pokec_utils import *"
   ]
  },
  {
   "cell_type": "markdown",
   "metadata": {},
   "source": [
    "### Read in processed data\n",
    "\n",
    "This data has been generated using:\n",
    "\n",
    "1. **make_Pokec_reduced_profiles.ipynb** - which then feeds data into:\n",
    "\n",
    "2. The pre-processing script **'make_bratislava_graph_and_blocks.py'**."
   ]
  },
  {
   "cell_type": "code",
   "execution_count": 2,
   "metadata": {},
   "outputs": [
    {
     "data": {
      "text/html": [
       "<div>\n",
       "<style scoped>\n",
       "    .dataframe tbody tr th:only-of-type {\n",
       "        vertical-align: middle;\n",
       "    }\n",
       "\n",
       "    .dataframe tbody tr th {\n",
       "        vertical-align: top;\n",
       "    }\n",
       "\n",
       "    .dataframe thead th {\n",
       "        text-align: right;\n",
       "    }\n",
       "</style>\n",
       "<table border=\"1\" class=\"dataframe\">\n",
       "  <thead>\n",
       "    <tr style=\"text-align: right;\">\n",
       "      <th></th>\n",
       "      <th>Unnamed: 0</th>\n",
       "      <th>block_name</th>\n",
       "      <th>block_size</th>\n",
       "      <th>average_age</th>\n",
       "      <th>age_group</th>\n",
       "    </tr>\n",
       "  </thead>\n",
       "  <tbody>\n",
       "    <tr>\n",
       "      <td>0</td>\n",
       "      <td>0</td>\n",
       "      <td>Okolie_ages_1-17</td>\n",
       "      <td>1234</td>\n",
       "      <td>9.0</td>\n",
       "      <td>ages_1-17</td>\n",
       "    </tr>\n",
       "    <tr>\n",
       "      <td>1</td>\n",
       "      <td>1</td>\n",
       "      <td>Okolie_ages_18-21</td>\n",
       "      <td>1939</td>\n",
       "      <td>19.5</td>\n",
       "      <td>ages_18-21</td>\n",
       "    </tr>\n",
       "    <tr>\n",
       "      <td>2</td>\n",
       "      <td>2</td>\n",
       "      <td>Okolie_ages_22-28</td>\n",
       "      <td>3154</td>\n",
       "      <td>25.0</td>\n",
       "      <td>ages_22-28</td>\n",
       "    </tr>\n",
       "    <tr>\n",
       "      <td>3</td>\n",
       "      <td>3</td>\n",
       "      <td>Okolie_ages_29-112</td>\n",
       "      <td>3458</td>\n",
       "      <td>70.5</td>\n",
       "      <td>ages_29-112</td>\n",
       "    </tr>\n",
       "    <tr>\n",
       "      <td>4</td>\n",
       "      <td>4</td>\n",
       "      <td>Petrzalka_ages_1-17</td>\n",
       "      <td>1398</td>\n",
       "      <td>9.0</td>\n",
       "      <td>ages_1-17</td>\n",
       "    </tr>\n",
       "  </tbody>\n",
       "</table>\n",
       "</div>"
      ],
      "text/plain": [
       "   Unnamed: 0           block_name  block_size  average_age    age_group\n",
       "0           0     Okolie_ages_1-17        1234          9.0    ages_1-17\n",
       "1           1    Okolie_ages_18-21        1939         19.5   ages_18-21\n",
       "2           2    Okolie_ages_22-28        3154         25.0   ages_22-28\n",
       "3           3   Okolie_ages_29-112        3458         70.5  ages_29-112\n",
       "4           4  Petrzalka_ages_1-17        1398          9.0    ages_1-17"
      ]
     },
     "execution_count": 2,
     "metadata": {},
     "output_type": "execute_result"
    }
   ],
   "source": [
    "graph = nx.read_graphml('Data/Bratislava_graph.graphml')\n",
    "bratislava_profiles = pd.read_csv(\"Data/bratislava_profiles.csv\")\n",
    "coupling_graph = nx.read_graphml('Data/Bratislava_coupling.graphml')\n",
    "block_data = pd.read_csv('Data/block_info.csv',converters={'Block' : ast.literal_eval})\n",
    "mean_block_ages = list(block_data['average_age'])\n",
    "block_sizes = list(block_data['block_size'])\n",
    "block_names = list(block_data['block_name'])\n",
    "block_data['age_group'] = [ 'ages_' + k.split('_')[-1] for k in list(block_data['block_name'])]\n",
    "block_data.head()"
   ]
  },
  {
   "cell_type": "code",
   "execution_count": 3,
   "metadata": {},
   "outputs": [
    {
     "name": "stdout",
     "output_type": "stream",
     "text": [
      "Computing critical temperature\n"
     ]
    }
   ],
   "source": [
    "def linear_field(x : np.ndarray,gradient :float) :\n",
    "    return gradient*x\n",
    "\n",
    "#Scale ages to [-1,1]:\n",
    "rescaled_ages = [ (k-np.mean(mean_block_ages))/(max(mean_block_ages)-min(mean_block_ages)) for k in mean_block_ages ]\n",
    "\n",
    "beta_c = Spins.crit_beta_sparse(graph)\n",
    "\n",
    "bratislava_profiles_indices = bratislava_profiles.reset_index()\n",
    "groups = [ bratislava_profiles_indices.loc[bratislava_profiles_indices['block']==block] for block in block_names]\n",
    "groups_node_ids = [list(k['index']) for k in groups]"
   ]
  },
  {
   "cell_type": "markdown",
   "metadata": {},
   "source": [
    "## Spin series: single initial condition\n",
    "\n",
    "Use the parameters used in Figure 3 of main text.\n",
    "\n",
    "This version generates spin series for a single metastable state."
   ]
  },
  {
   "cell_type": "code",
   "execution_count": null,
   "metadata": {},
   "outputs": [],
   "source": [
    "#Seed the random number generators:\n",
    "seed = 1\n",
    "random.seed(seed)\n",
    "np.random.seed(seed)\n",
    "\n",
    "beta_factor_vals = [(10**k) for k in np.linspace(-1,1.8,25)]\n",
    "grad_vals = [1.0,5.0,10.0]\n",
    "\n",
    "\n",
    "beta_f=8.0\n",
    "gradient=1.0\n",
    "\n",
    "\n",
    "T = 3000000\n",
    "T_Burn = 0 # Set this as zero to return the full length in 'Run_MonteCarlo_Average'\n",
    "\n",
    "#Field setup:\n",
    "\n",
    "age_field = [linear_field(a,gradient) for a in rescaled_ages ]\n",
    "age_field_map = {k:j for k,j in zip(list(block_data['age_group']),age_field)}\n",
    "background_field = np.asarray([age_field_map[k] for k in list(bratislava_profiles['age_group'])])\n",
    "\n",
    "# Inverse temperature: \n",
    "beta = beta_f*beta_c\n",
    "\n",
    "relab_graph = nx.relabel.convert_node_labels_to_integers(graph)\n",
    "\n",
    "\n",
    "samples=3\n",
    "mc_chains=[]\n",
    "for samp in tqdm.tqdm_notebook( range(samples) ) :\n",
    "\n",
    "    # MC simulations: -VE initial condition\n",
    "    initial_state = -1.0*np.ones(len(graph))\n",
    "    spin_series = Run_MonteCarlo_Average(relab_graph, T, beta_f,beta_c, T_Burn=T_Burn,addition_control=None,sampling_method=\"Metropolis\",full_graph_field=background_field,initial_state=initial_state)\n",
    "    mc_chains.append(spin_series)"
   ]
  },
  {
   "cell_type": "code",
   "execution_count": null,
   "metadata": {},
   "outputs": [],
   "source": [
    "timesteps=np.arange(0,T,1)\n",
    "flips_per_spin=[ k/len(relab_graph) for k in timesteps]\n",
    "\n",
    "fig,ax = plt.subplots(figsize=(6,6))\n",
    "for spin_series in mc_chains :\n",
    "    plt.plot(flips_per_spin,spin_series)\n",
    "plt.xlabel(\"Flips per spin\",fontsize=20)\n",
    "plt.ylabel(\"Magnetisation\",fontsize=20)\n",
    "plt.xticks(fontsize=14)\n",
    "plt.yticks(fontsize=14)\n",
    "\n",
    "plt.savefig(\"Plots/spin_burn_in_neg_MS\")"
   ]
  },
  {
   "cell_type": "markdown",
   "metadata": {},
   "source": [
    "## spins: random initial condition\n",
    "\n",
    "Results from this suggest that 10 flips per spin is defintiely not enough for random initial conditions.\n",
    "\n",
    "To do: add saving script."
   ]
  },
  {
   "cell_type": "code",
   "execution_count": 25,
   "metadata": {},
   "outputs": [
    {
     "data": {
      "application/vnd.jupyter.widget-view+json": {
       "model_id": "3c786a2db3104ad4b7f9eb29eee59af1",
       "version_major": 2,
       "version_minor": 0
      },
      "text/plain": [
       "HBox(children=(IntProgress(value=0, max=10), HTML(value='')))"
      ]
     },
     "metadata": {},
     "output_type": "display_data"
    },
    {
     "data": {
      "application/vnd.jupyter.widget-view+json": {
       "model_id": "4bdb45ca553a4bc9891608c111039251",
       "version_major": 2,
       "version_minor": 0
      },
      "text/plain": [
       "HBox(children=(IntProgress(value=0, max=3000), HTML(value='')))"
      ]
     },
     "metadata": {},
     "output_type": "display_data"
    },
    {
     "name": "stdout",
     "output_type": "stream",
     "text": [
      "\n"
     ]
    },
    {
     "data": {
      "application/vnd.jupyter.widget-view+json": {
       "model_id": "f775b2f5d2f8480e9bbe01782d71ae82",
       "version_major": 2,
       "version_minor": 0
      },
      "text/plain": [
       "HBox(children=(IntProgress(value=0, max=3000), HTML(value='')))"
      ]
     },
     "metadata": {},
     "output_type": "display_data"
    },
    {
     "name": "stdout",
     "output_type": "stream",
     "text": [
      "\n"
     ]
    },
    {
     "data": {
      "application/vnd.jupyter.widget-view+json": {
       "model_id": "d1e8ae2eaf5b4b5db4ae92d3507cf282",
       "version_major": 2,
       "version_minor": 0
      },
      "text/plain": [
       "HBox(children=(IntProgress(value=0, max=3000), HTML(value='')))"
      ]
     },
     "metadata": {},
     "output_type": "display_data"
    },
    {
     "name": "stdout",
     "output_type": "stream",
     "text": [
      "\n"
     ]
    },
    {
     "data": {
      "application/vnd.jupyter.widget-view+json": {
       "model_id": "16e37e61626f495fbff328403c40e28e",
       "version_major": 2,
       "version_minor": 0
      },
      "text/plain": [
       "HBox(children=(IntProgress(value=0, max=3000), HTML(value='')))"
      ]
     },
     "metadata": {},
     "output_type": "display_data"
    },
    {
     "name": "stdout",
     "output_type": "stream",
     "text": [
      "\n"
     ]
    },
    {
     "data": {
      "application/vnd.jupyter.widget-view+json": {
       "model_id": "91ee5fd3156f4ec39fd2547d511e0f03",
       "version_major": 2,
       "version_minor": 0
      },
      "text/plain": [
       "HBox(children=(IntProgress(value=0, max=3000), HTML(value='')))"
      ]
     },
     "metadata": {},
     "output_type": "display_data"
    },
    {
     "name": "stdout",
     "output_type": "stream",
     "text": [
      "\n"
     ]
    },
    {
     "data": {
      "application/vnd.jupyter.widget-view+json": {
       "model_id": "257bba6c50fd4090bd2f34626d01546a",
       "version_major": 2,
       "version_minor": 0
      },
      "text/plain": [
       "HBox(children=(IntProgress(value=0, max=3000), HTML(value='')))"
      ]
     },
     "metadata": {},
     "output_type": "display_data"
    },
    {
     "name": "stdout",
     "output_type": "stream",
     "text": [
      "\n"
     ]
    },
    {
     "data": {
      "application/vnd.jupyter.widget-view+json": {
       "model_id": "967fc38da08a43d49c43c39d2c8f2d22",
       "version_major": 2,
       "version_minor": 0
      },
      "text/plain": [
       "HBox(children=(IntProgress(value=0, max=3000), HTML(value='')))"
      ]
     },
     "metadata": {},
     "output_type": "display_data"
    },
    {
     "name": "stdout",
     "output_type": "stream",
     "text": [
      "\n"
     ]
    },
    {
     "data": {
      "application/vnd.jupyter.widget-view+json": {
       "model_id": "aab73491aba94962ad7831f9e36749ab",
       "version_major": 2,
       "version_minor": 0
      },
      "text/plain": [
       "HBox(children=(IntProgress(value=0, max=3000), HTML(value='')))"
      ]
     },
     "metadata": {},
     "output_type": "display_data"
    },
    {
     "name": "stdout",
     "output_type": "stream",
     "text": [
      "\n"
     ]
    },
    {
     "data": {
      "application/vnd.jupyter.widget-view+json": {
       "model_id": "e6ec425cc5d640d88e3f2af42c555f36",
       "version_major": 2,
       "version_minor": 0
      },
      "text/plain": [
       "HBox(children=(IntProgress(value=0, max=3000), HTML(value='')))"
      ]
     },
     "metadata": {},
     "output_type": "display_data"
    },
    {
     "name": "stdout",
     "output_type": "stream",
     "text": [
      "\n"
     ]
    },
    {
     "data": {
      "application/vnd.jupyter.widget-view+json": {
       "model_id": "70067ba71b104435858bea83afcbc141",
       "version_major": 2,
       "version_minor": 0
      },
      "text/plain": [
       "HBox(children=(IntProgress(value=0, max=3000), HTML(value='')))"
      ]
     },
     "metadata": {},
     "output_type": "display_data"
    },
    {
     "name": "stdout",
     "output_type": "stream",
     "text": [
      "\n",
      "\n"
     ]
    }
   ],
   "source": [
    "#Seed the random number generators:\n",
    "seed = 1\n",
    "random.seed(seed)\n",
    "np.random.seed(seed)\n",
    "\n",
    "beta_factor_vals = [(10**k) for k in np.linspace(-1,1.8,25)]\n",
    "grad_vals = [1.0,5.0,10.0]\n",
    "\n",
    "\n",
    "beta_f=8.0\n",
    "gradient=10.0\n",
    "\n",
    "\n",
    "T = int(3*(10**3))\n",
    "T_Burn = 0 # Set this as zero to return the full length in 'Run_MonteCarlo_Average'\n",
    "\n",
    "#Field setup:\n",
    "\n",
    "age_field = [linear_field(a,gradient) for a in rescaled_ages ]\n",
    "age_field_map = {k:j for k,j in zip(list(block_data['age_group']),age_field)}\n",
    "background_field = np.asarray([age_field_map[k] for k in list(bratislava_profiles['age_group'])])\n",
    "\n",
    "# Inverse temperature: \n",
    "beta = beta_f*beta_c\n",
    "\n",
    "relab_graph = nx.relabel.convert_node_labels_to_integers(graph)\n",
    "\n",
    "\n",
    "samples=10\n",
    "mc_chains={}\n",
    "index=0\n",
    "\n",
    "sample_spacing=1000\n",
    "mc_chains['timestep']=list(np.arange(0,T,1))[0::sample_spacing]\n",
    "for samp in tqdm.tqdm_notebook( range(samples) ) :\n",
    "\n",
    "    # MC simulations: -VE initial condition\n",
    "    initial_state = np.random.choice([-1,1],len(graph))\n",
    "    \n",
    "    spin_series = Run_MonteCarlo_Average(relab_graph, T, beta_f,beta_c, T_Burn=T_Burn,addition_control=None,sampling_method=\"Metropolis\",full_graph_field=background_field,initial_state=initial_state)\n",
    "    \n",
    "    mc_chains[f\"chain_{index}\"]=spin_series[0::sample_spacing]\n",
    "    \n",
    "    # Add params to filename or dataset.\n",
    "    df=pd.DataFrame(mc_chains)\n",
    "    df.to_csv(f\"Data/mc_chain_examples/random_init_chain_data_beta_{beta_f}_g_{gradient}\".replace(\".\",\"-\") + \".csv\",index=False)\n",
    "    \n",
    "    index+=1"
   ]
  },
  {
   "cell_type": "code",
   "execution_count": 26,
   "metadata": {},
   "outputs": [
    {
     "data": {
      "text/html": [
       "<div>\n",
       "<style scoped>\n",
       "    .dataframe tbody tr th:only-of-type {\n",
       "        vertical-align: middle;\n",
       "    }\n",
       "\n",
       "    .dataframe tbody tr th {\n",
       "        vertical-align: top;\n",
       "    }\n",
       "\n",
       "    .dataframe thead th {\n",
       "        text-align: right;\n",
       "    }\n",
       "</style>\n",
       "<table border=\"1\" class=\"dataframe\">\n",
       "  <thead>\n",
       "    <tr style=\"text-align: right;\">\n",
       "      <th></th>\n",
       "      <th>timestep</th>\n",
       "      <th>chain_0</th>\n",
       "      <th>chain_1</th>\n",
       "      <th>chain_2</th>\n",
       "      <th>chain_3</th>\n",
       "      <th>chain_4</th>\n",
       "      <th>chain_5</th>\n",
       "      <th>chain_6</th>\n",
       "      <th>chain_7</th>\n",
       "      <th>chain_8</th>\n",
       "      <th>chain_9</th>\n",
       "    </tr>\n",
       "  </thead>\n",
       "  <tbody>\n",
       "    <tr>\n",
       "      <td>0</td>\n",
       "      <td>0</td>\n",
       "      <td>-0.000811</td>\n",
       "      <td>-0.015077</td>\n",
       "      <td>-0.003110</td>\n",
       "      <td>0.005950</td>\n",
       "      <td>0.002366</td>\n",
       "      <td>-0.000473</td>\n",
       "      <td>0.007505</td>\n",
       "      <td>0.008789</td>\n",
       "      <td>0.005273</td>\n",
       "      <td>-0.009060</td>\n",
       "    </tr>\n",
       "    <tr>\n",
       "      <td>1</td>\n",
       "      <td>1000</td>\n",
       "      <td>0.001825</td>\n",
       "      <td>-0.011291</td>\n",
       "      <td>-0.002637</td>\n",
       "      <td>0.009195</td>\n",
       "      <td>0.003651</td>\n",
       "      <td>0.001758</td>\n",
       "      <td>0.012102</td>\n",
       "      <td>0.009465</td>\n",
       "      <td>0.007302</td>\n",
       "      <td>-0.010412</td>\n",
       "    </tr>\n",
       "    <tr>\n",
       "      <td>2</td>\n",
       "      <td>2000</td>\n",
       "      <td>0.001825</td>\n",
       "      <td>-0.010006</td>\n",
       "      <td>-0.000203</td>\n",
       "      <td>0.011696</td>\n",
       "      <td>0.009398</td>\n",
       "      <td>0.004733</td>\n",
       "      <td>0.013116</td>\n",
       "      <td>0.010141</td>\n",
       "      <td>0.007707</td>\n",
       "      <td>-0.008519</td>\n",
       "    </tr>\n",
       "  </tbody>\n",
       "</table>\n",
       "</div>"
      ],
      "text/plain": [
       "   timestep   chain_0   chain_1   chain_2   chain_3   chain_4   chain_5  \\\n",
       "0         0 -0.000811 -0.015077 -0.003110  0.005950  0.002366 -0.000473   \n",
       "1      1000  0.001825 -0.011291 -0.002637  0.009195  0.003651  0.001758   \n",
       "2      2000  0.001825 -0.010006 -0.000203  0.011696  0.009398  0.004733   \n",
       "\n",
       "    chain_6   chain_7   chain_8   chain_9  \n",
       "0  0.007505  0.008789  0.005273 -0.009060  \n",
       "1  0.012102  0.009465  0.007302 -0.010412  \n",
       "2  0.013116  0.010141  0.007707 -0.008519  "
      ]
     },
     "execution_count": 26,
     "metadata": {},
     "output_type": "execute_result"
    }
   ],
   "source": [
    "data=pd.read_csv(f\"Data/mc_chain_examples/random_init_chain_data_beta_{beta_f}_g_{gradient}\".replace(\".\",\"-\") + \".csv\")\n",
    "data"
   ]
  },
  {
   "cell_type": "code",
   "execution_count": null,
   "metadata": {},
   "outputs": [],
   "source": []
  },
  {
   "cell_type": "code",
   "execution_count": null,
   "metadata": {},
   "outputs": [],
   "source": [
    "# Check file size: do we need to compress by doing less frequently?\n",
    "# If so then also need to add the timestep to keep track of things.\n",
    "# Trying to save killed the kernel.\n",
    "\n",
    "\"\"\"\n",
    "random_init_data = {}\n",
    "for index,chain in enumerate(mc_chains) :\n",
    "    random_init_data[f'chain_{index}']=chain\n",
    "random_init_df=pd.Dataframe(random_init_data)\n",
    "random_init_df.to_csv(\"Data/random_init_chain_data.csv\")\n",
    "\"\"\"\n"
   ]
  },
  {
   "cell_type": "code",
   "execution_count": null,
   "metadata": {},
   "outputs": [],
   "source": [
    "timesteps=np.arange(0,T,1)\n",
    "flips_per_spin=[ k/len(relab_graph) for k in timesteps]\n",
    "\n",
    "fig,ax = plt.subplots(figsize=(6,6))\n",
    "for spin_series in mc_chains :\n",
    "    # Use less alpha\n",
    "    plt.plot(flips_per_spin,spin_series,'r',alpha=0.2)\n",
    "plt.xlabel(\"Flips per spin\",fontsize=20)\n",
    "plt.ylabel(\"Magnetisation\",fontsize=20)\n",
    "plt.xticks(fontsize=14)\n",
    "plt.yticks(fontsize=14)\n",
    "\n",
    "plt.savefig(\"Plots/spin_burn_in_random\")"
   ]
  },
  {
   "cell_type": "code",
   "execution_count": null,
   "metadata": {},
   "outputs": [],
   "source": [
    "timesteps=np.arange(0,T,1)\n",
    "flips_per_spin=[ k/len(relab_graph) for k in timesteps]\n",
    "\n",
    "fig,ax = plt.subplots(figsize=(6,6))\n",
    "for spin_series in mc_chains :\n",
    "    # Use less alpha\n",
    "    plt.plot(flips_per_spin,spin_series)\n",
    "plt.xlabel(\"Flips per spin\",fontsize=20)\n",
    "plt.ylabel(\"Magnetisation\",fontsize=20)\n",
    "plt.xticks(fontsize=14)\n",
    "plt.yticks(fontsize=14)\n",
    "\n",
    "plt.xscale('log')\n",
    "plt.xlim(1,100)"
   ]
  },
  {
   "cell_type": "code",
   "execution_count": 8,
   "metadata": {},
   "outputs": [
    {
     "name": "stdout",
     "output_type": "stream",
     "text": [
      "[0.69125331 0.28149163 0.27881012 0.98274443 0.57516336 0.5291566\n",
      " 0.1708312  0.45094397 0.80294595 0.61816534]\n",
      "[0.69125331 0.98274443 0.1708312  0.61816534]\n"
     ]
    }
   ],
   "source": [
    "x = np.random.uniform(0,1,10)\n",
    "print(x)\n",
    "print(x[0::3])"
   ]
  },
  {
   "cell_type": "code",
   "execution_count": null,
   "metadata": {},
   "outputs": [],
   "source": []
  }
 ],
 "metadata": {
  "kernelspec": {
   "display_name": "Python 3",
   "language": "python",
   "name": "python3"
  },
  "language_info": {
   "codemirror_mode": {
    "name": "ipython",
    "version": 3
   },
   "file_extension": ".py",
   "mimetype": "text/x-python",
   "name": "python",
   "nbconvert_exporter": "python",
   "pygments_lexer": "ipython3",
   "version": "3.7.4"
  }
 },
 "nbformat": 4,
 "nbformat_minor": 2
}
