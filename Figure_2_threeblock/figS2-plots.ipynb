{
 "cells": [
  {
   "cell_type": "code",
   "execution_count": 1,
   "metadata": {},
   "outputs": [],
   "source": [
    "import pandas as pd\n",
    "import numpy as np\n",
    "import ast\n",
    "from tqdm import tqdm\n",
    "import matplotlib\n",
    "import matplotlib.pyplot as plt\n",
    "import seaborn as sns\n",
    "import glob"
   ]
  },
  {
   "cell_type": "code",
   "execution_count": 2,
   "metadata": {},
   "outputs": [],
   "source": [
    "mag_data_MF=pd.DataFrame()\n",
    "for p, path in enumerate(glob.glob(\"Data/ensemble/*\")) :\n",
    "    mag_data_MF_current = pd.read_csv(path)\n",
    "    mag_data_MF_current['graph']=p*np.ones(len(mag_data_MF_current))\n",
    "    mag_data_MF = mag_data_MF.append(mag_data_MF_current)\n",
    "\n",
    "mag_data_MF=mag_data_MF.rename(columns={'graph':'Graph'})\n",
    "mag_data_MF['Graph']=[int(k+1) for k in mag_data_MF['Graph'].to_list()]"
   ]
  },
  {
   "cell_type": "code",
   "execution_count": 3,
   "metadata": {},
   "outputs": [
    {
     "data": {
      "text/html": [
       "<div>\n",
       "<style scoped>\n",
       "    .dataframe tbody tr th:only-of-type {\n",
       "        vertical-align: middle;\n",
       "    }\n",
       "\n",
       "    .dataframe tbody tr th {\n",
       "        vertical-align: top;\n",
       "    }\n",
       "\n",
       "    .dataframe thead th {\n",
       "        text-align: right;\n",
       "    }\n",
       "</style>\n",
       "<table border=\"1\" class=\"dataframe\">\n",
       "  <thead>\n",
       "    <tr style=\"text-align: right;\">\n",
       "      <th></th>\n",
       "      <th>Unnamed: 0</th>\n",
       "      <th>beta_factor</th>\n",
       "      <th>Mean_mag_MF</th>\n",
       "      <th>MB1_MF</th>\n",
       "      <th>MB2_MF</th>\n",
       "      <th>MB3_MF</th>\n",
       "      <th>init_state_num</th>\n",
       "      <th>initial_state</th>\n",
       "      <th>Graph</th>\n",
       "    </tr>\n",
       "  </thead>\n",
       "  <tbody>\n",
       "    <tr>\n",
       "      <th>0</th>\n",
       "      <td>0</td>\n",
       "      <td>5.0</td>\n",
       "      <td>0.975812</td>\n",
       "      <td>0.999907</td>\n",
       "      <td>0.998501</td>\n",
       "      <td>0.929028</td>\n",
       "      <td>0</td>\n",
       "      <td>[-0.52837073 -0.52837073 -0.52837073 ...  0.36...</td>\n",
       "      <td>1</td>\n",
       "    </tr>\n",
       "    <tr>\n",
       "      <th>1</th>\n",
       "      <td>0</td>\n",
       "      <td>5.0</td>\n",
       "      <td>0.975811</td>\n",
       "      <td>0.999907</td>\n",
       "      <td>0.998501</td>\n",
       "      <td>0.929024</td>\n",
       "      <td>1</td>\n",
       "      <td>[-0.87017683 -0.87017683 -0.87017683 ...  0.40...</td>\n",
       "      <td>1</td>\n",
       "    </tr>\n",
       "    <tr>\n",
       "      <th>2</th>\n",
       "      <td>0</td>\n",
       "      <td>5.0</td>\n",
       "      <td>0.275576</td>\n",
       "      <td>0.999888</td>\n",
       "      <td>0.819858</td>\n",
       "      <td>-0.993017</td>\n",
       "      <td>2</td>\n",
       "      <td>[ 0.20985375  0.20985375  0.20985375 ... -0.49...</td>\n",
       "      <td>1</td>\n",
       "    </tr>\n",
       "    <tr>\n",
       "      <th>3</th>\n",
       "      <td>0</td>\n",
       "      <td>5.0</td>\n",
       "      <td>0.275577</td>\n",
       "      <td>0.999888</td>\n",
       "      <td>0.819861</td>\n",
       "      <td>-0.993017</td>\n",
       "      <td>3</td>\n",
       "      <td>[ 0.20097791  0.20097791  0.20097791 ... -0.89...</td>\n",
       "      <td>1</td>\n",
       "    </tr>\n",
       "    <tr>\n",
       "      <th>4</th>\n",
       "      <td>0</td>\n",
       "      <td>5.0</td>\n",
       "      <td>0.975811</td>\n",
       "      <td>0.999907</td>\n",
       "      <td>0.998501</td>\n",
       "      <td>0.929025</td>\n",
       "      <td>4</td>\n",
       "      <td>[-0.73897866 -0.73897866 -0.73897866 ...  0.23...</td>\n",
       "      <td>1</td>\n",
       "    </tr>\n",
       "    <tr>\n",
       "      <th>...</th>\n",
       "      <td>...</td>\n",
       "      <td>...</td>\n",
       "      <td>...</td>\n",
       "      <td>...</td>\n",
       "      <td>...</td>\n",
       "      <td>...</td>\n",
       "      <td>...</td>\n",
       "      <td>...</td>\n",
       "      <td>...</td>\n",
       "    </tr>\n",
       "    <tr>\n",
       "      <th>1245</th>\n",
       "      <td>0</td>\n",
       "      <td>0.5</td>\n",
       "      <td>0.001758</td>\n",
       "      <td>0.246398</td>\n",
       "      <td>0.000252</td>\n",
       "      <td>-0.241377</td>\n",
       "      <td>45</td>\n",
       "      <td>[-0.14452534 -0.14452534 -0.14452534 ... -0.29...</td>\n",
       "      <td>15</td>\n",
       "    </tr>\n",
       "    <tr>\n",
       "      <th>1246</th>\n",
       "      <td>0</td>\n",
       "      <td>0.5</td>\n",
       "      <td>0.001753</td>\n",
       "      <td>0.246392</td>\n",
       "      <td>0.000248</td>\n",
       "      <td>-0.241379</td>\n",
       "      <td>46</td>\n",
       "      <td>[-0.57261352 -0.57261352 -0.57261352 ... -0.38...</td>\n",
       "      <td>15</td>\n",
       "    </tr>\n",
       "    <tr>\n",
       "      <th>1247</th>\n",
       "      <td>0</td>\n",
       "      <td>0.5</td>\n",
       "      <td>0.001750</td>\n",
       "      <td>0.246400</td>\n",
       "      <td>0.000237</td>\n",
       "      <td>-0.241387</td>\n",
       "      <td>47</td>\n",
       "      <td>[ 0.46649014  0.46649014  0.46649014 ... -0.55...</td>\n",
       "      <td>15</td>\n",
       "    </tr>\n",
       "    <tr>\n",
       "      <th>1248</th>\n",
       "      <td>0</td>\n",
       "      <td>0.5</td>\n",
       "      <td>0.001755</td>\n",
       "      <td>0.246395</td>\n",
       "      <td>0.000250</td>\n",
       "      <td>-0.241378</td>\n",
       "      <td>48</td>\n",
       "      <td>[-0.57177573 -0.57177573 -0.57177573 ... -0.71...</td>\n",
       "      <td>15</td>\n",
       "    </tr>\n",
       "    <tr>\n",
       "      <th>1249</th>\n",
       "      <td>0</td>\n",
       "      <td>0.5</td>\n",
       "      <td>0.001755</td>\n",
       "      <td>0.246394</td>\n",
       "      <td>0.000250</td>\n",
       "      <td>-0.241378</td>\n",
       "      <td>49</td>\n",
       "      <td>[-0.2458348  -0.2458348  -0.2458348  ... -0.77...</td>\n",
       "      <td>15</td>\n",
       "    </tr>\n",
       "  </tbody>\n",
       "</table>\n",
       "<p>18750 rows × 9 columns</p>\n",
       "</div>"
      ],
      "text/plain": [
       "      Unnamed: 0  beta_factor  Mean_mag_MF    MB1_MF    MB2_MF    MB3_MF  \\\n",
       "0              0          5.0     0.975812  0.999907  0.998501  0.929028   \n",
       "1              0          5.0     0.975811  0.999907  0.998501  0.929024   \n",
       "2              0          5.0     0.275576  0.999888  0.819858 -0.993017   \n",
       "3              0          5.0     0.275577  0.999888  0.819861 -0.993017   \n",
       "4              0          5.0     0.975811  0.999907  0.998501  0.929025   \n",
       "...          ...          ...          ...       ...       ...       ...   \n",
       "1245           0          0.5     0.001758  0.246398  0.000252 -0.241377   \n",
       "1246           0          0.5     0.001753  0.246392  0.000248 -0.241379   \n",
       "1247           0          0.5     0.001750  0.246400  0.000237 -0.241387   \n",
       "1248           0          0.5     0.001755  0.246395  0.000250 -0.241378   \n",
       "1249           0          0.5     0.001755  0.246394  0.000250 -0.241378   \n",
       "\n",
       "      init_state_num                                      initial_state  Graph  \n",
       "0                  0  [-0.52837073 -0.52837073 -0.52837073 ...  0.36...      1  \n",
       "1                  1  [-0.87017683 -0.87017683 -0.87017683 ...  0.40...      1  \n",
       "2                  2  [ 0.20985375  0.20985375  0.20985375 ... -0.49...      1  \n",
       "3                  3  [ 0.20097791  0.20097791  0.20097791 ... -0.89...      1  \n",
       "4                  4  [-0.73897866 -0.73897866 -0.73897866 ...  0.23...      1  \n",
       "...              ...                                                ...    ...  \n",
       "1245              45  [-0.14452534 -0.14452534 -0.14452534 ... -0.29...     15  \n",
       "1246              46  [-0.57261352 -0.57261352 -0.57261352 ... -0.38...     15  \n",
       "1247              47  [ 0.46649014  0.46649014  0.46649014 ... -0.55...     15  \n",
       "1248              48  [-0.57177573 -0.57177573 -0.57177573 ... -0.71...     15  \n",
       "1249              49  [-0.2458348  -0.2458348  -0.2458348  ... -0.77...     15  \n",
       "\n",
       "[18750 rows x 9 columns]"
      ]
     },
     "execution_count": 3,
     "metadata": {},
     "output_type": "execute_result"
    }
   ],
   "source": [
    "mag_data_MF"
   ]
  },
  {
   "cell_type": "markdown",
   "metadata": {},
   "source": [
    "## Show all samples"
   ]
  },
  {
   "cell_type": "code",
   "execution_count": 4,
   "metadata": {},
   "outputs": [
    {
     "data": {
      "text/plain": [
       "Text(0, 0.5, 'Magnetisation')"
      ]
     },
     "execution_count": 4,
     "metadata": {},
     "output_type": "execute_result"
    },
    {
     "data": {
      "image/png": "[encoded data removed]",
      "text/plain": [
       "<Figure size 576x432 with 1 Axes>"
      ]
     },
     "metadata": {
      "needs_background": "light"
     },
     "output_type": "display_data"
    }
   ],
   "source": [
    "fig,ax=plt.subplots(figsize=(8,6))\n",
    "sns.scatterplot(data=mag_data_MF,x='beta_factor',y='Mean_mag_MF',palette='Set1',alpha=0.6,s=20)\n",
    "\n",
    "plt.xticks(fontsize=16,rotation=0)\n",
    "plt.yticks(fontsize=16,rotation=0)\n",
    "plt.xlabel(\"$\\\\beta / \\\\beta_c$\",fontsize=20)\n",
    "plt.ylabel(\"Magnetisation\",fontsize=20)"
   ]
  },
  {
   "cell_type": "markdown",
   "metadata": {},
   "source": [
    "## Show a subset of samples"
   ]
  },
  {
   "cell_type": "code",
   "execution_count": 5,
   "metadata": {},
   "outputs": [
    {
     "data": {
      "image/png": "[encoded data removed]",
      "text/plain": [
       "<Figure size 576x432 with 1 Axes>"
      ]
     },
     "metadata": {
      "needs_background": "light"
     },
     "output_type": "display_data"
    }
   ],
   "source": [
    "num_graphs=4\n",
    "sample_graphs=mag_data_MF.loc[mag_data_MF['Graph']<=num_graphs]\n",
    "\n",
    "\n",
    "fig,ax=plt.subplots(figsize=(8,6))\n",
    "sns.scatterplot(data=sample_graphs,x='beta_factor',y='Mean_mag_MF',hue='Graph',palette='Set1',style='Graph',alpha=0.6,s=20)\n",
    "\n",
    "plt.xticks(fontsize=16,rotation=0)\n",
    "plt.yticks(fontsize=16,rotation=0)\n",
    "plt.xlabel(\"$\\\\beta / \\\\beta_c$\",fontsize=20)\n",
    "plt.ylabel(\"Magnetisation\",fontsize=20)\n",
    "plt.legend(fontsize=16)\n",
    "plt.savefig(\"Plots/MF_ensemble_phase_diag.jpg\",bbox_inches='tight')"
   ]
  }
 ],
 "metadata": {
  "kernelspec": {
   "display_name": "Python 3",
   "language": "python",
   "name": "python3"
  },
  "language_info": {
   "codemirror_mode": {
    "name": "ipython",
    "version": 3
   },
   "file_extension": ".py",
   "mimetype": "text/x-python",
   "name": "python",
   "nbconvert_exporter": "python",
   "pygments_lexer": "ipython3",
   "version": "3.8.8"
  }
 },
 "nbformat": 4,
 "nbformat_minor": 2
}
