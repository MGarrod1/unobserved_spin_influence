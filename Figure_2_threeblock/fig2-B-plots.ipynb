{
 "cells": [
  {
   "cell_type": "markdown",
   "metadata": {},
   "source": [
    "Plot the phase diagram for an Ising system on a three block chain-like SBM with external fields.\n",
    "\n",
    "Uses data from simulations generated using *fig2-B-simulations.py*.\n",
    "\n",
    "**Sources:**\n",
    "- Customisation of heatmap tick labels based on: https://stackoverflow.com/questions/47784215/seaborn-heatmap-custom-tick-values. \n",
    "\n",
    "Created on: 07/12/19"
   ]
  },
  {
   "cell_type": "code",
   "execution_count": 1,
   "metadata": {},
   "outputs": [],
   "source": [
    "import pandas as pd\n",
    "import numpy as np\n",
    "import ast\n",
    "import tqdm\n",
    "import matplotlib\n",
    "import matplotlib.pyplot as plt\n",
    "import seaborn as sns"
   ]
  },
  {
   "cell_type": "code",
   "execution_count": null,
   "metadata": {},
   "outputs": [],
   "source": [
    "def from_np_array(array_string):\n",
    "    '''\n",
    "    Converter allows numpy arrays saved in a .csv file\n",
    "    to be parsed as an array rather than being interpretted\n",
    "    as a string.\n",
    "    '''\n",
    "    array_string = ' '.join(array_string.replace('[ ', '[').split())\n",
    "    return np.array(ast.literal_eval(array_string))\n",
    "\n",
    "\n",
    "f_path_block = \"Data/block_level_phase_data.csv\"\n",
    "f_path_full_graph = \"Data/full_MF_phase_data.csv\"\n",
    "f_path_mc = \"Data/MC_phase_data.csv\"\n",
    "\n",
    "\n",
    "mag_data_block = pd.read_csv(f_path_block)\n",
    "mag_data_MF = pd.read_csv(f_path_full_graph)\n",
    "mag_data_mc = pd.read_csv(f_path_mc,converters={'magnetisation_series': from_np_array})"
   ]
  },
  {
   "cell_type": "markdown",
   "metadata": {},
   "source": [
    "# Generate histograms of mean magnetisation for each $\\beta$ from MC simulation data"
   ]
  },
  {
   "cell_type": "code",
   "execution_count": null,
   "metadata": {},
   "outputs": [],
   "source": [
    "num_bins=300\n",
    "bins = np.linspace(-1.0, 1.0, num_bins)\n",
    "bin_mids = [ (bins[i]+bins[i+1])/2.0 for i in range(len(bins)-1) ]\n",
    "beta_vals = sorted(list(set(list(mag_data_mc['beta_factor']))))\n",
    "mc_hist_data = pd.DataFrame()\n",
    "\n",
    "for beta_f in tqdm.tqdm_notebook(beta_vals) :\n",
    "   \n",
    "    df = mag_data_mc.loc[mag_data_mc['beta_factor']==beta_f]\n",
    "    arrays_for_this_beta = list(df['magnetisation_series'])\n",
    "    combined_arrays = np.concatenate(tuple(arrays_for_this_beta))\n",
    "    hist, bins = np.histogram(combined_arrays, bins=bins)\n",
    "    \n",
    "    for count,b_mid in zip(hist,bin_mids) : \n",
    "        mc_hist_data=mc_hist_data.append(\n",
    "        pd.DataFrame({'beta_f':[beta_f],'M_bin':[b_mid],'normed_hist_count' :[count/max(hist)] }))\n",
    "    \n",
    "plt.figure(2,figsize=(7,7))\n",
    "piv = mc_hist_data.pivot(index='M_bin',columns='beta_f',values='normed_hist_count')\n",
    "sns.heatmap(piv)"
   ]
  },
  {
   "cell_type": "markdown",
   "metadata": {},
   "source": [
    "# Heatmap with mean-field and full IIM on top"
   ]
  },
  {
   "cell_type": "code",
   "execution_count": null,
   "metadata": {},
   "outputs": [],
   "source": [
    "class scatter_overlay :\n",
    "    \n",
    "    \n",
    "    \"\"\"\n",
    "    To overlay scatterplots on a heatmap we need\n",
    "    to scale the values to those on the axis.\n",
    "    \"\"\"\n",
    "    \n",
    "    def __init__(self,x_var,y_var,data,hm_y_ticks,hm_x_ticks,hm_x_vals,marker_style='ko',label='',alpha=0.4,markersize=5.0) :\n",
    "        \n",
    "        x_vals = list(data[x_var])\n",
    "        y_vals = list(data[y_var])\n",
    "        \n",
    "        x_max = max(hm_x_vals)\n",
    "        x_min = min(hm_x_vals)\n",
    "        percent_through = [ (b-x_min)/(x_max-x_min) for b in x_vals ]\n",
    "        x_block_width = ((hm_x_vals[1]-hm_x_vals[0])/max(hm_x_vals))*max(hm_x_ticks)\n",
    "        \n",
    "        scaled_x_vals = [ i*max(xticks) + x_block_width/2.0 for i in percent_through ]\n",
    "        \n",
    "        \n",
    "        scaled_y_vals = [ hm_y_ticks[-1]*((k+1)/2.0) for k in y_vals ]\n",
    "        \n",
    "        plt.plot(scaled_x_vals,scaled_y_vals,marker_style,label=label,markersize=markersize,alpha=alpha)\n",
    "    "
   ]
  },
  {
   "cell_type": "code",
   "execution_count": null,
   "metadata": {},
   "outputs": [],
   "source": [
    "num_yticks = 5\n",
    "yticks = np.linspace(0, len(bins) - 1, num_yticks, dtype=np.int)\n",
    "yticklabels = [ round(bins[idx],1) + 0.0 for idx in yticks]\n",
    "\n",
    "num_xticks = 7\n",
    "xticks = np.linspace(0, len(beta_vals ) - 1, num_xticks, dtype=np.int)\n",
    "xticklabels = [  round(beta_vals [idx],2) for idx in xticks]\n",
    "\n",
    "\n",
    "plt.figure(1,figsize=(8,6))\n",
    "ax = sns.heatmap(piv,cmap='Reds',yticklabels=yticklabels,\n",
    "                 xticklabels=xticklabels,alpha=0.7,\n",
    "                 norm=matplotlib.colors.SymLogNorm(linthresh=0.0001, linscale=0.03,vmin=-0.0, vmax=1.0))\n",
    "\n",
    "#Set colourbar labels:\n",
    "cbar = ax.collections[0].colorbar\n",
    "cbar.set_ticks([0, 0.001, 0.01, 0.1, 1])\n",
    "cbar.set_ticklabels(['0', '$10^{-3}$', '$10^{-2}$', '$10^{-1}$', '1'])\n",
    "cbar.ax.tick_params(labelsize=18) \n",
    "\n",
    "\n",
    "\n",
    "full_mf_scat = scatter_overlay('beta_factor','Mean_mag_MF',\n",
    "                               mag_data_MF,yticks,xticks,beta_vals,\n",
    "                              marker_style='bs',alpha=0.9,label='Full Graph MF')\n",
    "\n",
    "\n",
    "block_scat = scatter_overlay('beta_factor','Mean_mag_block',mag_data_block,yticks,\n",
    "                             xticks,beta_vals,label='Block Level MF')\n",
    "\n",
    "\n",
    "\n",
    "\n",
    "#'Proxy-Artist' for legend labels since low alpha value means things are otherwise faint:\n",
    "from matplotlib.patches import Patch\n",
    "from matplotlib.lines import Line2D\n",
    "legend_elements = [ Line2D([0], [0], marker='o', color='w', label='Block Level MF',\n",
    "                          markerfacecolor='k', markersize=12),\n",
    "                   Line2D([0], [0], marker='s', color='w', label='Full Graph MF',\n",
    "                          markerfacecolor='b', markersize=12)]\n",
    "plt.legend(handles=legend_elements,fontsize=14,loc='upper left')\n",
    "\n",
    "#plt.legend()\n",
    "ax.set_yticks(yticks)\n",
    "ax.set_xticks(xticks)\n",
    "plt.xticks(fontsize=16,rotation=0)\n",
    "plt.yticks(fontsize=16,rotation=0)\n",
    "plt.xlabel(\"$\\\\beta / \\\\beta_c$\",fontsize=20)\n",
    "plt.ylabel(\"Magnetisation\",fontsize=20)\n",
    "ax.collections[0].colorbar.set_label(\"Density (MC simulations)\",fontsize=16)\n",
    "\n",
    "plt.text(-4.0,0.1,'(b)',fontsize=25)\n",
    "\n",
    "plt.savefig(\"Plots/three_block_phase_diagram.pdf\",dpi=100)"
   ]
  },
  {
   "cell_type": "code",
   "execution_count": null,
   "metadata": {},
   "outputs": [],
   "source": []
  }
 ],
 "metadata": {
  "kernelspec": {
   "display_name": "Python 3",
   "language": "python",
   "name": "python3"
  },
  "language_info": {
   "codemirror_mode": {
    "name": "ipython",
    "version": 3
   },
   "file_extension": ".py",
   "mimetype": "text/x-python",
   "name": "python",
   "nbconvert_exporter": "python",
   "pygments_lexer": "ipython3",
   "version": "3.8.8"
  }
 },
 "nbformat": 4,
 "nbformat_minor": 2
}
