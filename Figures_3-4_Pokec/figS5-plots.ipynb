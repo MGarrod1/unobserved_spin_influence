{
 "cells": [
  {
   "cell_type": "markdown",
   "metadata": {},
   "source": [
    "Plot the data generated in *figS5-simulations.ipynb*. These experiments explore: a) How well we can estimate the magnetisation of blocks from Monte-Carlo simulations with different fractions of nodes states sampled b) The performance of different realisations of the 'snapshot influence strategy' with different fractions of nodes sampled.\n",
    "\n",
    "Created on: 03/10/20"
   ]
  },
  {
   "cell_type": "code",
   "execution_count": 1,
   "metadata": {},
   "outputs": [],
   "source": [
    "import pandas as pd\n",
    "import matplotlib.pyplot as plt\n",
    "import seaborn as sns\n",
    "import numpy as np\n",
    "from scipy import stats"
   ]
  },
  {
   "cell_type": "markdown",
   "metadata": {},
   "source": [
    "## Deviation of block magnetisation as a function of sample fraction"
   ]
  },
  {
   "cell_type": "code",
   "execution_count": 2,
   "metadata": {},
   "outputs": [
    {
     "data": {
      "text/html": [
       "<div>\n",
       "<style scoped>\n",
       "    .dataframe tbody tr th:only-of-type {\n",
       "        vertical-align: middle;\n",
       "    }\n",
       "\n",
       "    .dataframe tbody tr th {\n",
       "        vertical-align: top;\n",
       "    }\n",
       "\n",
       "    .dataframe thead th {\n",
       "        text-align: right;\n",
       "    }\n",
       "</style>\n",
       "<table border=\"1\" class=\"dataframe\">\n",
       "  <thead>\n",
       "    <tr style=\"text-align: right;\">\n",
       "      <th></th>\n",
       "      <th>Unnamed: 0</th>\n",
       "      <th>block</th>\n",
       "      <th>sample_frac</th>\n",
       "      <th>mag</th>\n",
       "    </tr>\n",
       "  </thead>\n",
       "  <tbody>\n",
       "    <tr>\n",
       "      <td>0</td>\n",
       "      <td>0</td>\n",
       "      <td>0</td>\n",
       "      <td>0.0001</td>\n",
       "      <td>-1.000000</td>\n",
       "    </tr>\n",
       "    <tr>\n",
       "      <td>1</td>\n",
       "      <td>0</td>\n",
       "      <td>1</td>\n",
       "      <td>0.0001</td>\n",
       "      <td>-1.000000</td>\n",
       "    </tr>\n",
       "    <tr>\n",
       "      <td>2</td>\n",
       "      <td>0</td>\n",
       "      <td>2</td>\n",
       "      <td>0.0001</td>\n",
       "      <td>-1.000000</td>\n",
       "    </tr>\n",
       "    <tr>\n",
       "      <td>3</td>\n",
       "      <td>0</td>\n",
       "      <td>3</td>\n",
       "      <td>0.0001</td>\n",
       "      <td>-1.000000</td>\n",
       "    </tr>\n",
       "    <tr>\n",
       "      <td>4</td>\n",
       "      <td>0</td>\n",
       "      <td>4</td>\n",
       "      <td>0.0001</td>\n",
       "      <td>-1.000000</td>\n",
       "    </tr>\n",
       "    <tr>\n",
       "      <td>...</td>\n",
       "      <td>...</td>\n",
       "      <td>...</td>\n",
       "      <td>...</td>\n",
       "      <td>...</td>\n",
       "    </tr>\n",
       "    <tr>\n",
       "      <td>1295</td>\n",
       "      <td>0</td>\n",
       "      <td>8</td>\n",
       "      <td>1.0000</td>\n",
       "      <td>-0.795222</td>\n",
       "    </tr>\n",
       "    <tr>\n",
       "      <td>1296</td>\n",
       "      <td>0</td>\n",
       "      <td>9</td>\n",
       "      <td>1.0000</td>\n",
       "      <td>-0.756011</td>\n",
       "    </tr>\n",
       "    <tr>\n",
       "      <td>1297</td>\n",
       "      <td>0</td>\n",
       "      <td>10</td>\n",
       "      <td>1.0000</td>\n",
       "      <td>-0.708674</td>\n",
       "    </tr>\n",
       "    <tr>\n",
       "      <td>1298</td>\n",
       "      <td>0</td>\n",
       "      <td>11</td>\n",
       "      <td>1.0000</td>\n",
       "      <td>-0.389643</td>\n",
       "    </tr>\n",
       "    <tr>\n",
       "      <td>1299</td>\n",
       "      <td>0</td>\n",
       "      <td>mean</td>\n",
       "      <td>1.0000</td>\n",
       "      <td>-0.615036</td>\n",
       "    </tr>\n",
       "  </tbody>\n",
       "</table>\n",
       "<p>1300 rows × 4 columns</p>\n",
       "</div>"
      ],
      "text/plain": [
       "      Unnamed: 0 block  sample_frac       mag\n",
       "0              0     0       0.0001 -1.000000\n",
       "1              0     1       0.0001 -1.000000\n",
       "2              0     2       0.0001 -1.000000\n",
       "3              0     3       0.0001 -1.000000\n",
       "4              0     4       0.0001 -1.000000\n",
       "...          ...   ...          ...       ...\n",
       "1295           0     8       1.0000 -0.795222\n",
       "1296           0     9       1.0000 -0.756011\n",
       "1297           0    10       1.0000 -0.708674\n",
       "1298           0    11       1.0000 -0.389643\n",
       "1299           0  mean       1.0000 -0.615036\n",
       "\n",
       "[1300 rows x 4 columns]"
      ]
     },
     "execution_count": 2,
     "metadata": {},
     "output_type": "execute_result"
    }
   ],
   "source": [
    "data = pd.read_csv(\"Data/snapshot_mag_eval_data_1-0.csv\")\n",
    "data"
   ]
  },
  {
   "cell_type": "code",
   "execution_count": 3,
   "metadata": {},
   "outputs": [
    {
     "data": {
      "text/html": [
       "<div>\n",
       "<style scoped>\n",
       "    .dataframe tbody tr th:only-of-type {\n",
       "        vertical-align: middle;\n",
       "    }\n",
       "\n",
       "    .dataframe tbody tr th {\n",
       "        vertical-align: top;\n",
       "    }\n",
       "\n",
       "    .dataframe thead th {\n",
       "        text-align: right;\n",
       "    }\n",
       "</style>\n",
       "<table border=\"1\" class=\"dataframe\">\n",
       "  <thead>\n",
       "    <tr style=\"text-align: right;\">\n",
       "      <th></th>\n",
       "      <th>Unnamed: 0</th>\n",
       "      <th>block</th>\n",
       "      <th>sample_frac</th>\n",
       "      <th>mag</th>\n",
       "      <th>full_samp_mag</th>\n",
       "      <th>full_samp_sem</th>\n",
       "      <th>diff_from_full_samp</th>\n",
       "    </tr>\n",
       "  </thead>\n",
       "  <tbody>\n",
       "    <tr>\n",
       "      <td>0</td>\n",
       "      <td>0</td>\n",
       "      <td>1</td>\n",
       "      <td>0.0001</td>\n",
       "      <td>-1.0</td>\n",
       "      <td>-0.764518</td>\n",
       "      <td>0.003748</td>\n",
       "      <td>0.235482</td>\n",
       "    </tr>\n",
       "    <tr>\n",
       "      <td>1</td>\n",
       "      <td>0</td>\n",
       "      <td>2</td>\n",
       "      <td>0.0001</td>\n",
       "      <td>-1.0</td>\n",
       "      <td>-0.709068</td>\n",
       "      <td>0.002953</td>\n",
       "      <td>0.290932</td>\n",
       "    </tr>\n",
       "    <tr>\n",
       "      <td>2</td>\n",
       "      <td>0</td>\n",
       "      <td>3</td>\n",
       "      <td>0.0001</td>\n",
       "      <td>-1.0</td>\n",
       "      <td>-0.388606</td>\n",
       "      <td>0.004172</td>\n",
       "      <td>0.611394</td>\n",
       "    </tr>\n",
       "    <tr>\n",
       "      <td>3</td>\n",
       "      <td>0</td>\n",
       "      <td>4</td>\n",
       "      <td>0.0001</td>\n",
       "      <td>-1.0</td>\n",
       "      <td>-0.771960</td>\n",
       "      <td>0.002839</td>\n",
       "      <td>0.228040</td>\n",
       "    </tr>\n",
       "    <tr>\n",
       "      <td>4</td>\n",
       "      <td>0</td>\n",
       "      <td>1</td>\n",
       "      <td>0.0001</td>\n",
       "      <td>-1.0</td>\n",
       "      <td>-0.764518</td>\n",
       "      <td>0.003748</td>\n",
       "      <td>0.235482</td>\n",
       "    </tr>\n",
       "  </tbody>\n",
       "</table>\n",
       "</div>"
      ],
      "text/plain": [
       "   Unnamed: 0  block  sample_frac  mag  full_samp_mag  full_samp_sem  \\\n",
       "0           0      1       0.0001 -1.0      -0.764518       0.003748   \n",
       "1           0      2       0.0001 -1.0      -0.709068       0.002953   \n",
       "2           0      3       0.0001 -1.0      -0.388606       0.004172   \n",
       "3           0      4       0.0001 -1.0      -0.771960       0.002839   \n",
       "4           0      1       0.0001 -1.0      -0.764518       0.003748   \n",
       "\n",
       "   diff_from_full_samp  \n",
       "0             0.235482  \n",
       "1             0.290932  \n",
       "2             0.611394  \n",
       "3             0.228040  \n",
       "4             0.235482  "
      ]
     },
     "execution_count": 3,
     "metadata": {},
     "output_type": "execute_result"
    }
   ],
   "source": [
    "s_frac_vals = sorted(list(set(list(data['sample_frac']))))\n",
    "\n",
    "full_samp_mags = data.loc[data['sample_frac']==1.0].groupby('block').agg({'mag':[np.mean,stats.sem]}).reset_index()\n",
    "full_samp_mags.columns=full_samp_mags.columns.map('_'.join)\n",
    "full_samp_mags=full_samp_mags.rename(columns={'block_':'block','mag_mean':'full_samp_mag','mag_sem':'full_samp_sem'})\n",
    "\n",
    "# Take first few blocks as examples:\n",
    "data=data.loc[data['block'].isin([\"1\",\"2\",\"3\",\"4\"])]\n",
    "\n",
    "data=data.merge(full_samp_mags,on=['block'],how='left')\n",
    "data['diff_from_full_samp'] = data['mag']-data['full_samp_mag']\n",
    "data['diff_from_full_samp'] = [ abs(k) for k in list(data['diff_from_full_samp'])]\n",
    "data['block'] = [ int(k) for k in list(data['block'])]\n",
    "data.head()"
   ]
  },
  {
   "cell_type": "code",
   "execution_count": 4,
   "metadata": {},
   "outputs": [],
   "source": [
    "av_across_blocks = data.groupby('sample_frac').agg({'diff_from_full_samp':np.mean}).reset_index()"
   ]
  },
  {
   "cell_type": "code",
   "execution_count": 5,
   "metadata": {},
   "outputs": [],
   "source": [
    "data=data.rename(columns={'block':'Block'})"
   ]
  },
  {
   "cell_type": "code",
   "execution_count": 9,
   "metadata": {},
   "outputs": [
    {
     "data": {
      "image/png": "[encoded data removed]",
      "text/plain": [
       "<Figure size 432x432 with 1 Axes>"
      ]
     },
     "metadata": {
      "needs_background": "light"
     },
     "output_type": "display_data"
    }
   ],
   "source": [
    "fig,ax = plt.subplots(figsize=(6,6))\n",
    "\n",
    "pal = sns.color_palette(['r','b','g','m'],4)\n",
    "\n",
    "sns.lineplot(data=data,x='sample_frac',y='diff_from_full_samp',hue='Block',style='Block',palette=pal,ci=None,markers=True, )\n",
    "\n",
    "sample_fracs = list(av_across_blocks['sample_frac'])\n",
    "average_deviation = list(av_across_blocks['diff_from_full_samp'])\n",
    "plt.plot(sample_fracs,average_deviation,'k',label='Average',lw=3.0)\n",
    "\n",
    "plt.xscale('log')\n",
    "plt.xlim(0.1*min(s_frac_vals),5.0*max(s_frac_vals))\n",
    "plt.plot([0.9*min(s_frac_vals),1.1*max(s_frac_vals)],[0,0],'k--')\n",
    "plt.ylim(-0.05,0.7)\n",
    "\n",
    "plt.ylabel(\"$ \\\\langle \\delta \\hat{M}_{B_i} \\\\rangle$\",fontsize=20)\n",
    "plt.xlabel(\"$F_{\\mathrm{samp}}$\",fontsize=20)\n",
    "plt.xticks(fontsize=14)\n",
    "plt.yticks(fontsize=14)\n",
    "\n",
    "plt.legend(fontsize=16)\n",
    "\n",
    "plt.text(1.4*1E-5,0.64,'(a)',fontsize=25)\n",
    "\n",
    "plt.savefig(\"Plots/snapshot_mag_eval.jpg\",bbox_inches='tight')"
   ]
  },
  {
   "cell_type": "markdown",
   "metadata": {},
   "source": [
    "## Control evaluation as a function of snapshot fraction"
   ]
  },
  {
   "cell_type": "code",
   "execution_count": null,
   "metadata": {},
   "outputs": [],
   "source": [
    "eval_data=pd.read_csv(\"Data/snapshot_as_sampfrac_data_grad_1-0_v2.csv\")\n",
    "eval_data.head()"
   ]
  },
  {
   "cell_type": "code",
   "execution_count": null,
   "metadata": {},
   "outputs": [],
   "source": [
    "s_frac_vals = sorted(list(set(list(eval_data['samp_frac']))))\n",
    "\n",
    "eval_data['samp_frac_str'] = [str(k) for k in list(eval_data['samp_frac'])]\n",
    "snapshot_only = eval_data.loc[eval_data['control']=='snapshot']\n",
    "\n",
    "plt.figure(figsize=(6,6))\n",
    "sns.boxplot(data=snapshot_only,x='samp_frac_str',y='magnetisation',hue='control')\n",
    "sns.swarmplot(data=snapshot_only,x='samp_frac_str',y='magnetisation',hue='snapshot_num',palette='tab20')\n",
    "\n",
    "plt.xlim(-1,5.5)"
   ]
  },
  {
   "cell_type": "code",
   "execution_count": null,
   "metadata": {},
   "outputs": [],
   "source": [
    "aggeg_to_snap = snapshot_only.groupby(['samp_frac','samp_frac_str','snapshot_num']).agg({'magnetisation':np.mean}).reset_index()\n",
    "agged_to_samp = aggeg_to_snap.groupby(['samp_frac','samp_frac_str']).agg({'magnetisation':[np.mean,np.std,stats.sem]}).reset_index()\n",
    "agged_to_samp.columns = agged_to_samp.columns.map('_'.join)\n",
    "\n",
    "map_to_ints={'0.001':0,'0.01':1,'0.1':2,'1.0':3}\n",
    "aggeg_to_snap['x_loc'] = [ map_to_ints[k] for k in list(aggeg_to_snap['samp_frac_str'])]\n",
    "\n",
    "fig,ax=plt.subplots(figsize=(6,6))\n",
    "#sns.stripplot(data=aggeg_to_snap,x='samp_frac_str',y='magnetisation')\n",
    "ax.scatter(list(aggeg_to_snap['x_loc']),list(aggeg_to_snap['magnetisation']))\n",
    "\n",
    "mag_sems = list(agged_to_samp['magnetisation_sem'])\n",
    "mag_vals = list(agged_to_samp['magnetisation_mean'])\n",
    "std_vals = list(agged_to_samp['magnetisation_std'])\n",
    "plt.errorbar([0,1,2,3],mag_vals,yerr=mag_sems,fmt='ks-',label='Average',lw=2,markersize=10)\n",
    "\n",
    "\n",
    "ax.set_xticks([0,1,2,3])\n",
    "ax.set_xticklabels(['$10^{-3}$','$10^{-2}$','$10^{-1}$','$10^{0}$'])\n",
    "plt.xlim(-1,4.1)\n",
    "plt.ylim(-0.588,-0.575)\n",
    "plt.xticks(fontsize=14)\n",
    "plt.yticks(fontsize=14)\n",
    "plt.xlabel(\"$F_{\\mathrm{samp}}$\",fontsize=20)\n",
    "plt.ylabel(\"$M$\",fontsize=20)\n",
    "plt.legend(loc='upper right',fontsize=14)\n",
    "\n",
    "plt.text(-0.8,-0.576,'(b)',fontsize=25)\n",
    "plt.savefig(\"Plots/snapshot_consistency.jpg\",bbox_inches='tight')"
   ]
  },
  {
   "cell_type": "code",
   "execution_count": null,
   "metadata": {},
   "outputs": [],
   "source": []
  }
 ],
 "metadata": {
  "kernelspec": {
   "display_name": "Python 3",
   "language": "python",
   "name": "python3"
  },
  "language_info": {
   "codemirror_mode": {
    "name": "ipython",
    "version": 3
   },
   "file_extension": ".py",
   "mimetype": "text/x-python",
   "name": "python",
   "nbconvert_exporter": "python",
   "pygments_lexer": "ipython3",
   "version": "3.8.8"
  }
 },
 "nbformat": 4,
 "nbformat_minor": 2
}
