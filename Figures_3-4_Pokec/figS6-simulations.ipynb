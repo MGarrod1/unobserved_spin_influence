{
 "cells": [
  {
   "cell_type": "markdown",
   "metadata": {},
   "source": [
    "Notebook to show how many spin flips it takes to come to equilibrium on the Pokec network. Also use this to explore the impact of different initial conditions/parameters on the burn-in time.\n",
    "\n",
    "To do:\n",
    "- Change convention for showing the number of timesteps from $T$ to $T$/$N$ (i.e. number of spin flips per node).\n",
    "\n",
    "Created on 06/01/20"
   ]
  },
  {
   "cell_type": "code",
   "execution_count": 1,
   "metadata": {},
   "outputs": [],
   "source": [
    "import networkx as nx\n",
    "import numpy as np\n",
    "import pandas as pd\n",
    "import ast\n",
    "import seaborn as sns\n",
    "import matplotlib.pyplot as plt\n",
    "import tqdm\n",
    "import random\n",
    "import itertools\n",
    "import matplotlib\n",
    "\n",
    "from ising_block_level_influence import N_Block_sbm_class as NBlock\n",
    "from ising_block_level_influence import projection_simplex as proj\n",
    "from ising_block_level_influence import mean_field_IIM\n",
    "from spatial_spin_monte_carlo import spatial_spin_monte_carlo as Spins\n",
    "import Pokec_processing as  PokProc\n",
    "\n",
    "from pokec_utils import *"
   ]
  },
  {
   "cell_type": "markdown",
   "metadata": {},
   "source": [
    "### Read in processed data\n",
    "\n",
    "This data has been generated using:\n",
    "\n",
    "1. **make_Pokec_reduced_profiles.ipynb** - which then feeds data into:\n",
    "\n",
    "2. The pre-processing script **'make_bratislava_graph_and_blocks.py'**."
   ]
  },
  {
   "cell_type": "code",
   "execution_count": 2,
   "metadata": {},
   "outputs": [
    {
     "data": {
      "text/html": [
       "<div>\n",
       "<style scoped>\n",
       "    .dataframe tbody tr th:only-of-type {\n",
       "        vertical-align: middle;\n",
       "    }\n",
       "\n",
       "    .dataframe tbody tr th {\n",
       "        vertical-align: top;\n",
       "    }\n",
       "\n",
       "    .dataframe thead th {\n",
       "        text-align: right;\n",
       "    }\n",
       "</style>\n",
       "<table border=\"1\" class=\"dataframe\">\n",
       "  <thead>\n",
       "    <tr style=\"text-align: right;\">\n",
       "      <th></th>\n",
       "      <th>Unnamed: 0</th>\n",
       "      <th>block_name</th>\n",
       "      <th>block_size</th>\n",
       "      <th>average_age</th>\n",
       "      <th>age_group</th>\n",
       "    </tr>\n",
       "  </thead>\n",
       "  <tbody>\n",
       "    <tr>\n",
       "      <td>0</td>\n",
       "      <td>0</td>\n",
       "      <td>Okolie_ages_1-17</td>\n",
       "      <td>1234</td>\n",
       "      <td>9.0</td>\n",
       "      <td>ages_1-17</td>\n",
       "    </tr>\n",
       "    <tr>\n",
       "      <td>1</td>\n",
       "      <td>1</td>\n",
       "      <td>Okolie_ages_18-21</td>\n",
       "      <td>1939</td>\n",
       "      <td>19.5</td>\n",
       "      <td>ages_18-21</td>\n",
       "    </tr>\n",
       "    <tr>\n",
       "      <td>2</td>\n",
       "      <td>2</td>\n",
       "      <td>Okolie_ages_22-28</td>\n",
       "      <td>3154</td>\n",
       "      <td>25.0</td>\n",
       "      <td>ages_22-28</td>\n",
       "    </tr>\n",
       "    <tr>\n",
       "      <td>3</td>\n",
       "      <td>3</td>\n",
       "      <td>Okolie_ages_29-112</td>\n",
       "      <td>3458</td>\n",
       "      <td>70.5</td>\n",
       "      <td>ages_29-112</td>\n",
       "    </tr>\n",
       "    <tr>\n",
       "      <td>4</td>\n",
       "      <td>4</td>\n",
       "      <td>Petrzalka_ages_1-17</td>\n",
       "      <td>1398</td>\n",
       "      <td>9.0</td>\n",
       "      <td>ages_1-17</td>\n",
       "    </tr>\n",
       "  </tbody>\n",
       "</table>\n",
       "</div>"
      ],
      "text/plain": [
       "   Unnamed: 0           block_name  block_size  average_age    age_group\n",
       "0           0     Okolie_ages_1-17        1234          9.0    ages_1-17\n",
       "1           1    Okolie_ages_18-21        1939         19.5   ages_18-21\n",
       "2           2    Okolie_ages_22-28        3154         25.0   ages_22-28\n",
       "3           3   Okolie_ages_29-112        3458         70.5  ages_29-112\n",
       "4           4  Petrzalka_ages_1-17        1398          9.0    ages_1-17"
      ]
     },
     "execution_count": 2,
     "metadata": {},
     "output_type": "execute_result"
    }
   ],
   "source": [
    "graph = nx.read_graphml('Data/Bratislava_graph.graphml')\n",
    "bratislava_profiles = pd.read_csv(\"Data/bratislava_profiles.csv\")\n",
    "coupling_graph = nx.read_graphml('Data/Bratislava_coupling.graphml')\n",
    "block_data = pd.read_csv('Data/block_info.csv',converters={'Block' : ast.literal_eval})\n",
    "mean_block_ages = list(block_data['average_age'])\n",
    "block_sizes = list(block_data['block_size'])\n",
    "block_names = list(block_data['block_name'])\n",
    "block_data['age_group'] = [ 'ages_' + k.split('_')[-1] for k in list(block_data['block_name'])]\n",
    "block_data.head()"
   ]
  },
  {
   "cell_type": "code",
   "execution_count": 3,
   "metadata": {},
   "outputs": [
    {
     "name": "stdout",
     "output_type": "stream",
     "text": [
      "Computing critical temperature\n"
     ]
    }
   ],
   "source": [
    "def linear_field(x : np.ndarray,gradient :float) :\n",
    "    return gradient*x\n",
    "\n",
    "#Scale ages to [-1,1]:\n",
    "rescaled_ages = [ (k-np.mean(mean_block_ages))/(max(mean_block_ages)-min(mean_block_ages)) for k in mean_block_ages ]\n",
    "\n",
    "beta_c = Spins.crit_beta_sparse(graph)\n",
    "\n",
    "bratislava_profiles_indices = bratislava_profiles.reset_index()\n",
    "groups = [ bratislava_profiles_indices.loc[bratislava_profiles_indices['block']==block] for block in block_names]\n",
    "groups_node_ids = [list(k['index']) for k in groups]"
   ]
  },
  {
   "cell_type": "markdown",
   "metadata": {},
   "source": [
    "## Spin series: sample chains for different initial conditions\n",
    "\n",
    "Use the parameters used in Figure 3 of main text.\n",
    "\n",
    "This version generates spin series for a single metastable state."
   ]
  },
  {
   "cell_type": "code",
   "execution_count": 4,
   "metadata": {},
   "outputs": [
    {
     "data": {
      "application/vnd.jupyter.widget-view+json": {
       "model_id": "9f4a69e5ff8440cb8c6757de4cc306c7",
       "version_major": 2,
       "version_minor": 0
      },
      "text/plain": [
       "HBox(children=(IntProgress(value=0, max=50), HTML(value='')))"
      ]
     },
     "metadata": {},
     "output_type": "display_data"
    },
    {
     "data": {
      "application/vnd.jupyter.widget-view+json": {
       "model_id": "1ed8940a486043d9a153b6f0fbe212f5",
       "version_major": 2,
       "version_minor": 0
      },
      "text/plain": [
       "HBox(children=(IntProgress(value=0, max=3000000), HTML(value='')))"
      ]
     },
     "metadata": {},
     "output_type": "display_data"
    },
    {
     "name": "stdout",
     "output_type": "stream",
     "text": [
      "\n"
     ]
    },
    {
     "data": {
      "application/vnd.jupyter.widget-view+json": {
       "model_id": "6c0da202e37e464e9cac44b608679184",
       "version_major": 2,
       "version_minor": 0
      },
      "text/plain": [
       "HBox(children=(IntProgress(value=0, max=3000000), HTML(value='')))"
      ]
     },
     "metadata": {},
     "output_type": "display_data"
    },
    {
     "name": "stdout",
     "output_type": "stream",
     "text": [
      "\n"
     ]
    },
    {
     "data": {
      "application/vnd.jupyter.widget-view+json": {
       "model_id": "abf8377379344a3f8cdce888ac09dd80",
       "version_major": 2,
       "version_minor": 0
      },
      "text/plain": [
       "HBox(children=(IntProgress(value=0, max=3000000), HTML(value='')))"
      ]
     },
     "metadata": {},
     "output_type": "display_data"
    },
    {
     "name": "stdout",
     "output_type": "stream",
     "text": [
      "\n"
     ]
    },
    {
     "data": {
      "application/vnd.jupyter.widget-view+json": {
       "model_id": "3e139038990d476f996070ddf85bd1de",
       "version_major": 2,
       "version_minor": 0
      },
      "text/plain": [
       "HBox(children=(IntProgress(value=0, max=3000000), HTML(value='')))"
      ]
     },
     "metadata": {},
     "output_type": "display_data"
    },
    {
     "name": "stdout",
     "output_type": "stream",
     "text": [
      "\n"
     ]
    },
    {
     "data": {
      "application/vnd.jupyter.widget-view+json": {
       "model_id": "ecaa92417d464ed5876929efd54d9f92",
       "version_major": 2,
       "version_minor": 0
      },
      "text/plain": [
       "HBox(children=(IntProgress(value=0, max=3000000), HTML(value='')))"
      ]
     },
     "metadata": {},
     "output_type": "display_data"
    },
    {
     "name": "stdout",
     "output_type": "stream",
     "text": [
      "\n"
     ]
    },
    {
     "data": {
      "application/vnd.jupyter.widget-view+json": {
       "model_id": "797e4f8e5427463da6202423c0cbea3f",
       "version_major": 2,
       "version_minor": 0
      },
      "text/plain": [
       "HBox(children=(IntProgress(value=0, max=3000000), HTML(value='')))"
      ]
     },
     "metadata": {},
     "output_type": "display_data"
    },
    {
     "name": "stdout",
     "output_type": "stream",
     "text": [
      "\n"
     ]
    },
    {
     "data": {
      "application/vnd.jupyter.widget-view+json": {
       "model_id": "dc703c6d6d1a45b19be296af6625cc24",
       "version_major": 2,
       "version_minor": 0
      },
      "text/plain": [
       "HBox(children=(IntProgress(value=0, max=3000000), HTML(value='')))"
      ]
     },
     "metadata": {},
     "output_type": "display_data"
    },
    {
     "name": "stdout",
     "output_type": "stream",
     "text": [
      "\n"
     ]
    },
    {
     "data": {
      "application/vnd.jupyter.widget-view+json": {
       "model_id": "a0dbcfd99af043399e5c22783379ca6f",
       "version_major": 2,
       "version_minor": 0
      },
      "text/plain": [
       "HBox(children=(IntProgress(value=0, max=3000000), HTML(value='')))"
      ]
     },
     "metadata": {},
     "output_type": "display_data"
    },
    {
     "name": "stdout",
     "output_type": "stream",
     "text": [
      "\n"
     ]
    },
    {
     "data": {
      "application/vnd.jupyter.widget-view+json": {
       "model_id": "28559b71dc784e9eabc6d5119b101372",
       "version_major": 2,
       "version_minor": 0
      },
      "text/plain": [
       "HBox(children=(IntProgress(value=0, max=3000000), HTML(value='')))"
      ]
     },
     "metadata": {},
     "output_type": "display_data"
    },
    {
     "name": "stdout",
     "output_type": "stream",
     "text": [
      "\n"
     ]
    },
    {
     "data": {
      "application/vnd.jupyter.widget-view+json": {
       "model_id": "5ae560022da74d389a1d507046be80c0",
       "version_major": 2,
       "version_minor": 0
      },
      "text/plain": [
       "HBox(children=(IntProgress(value=0, max=3000000), HTML(value='')))"
      ]
     },
     "metadata": {},
     "output_type": "display_data"
    },
    {
     "name": "stdout",
     "output_type": "stream",
     "text": [
      "\n"
     ]
    },
    {
     "data": {
      "application/vnd.jupyter.widget-view+json": {
       "model_id": "50b3b879cfb8445b9b0e7e6a346863cf",
       "version_major": 2,
       "version_minor": 0
      },
      "text/plain": [
       "HBox(children=(IntProgress(value=0, max=3000000), HTML(value='')))"
      ]
     },
     "metadata": {},
     "output_type": "display_data"
    },
    {
     "name": "stdout",
     "output_type": "stream",
     "text": [
      "\n"
     ]
    },
    {
     "data": {
      "application/vnd.jupyter.widget-view+json": {
       "model_id": "345ceda419a84133b9505b1191dc4184",
       "version_major": 2,
       "version_minor": 0
      },
      "text/plain": [
       "HBox(children=(IntProgress(value=0, max=3000000), HTML(value='')))"
      ]
     },
     "metadata": {},
     "output_type": "display_data"
    },
    {
     "name": "stdout",
     "output_type": "stream",
     "text": [
      "\n"
     ]
    },
    {
     "data": {
      "application/vnd.jupyter.widget-view+json": {
       "model_id": "5ed876a08d1f4023891f2d06e1b00ddc",
       "version_major": 2,
       "version_minor": 0
      },
      "text/plain": [
       "HBox(children=(IntProgress(value=0, max=3000000), HTML(value='')))"
      ]
     },
     "metadata": {},
     "output_type": "display_data"
    },
    {
     "name": "stdout",
     "output_type": "stream",
     "text": [
      "\n"
     ]
    },
    {
     "data": {
      "application/vnd.jupyter.widget-view+json": {
       "model_id": "52a19b11d5d2463a8119b265c89bf65a",
       "version_major": 2,
       "version_minor": 0
      },
      "text/plain": [
       "HBox(children=(IntProgress(value=0, max=3000000), HTML(value='')))"
      ]
     },
     "metadata": {},
     "output_type": "display_data"
    },
    {
     "name": "stdout",
     "output_type": "stream",
     "text": [
      "\n"
     ]
    },
    {
     "data": {
      "application/vnd.jupyter.widget-view+json": {
       "model_id": "0802ee237a1a46a09e75b8216b1a2501",
       "version_major": 2,
       "version_minor": 0
      },
      "text/plain": [
       "HBox(children=(IntProgress(value=0, max=3000000), HTML(value='')))"
      ]
     },
     "metadata": {},
     "output_type": "display_data"
    },
    {
     "name": "stdout",
     "output_type": "stream",
     "text": [
      "\n"
     ]
    },
    {
     "data": {
      "application/vnd.jupyter.widget-view+json": {
       "model_id": "546c7b56c9e34feba528a85178dd10a1",
       "version_major": 2,
       "version_minor": 0
      },
      "text/plain": [
       "HBox(children=(IntProgress(value=0, max=3000000), HTML(value='')))"
      ]
     },
     "metadata": {},
     "output_type": "display_data"
    },
    {
     "name": "stdout",
     "output_type": "stream",
     "text": [
      "\n"
     ]
    },
    {
     "data": {
      "application/vnd.jupyter.widget-view+json": {
       "model_id": "b666e91520e241c2888ce8df316cd20e",
       "version_major": 2,
       "version_minor": 0
      },
      "text/plain": [
       "HBox(children=(IntProgress(value=0, max=3000000), HTML(value='')))"
      ]
     },
     "metadata": {},
     "output_type": "display_data"
    },
    {
     "name": "stdout",
     "output_type": "stream",
     "text": [
      "\n"
     ]
    },
    {
     "data": {
      "application/vnd.jupyter.widget-view+json": {
       "model_id": "f0d1270202cd4ab9a863987ffc4fd1a1",
       "version_major": 2,
       "version_minor": 0
      },
      "text/plain": [
       "HBox(children=(IntProgress(value=0, max=3000000), HTML(value='')))"
      ]
     },
     "metadata": {},
     "output_type": "display_data"
    },
    {
     "name": "stdout",
     "output_type": "stream",
     "text": [
      "\n"
     ]
    },
    {
     "data": {
      "application/vnd.jupyter.widget-view+json": {
       "model_id": "782a9e1b292d46adba9bcbc1c13a6ef3",
       "version_major": 2,
       "version_minor": 0
      },
      "text/plain": [
       "HBox(children=(IntProgress(value=0, max=3000000), HTML(value='')))"
      ]
     },
     "metadata": {},
     "output_type": "display_data"
    },
    {
     "name": "stdout",
     "output_type": "stream",
     "text": [
      "\n"
     ]
    },
    {
     "data": {
      "application/vnd.jupyter.widget-view+json": {
       "model_id": "8b714bb0ba6c4ca1976b282853a9105c",
       "version_major": 2,
       "version_minor": 0
      },
      "text/plain": [
       "HBox(children=(IntProgress(value=0, max=3000000), HTML(value='')))"
      ]
     },
     "metadata": {},
     "output_type": "display_data"
    },
    {
     "name": "stdout",
     "output_type": "stream",
     "text": [
      "\n"
     ]
    },
    {
     "data": {
      "application/vnd.jupyter.widget-view+json": {
       "model_id": "0cbb52ec80574a8480860f5b3de1071e",
       "version_major": 2,
       "version_minor": 0
      },
      "text/plain": [
       "HBox(children=(IntProgress(value=0, max=3000000), HTML(value='')))"
      ]
     },
     "metadata": {},
     "output_type": "display_data"
    },
    {
     "name": "stdout",
     "output_type": "stream",
     "text": [
      "\n"
     ]
    },
    {
     "data": {
      "application/vnd.jupyter.widget-view+json": {
       "model_id": "57e5445b26fc46069b6a51f1edb035a9",
       "version_major": 2,
       "version_minor": 0
      },
      "text/plain": [
       "HBox(children=(IntProgress(value=0, max=3000000), HTML(value='')))"
      ]
     },
     "metadata": {},
     "output_type": "display_data"
    },
    {
     "name": "stdout",
     "output_type": "stream",
     "text": [
      "\n"
     ]
    },
    {
     "data": {
      "application/vnd.jupyter.widget-view+json": {
       "model_id": "ce513acbdc504d51b3a64876ea4c2bd0",
       "version_major": 2,
       "version_minor": 0
      },
      "text/plain": [
       "HBox(children=(IntProgress(value=0, max=3000000), HTML(value='')))"
      ]
     },
     "metadata": {},
     "output_type": "display_data"
    },
    {
     "name": "stdout",
     "output_type": "stream",
     "text": [
      "\n"
     ]
    },
    {
     "data": {
      "application/vnd.jupyter.widget-view+json": {
       "model_id": "d71d4a76a5734da2a9e2ee97a9fa131b",
       "version_major": 2,
       "version_minor": 0
      },
      "text/plain": [
       "HBox(children=(IntProgress(value=0, max=3000000), HTML(value='')))"
      ]
     },
     "metadata": {},
     "output_type": "display_data"
    },
    {
     "name": "stdout",
     "output_type": "stream",
     "text": [
      "\n"
     ]
    },
    {
     "data": {
      "application/vnd.jupyter.widget-view+json": {
       "model_id": "8ce0ccc3c726442da6f863b8358efebf",
       "version_major": 2,
       "version_minor": 0
      },
      "text/plain": [
       "HBox(children=(IntProgress(value=0, max=3000000), HTML(value='')))"
      ]
     },
     "metadata": {},
     "output_type": "display_data"
    },
    {
     "name": "stdout",
     "output_type": "stream",
     "text": [
      "\n"
     ]
    },
    {
     "data": {
      "application/vnd.jupyter.widget-view+json": {
       "model_id": "a4f1e15791aa4c89abfc73eb4764cbe7",
       "version_major": 2,
       "version_minor": 0
      },
      "text/plain": [
       "HBox(children=(IntProgress(value=0, max=3000000), HTML(value='')))"
      ]
     },
     "metadata": {},
     "output_type": "display_data"
    },
    {
     "name": "stdout",
     "output_type": "stream",
     "text": [
      "\n"
     ]
    },
    {
     "data": {
      "application/vnd.jupyter.widget-view+json": {
       "model_id": "55cbe560806049c781ce96bcae2977fc",
       "version_major": 2,
       "version_minor": 0
      },
      "text/plain": [
       "HBox(children=(IntProgress(value=0, max=3000000), HTML(value='')))"
      ]
     },
     "metadata": {},
     "output_type": "display_data"
    },
    {
     "name": "stdout",
     "output_type": "stream",
     "text": [
      "\n"
     ]
    },
    {
     "data": {
      "application/vnd.jupyter.widget-view+json": {
       "model_id": "0aefe8955e7d4122a9cf07dad97e9ef1",
       "version_major": 2,
       "version_minor": 0
      },
      "text/plain": [
       "HBox(children=(IntProgress(value=0, max=3000000), HTML(value='')))"
      ]
     },
     "metadata": {},
     "output_type": "display_data"
    },
    {
     "name": "stdout",
     "output_type": "stream",
     "text": [
      "\n"
     ]
    },
    {
     "data": {
      "application/vnd.jupyter.widget-view+json": {
       "model_id": "c990b142ee794abfada87c263ba2e858",
       "version_major": 2,
       "version_minor": 0
      },
      "text/plain": [
       "HBox(children=(IntProgress(value=0, max=3000000), HTML(value='')))"
      ]
     },
     "metadata": {},
     "output_type": "display_data"
    },
    {
     "name": "stdout",
     "output_type": "stream",
     "text": [
      "\n"
     ]
    },
    {
     "data": {
      "application/vnd.jupyter.widget-view+json": {
       "model_id": "aa9cadb9e99f43f7883de8133c811c33",
       "version_major": 2,
       "version_minor": 0
      },
      "text/plain": [
       "HBox(children=(IntProgress(value=0, max=3000000), HTML(value='')))"
      ]
     },
     "metadata": {},
     "output_type": "display_data"
    },
    {
     "name": "stdout",
     "output_type": "stream",
     "text": [
      "\n"
     ]
    },
    {
     "data": {
      "application/vnd.jupyter.widget-view+json": {
       "model_id": "4c275eb8c59f4d868b454cc869b5186c",
       "version_major": 2,
       "version_minor": 0
      },
      "text/plain": [
       "HBox(children=(IntProgress(value=0, max=3000000), HTML(value='')))"
      ]
     },
     "metadata": {},
     "output_type": "display_data"
    },
    {
     "name": "stdout",
     "output_type": "stream",
     "text": [
      "\n"
     ]
    },
    {
     "data": {
      "application/vnd.jupyter.widget-view+json": {
       "model_id": "ad3b504aab2a4202ad6ae59798780a47",
       "version_major": 2,
       "version_minor": 0
      },
      "text/plain": [
       "HBox(children=(IntProgress(value=0, max=3000000), HTML(value='')))"
      ]
     },
     "metadata": {},
     "output_type": "display_data"
    },
    {
     "name": "stdout",
     "output_type": "stream",
     "text": [
      "\n"
     ]
    },
    {
     "data": {
      "application/vnd.jupyter.widget-view+json": {
       "model_id": "3d8c4e1567a04f508bfb194e12b9e23d",
       "version_major": 2,
       "version_minor": 0
      },
      "text/plain": [
       "HBox(children=(IntProgress(value=0, max=3000000), HTML(value='')))"
      ]
     },
     "metadata": {},
     "output_type": "display_data"
    },
    {
     "name": "stdout",
     "output_type": "stream",
     "text": [
      "\n"
     ]
    },
    {
     "data": {
      "application/vnd.jupyter.widget-view+json": {
       "model_id": "01ac82724cda4b6e81aa8ffb81615132",
       "version_major": 2,
       "version_minor": 0
      },
      "text/plain": [
       "HBox(children=(IntProgress(value=0, max=3000000), HTML(value='')))"
      ]
     },
     "metadata": {},
     "output_type": "display_data"
    },
    {
     "name": "stdout",
     "output_type": "stream",
     "text": [
      "\n"
     ]
    },
    {
     "data": {
      "application/vnd.jupyter.widget-view+json": {
       "model_id": "a0455db8aa754ed499967694b027c65f",
       "version_major": 2,
       "version_minor": 0
      },
      "text/plain": [
       "HBox(children=(IntProgress(value=0, max=3000000), HTML(value='')))"
      ]
     },
     "metadata": {},
     "output_type": "display_data"
    },
    {
     "name": "stdout",
     "output_type": "stream",
     "text": [
      "\n"
     ]
    },
    {
     "data": {
      "application/vnd.jupyter.widget-view+json": {
       "model_id": "85a4c2b59028472aa4038410b824e150",
       "version_major": 2,
       "version_minor": 0
      },
      "text/plain": [
       "HBox(children=(IntProgress(value=0, max=3000000), HTML(value='')))"
      ]
     },
     "metadata": {},
     "output_type": "display_data"
    },
    {
     "name": "stdout",
     "output_type": "stream",
     "text": [
      "\n"
     ]
    },
    {
     "data": {
      "application/vnd.jupyter.widget-view+json": {
       "model_id": "a6b0d6b378fb4fd09a7be0adaa6dceaa",
       "version_major": 2,
       "version_minor": 0
      },
      "text/plain": [
       "HBox(children=(IntProgress(value=0, max=3000000), HTML(value='')))"
      ]
     },
     "metadata": {},
     "output_type": "display_data"
    },
    {
     "name": "stdout",
     "output_type": "stream",
     "text": [
      "\n"
     ]
    },
    {
     "data": {
      "application/vnd.jupyter.widget-view+json": {
       "model_id": "d3beecf52cf04e7e94a471e86b6d2a20",
       "version_major": 2,
       "version_minor": 0
      },
      "text/plain": [
       "HBox(children=(IntProgress(value=0, max=3000000), HTML(value='')))"
      ]
     },
     "metadata": {},
     "output_type": "display_data"
    },
    {
     "name": "stdout",
     "output_type": "stream",
     "text": [
      "\n"
     ]
    },
    {
     "data": {
      "application/vnd.jupyter.widget-view+json": {
       "model_id": "b7679bf28b5342be881fb9a127a5c8dc",
       "version_major": 2,
       "version_minor": 0
      },
      "text/plain": [
       "HBox(children=(IntProgress(value=0, max=3000000), HTML(value='')))"
      ]
     },
     "metadata": {},
     "output_type": "display_data"
    },
    {
     "name": "stdout",
     "output_type": "stream",
     "text": [
      "\n"
     ]
    },
    {
     "data": {
      "application/vnd.jupyter.widget-view+json": {
       "model_id": "030a71c27e5946a3ae5d68a14ca3c779",
       "version_major": 2,
       "version_minor": 0
      },
      "text/plain": [
       "HBox(children=(IntProgress(value=0, max=3000000), HTML(value='')))"
      ]
     },
     "metadata": {},
     "output_type": "display_data"
    },
    {
     "name": "stdout",
     "output_type": "stream",
     "text": [
      "\n"
     ]
    },
    {
     "data": {
      "application/vnd.jupyter.widget-view+json": {
       "model_id": "af172efd44fb4340a423314d34f94611",
       "version_major": 2,
       "version_minor": 0
      },
      "text/plain": [
       "HBox(children=(IntProgress(value=0, max=3000000), HTML(value='')))"
      ]
     },
     "metadata": {},
     "output_type": "display_data"
    },
    {
     "name": "stdout",
     "output_type": "stream",
     "text": [
      "\n"
     ]
    },
    {
     "data": {
      "application/vnd.jupyter.widget-view+json": {
       "model_id": "dacc287414654b0a837d7c34419fb9bb",
       "version_major": 2,
       "version_minor": 0
      },
      "text/plain": [
       "HBox(children=(IntProgress(value=0, max=3000000), HTML(value='')))"
      ]
     },
     "metadata": {},
     "output_type": "display_data"
    },
    {
     "name": "stdout",
     "output_type": "stream",
     "text": [
      "\n"
     ]
    },
    {
     "data": {
      "application/vnd.jupyter.widget-view+json": {
       "model_id": "65e055981f4248a39f900da653ee27e9",
       "version_major": 2,
       "version_minor": 0
      },
      "text/plain": [
       "HBox(children=(IntProgress(value=0, max=3000000), HTML(value='')))"
      ]
     },
     "metadata": {},
     "output_type": "display_data"
    },
    {
     "name": "stdout",
     "output_type": "stream",
     "text": [
      "\n"
     ]
    },
    {
     "data": {
      "application/vnd.jupyter.widget-view+json": {
       "model_id": "c485673d78894fb6a799be5c6c0f47ab",
       "version_major": 2,
       "version_minor": 0
      },
      "text/plain": [
       "HBox(children=(IntProgress(value=0, max=3000000), HTML(value='')))"
      ]
     },
     "metadata": {},
     "output_type": "display_data"
    },
    {
     "name": "stdout",
     "output_type": "stream",
     "text": [
      "\n"
     ]
    },
    {
     "data": {
      "application/vnd.jupyter.widget-view+json": {
       "model_id": "073775d503324870bcb1948f21cc0277",
       "version_major": 2,
       "version_minor": 0
      },
      "text/plain": [
       "HBox(children=(IntProgress(value=0, max=3000000), HTML(value='')))"
      ]
     },
     "metadata": {},
     "output_type": "display_data"
    },
    {
     "name": "stdout",
     "output_type": "stream",
     "text": [
      "\n"
     ]
    },
    {
     "data": {
      "application/vnd.jupyter.widget-view+json": {
       "model_id": "c2e4ec91c8b54026a92da849dd0a6cce",
       "version_major": 2,
       "version_minor": 0
      },
      "text/plain": [
       "HBox(children=(IntProgress(value=0, max=3000000), HTML(value='')))"
      ]
     },
     "metadata": {},
     "output_type": "display_data"
    },
    {
     "name": "stdout",
     "output_type": "stream",
     "text": [
      "\n"
     ]
    },
    {
     "data": {
      "application/vnd.jupyter.widget-view+json": {
       "model_id": "6bcb4e758aac46599c76553d7b4c433f",
       "version_major": 2,
       "version_minor": 0
      },
      "text/plain": [
       "HBox(children=(IntProgress(value=0, max=3000000), HTML(value='')))"
      ]
     },
     "metadata": {},
     "output_type": "display_data"
    },
    {
     "name": "stdout",
     "output_type": "stream",
     "text": [
      "\n"
     ]
    },
    {
     "data": {
      "application/vnd.jupyter.widget-view+json": {
       "model_id": "59cb7ea292a0425fb57fd109d3685b98",
       "version_major": 2,
       "version_minor": 0
      },
      "text/plain": [
       "HBox(children=(IntProgress(value=0, max=3000000), HTML(value='')))"
      ]
     },
     "metadata": {},
     "output_type": "display_data"
    },
    {
     "name": "stdout",
     "output_type": "stream",
     "text": [
      "\n"
     ]
    },
    {
     "data": {
      "application/vnd.jupyter.widget-view+json": {
       "model_id": "8151101853fc4c04a9044bdb2ab7879b",
       "version_major": 2,
       "version_minor": 0
      },
      "text/plain": [
       "HBox(children=(IntProgress(value=0, max=3000000), HTML(value='')))"
      ]
     },
     "metadata": {},
     "output_type": "display_data"
    },
    {
     "name": "stdout",
     "output_type": "stream",
     "text": [
      "\n"
     ]
    },
    {
     "data": {
      "application/vnd.jupyter.widget-view+json": {
       "model_id": "56b0c057698d4b8aa195dafaaf0013fc",
       "version_major": 2,
       "version_minor": 0
      },
      "text/plain": [
       "HBox(children=(IntProgress(value=0, max=3000000), HTML(value='')))"
      ]
     },
     "metadata": {},
     "output_type": "display_data"
    },
    {
     "name": "stdout",
     "output_type": "stream",
     "text": [
      "\n",
      "\n"
     ]
    }
   ],
   "source": [
    "#Seed the random number generators:\n",
    "seed = 1\n",
    "random.seed(seed)\n",
    "np.random.seed(seed)\n",
    "\n",
    "beta_factor_vals = [(10**k) for k in np.linspace(-1,1.8,25)]\n",
    "grad_vals = [1.0,5.0,10.0]\n",
    "\n",
    "beta_f=8.0\n",
    "gradient=10.0\n",
    "\n",
    "T = int(3*(10**6))\n",
    "T_Burn = 0 # Set this as zero to return the full length in 'Run_MonteCarlo_Average'\n",
    "\n",
    "#Field setup:\n",
    "\n",
    "age_field = [linear_field(a,gradient) for a in rescaled_ages ]\n",
    "age_field_map = {k:j for k,j in zip(list(block_data['age_group']),age_field)}\n",
    "background_field = np.asarray([age_field_map[k] for k in list(bratislava_profiles['age_group'])])\n",
    "\n",
    "# Inverse temperature: \n",
    "beta = beta_f*beta_c\n",
    "\n",
    "relab_graph = nx.relabel.convert_node_labels_to_integers(graph)\n",
    "\n",
    "\n",
    "samples=50\n",
    "\n",
    "sample_spacing=1000\n",
    "\n",
    "\n",
    "# init type can be 'pos','neg','random'\n",
    "init_type='pos'\n",
    "for init_type in ['pos'] : # need to re-declare the dataframe!!\n",
    "    mc_chains={}\n",
    "    index=0\n",
    "    mc_chains['timestep']=list(np.arange(0,T,1))[0::sample_spacing]\n",
    "    for samp in tqdm.tqdm_notebook( range(samples) ) :\n",
    "\n",
    "        # MC simulations: initial condition\n",
    "        if init_type=='neg' :\n",
    "            initial_state = -1.0*np.ones(len(graph))\n",
    "        elif init_type=='random' :\n",
    "            initial_state = np.random.choice([-1,1],len(graph))\n",
    "        elif init_type=='pos' :\n",
    "            initial_state = 1.0*np.ones(len(graph))\n",
    "\n",
    "\n",
    "        spin_series = Run_MonteCarlo_Average(relab_graph, T, beta_f,beta_c, T_Burn=T_Burn,addition_control=None,sampling_method=\"Metropolis\",full_graph_field=background_field,initial_state=initial_state)\n",
    "\n",
    "        mc_chains[f\"chain_{index}\"]=spin_series[0::sample_spacing]\n",
    "\n",
    "        # Add params to filename or dataset.\n",
    "        df=pd.DataFrame(mc_chains)\n",
    "        df.to_csv(f\"Data/mc_chain_examples/{init_type}_init_chain_data_beta_{beta_f}_g_{gradient}\".replace(\".\",\"-\") + \".csv\",index=False)\n",
    "\n",
    "        index+=1"
   ]
  },
  {
   "cell_type": "code",
   "execution_count": 5,
   "metadata": {},
   "outputs": [
    {
     "data": {
      "text/html": [
       "<div>\n",
       "<style scoped>\n",
       "    .dataframe tbody tr th:only-of-type {\n",
       "        vertical-align: middle;\n",
       "    }\n",
       "\n",
       "    .dataframe tbody tr th {\n",
       "        vertical-align: top;\n",
       "    }\n",
       "\n",
       "    .dataframe thead th {\n",
       "        text-align: right;\n",
       "    }\n",
       "</style>\n",
       "<table border=\"1\" class=\"dataframe\">\n",
       "  <thead>\n",
       "    <tr style=\"text-align: right;\">\n",
       "      <th></th>\n",
       "      <th>timestep</th>\n",
       "      <th>chain_0</th>\n",
       "      <th>chain_1</th>\n",
       "      <th>chain_2</th>\n",
       "      <th>chain_3</th>\n",
       "      <th>chain_4</th>\n",
       "      <th>chain_5</th>\n",
       "      <th>chain_6</th>\n",
       "      <th>chain_7</th>\n",
       "      <th>chain_8</th>\n",
       "      <th>...</th>\n",
       "      <th>chain_73</th>\n",
       "      <th>chain_74</th>\n",
       "      <th>chain_75</th>\n",
       "      <th>chain_76</th>\n",
       "      <th>chain_77</th>\n",
       "      <th>chain_78</th>\n",
       "      <th>chain_79</th>\n",
       "      <th>chain_80</th>\n",
       "      <th>chain_81</th>\n",
       "      <th>chain_82</th>\n",
       "    </tr>\n",
       "  </thead>\n",
       "  <tbody>\n",
       "    <tr>\n",
       "      <td>0</td>\n",
       "      <td>0</td>\n",
       "      <td>-0.000811</td>\n",
       "      <td>0.006288</td>\n",
       "      <td>-0.003718</td>\n",
       "      <td>0.004462</td>\n",
       "      <td>-0.002096</td>\n",
       "      <td>-0.001082</td>\n",
       "      <td>0.001149</td>\n",
       "      <td>0.003786</td>\n",
       "      <td>0.008181</td>\n",
       "      <td>...</td>\n",
       "      <td>-0.006828</td>\n",
       "      <td>-0.010615</td>\n",
       "      <td>-0.008181</td>\n",
       "      <td>0.003178</td>\n",
       "      <td>-0.008654</td>\n",
       "      <td>-0.002840</td>\n",
       "      <td>0.002704</td>\n",
       "      <td>-0.002907</td>\n",
       "      <td>-0.009060</td>\n",
       "      <td>0.012034</td>\n",
       "    </tr>\n",
       "    <tr>\n",
       "      <td>1</td>\n",
       "      <td>1000</td>\n",
       "      <td>0.001825</td>\n",
       "      <td>0.009600</td>\n",
       "      <td>-0.003110</td>\n",
       "      <td>0.005138</td>\n",
       "      <td>-0.002231</td>\n",
       "      <td>0.000135</td>\n",
       "      <td>0.003989</td>\n",
       "      <td>0.003313</td>\n",
       "      <td>0.005612</td>\n",
       "      <td>...</td>\n",
       "      <td>-0.002975</td>\n",
       "      <td>-0.009938</td>\n",
       "      <td>-0.008248</td>\n",
       "      <td>0.002840</td>\n",
       "      <td>-0.003854</td>\n",
       "      <td>-0.001893</td>\n",
       "      <td>0.002975</td>\n",
       "      <td>0.002975</td>\n",
       "      <td>-0.005409</td>\n",
       "      <td>0.011832</td>\n",
       "    </tr>\n",
       "    <tr>\n",
       "      <td>2</td>\n",
       "      <td>2000</td>\n",
       "      <td>0.001825</td>\n",
       "      <td>0.009871</td>\n",
       "      <td>-0.003718</td>\n",
       "      <td>0.008316</td>\n",
       "      <td>-0.003042</td>\n",
       "      <td>0.000473</td>\n",
       "      <td>0.003651</td>\n",
       "      <td>0.004665</td>\n",
       "      <td>0.003921</td>\n",
       "      <td>...</td>\n",
       "      <td>-0.002772</td>\n",
       "      <td>-0.007302</td>\n",
       "      <td>-0.004733</td>\n",
       "      <td>0.003448</td>\n",
       "      <td>-0.000947</td>\n",
       "      <td>-0.002096</td>\n",
       "      <td>0.006490</td>\n",
       "      <td>0.004259</td>\n",
       "      <td>-0.005341</td>\n",
       "      <td>0.013454</td>\n",
       "    </tr>\n",
       "    <tr>\n",
       "      <td>3</td>\n",
       "      <td>3000</td>\n",
       "      <td>0.003989</td>\n",
       "      <td>0.011832</td>\n",
       "      <td>-0.001149</td>\n",
       "      <td>0.009262</td>\n",
       "      <td>-0.003042</td>\n",
       "      <td>0.005071</td>\n",
       "      <td>0.006828</td>\n",
       "      <td>0.005003</td>\n",
       "      <td>0.006288</td>\n",
       "      <td>...</td>\n",
       "      <td>-0.000947</td>\n",
       "      <td>-0.008586</td>\n",
       "      <td>-0.003921</td>\n",
       "      <td>0.002502</td>\n",
       "      <td>0.003313</td>\n",
       "      <td>-0.000406</td>\n",
       "      <td>0.007099</td>\n",
       "      <td>0.006626</td>\n",
       "      <td>-0.005071</td>\n",
       "      <td>0.013387</td>\n",
       "    </tr>\n",
       "    <tr>\n",
       "      <td>4</td>\n",
       "      <td>4000</td>\n",
       "      <td>0.006288</td>\n",
       "      <td>0.017037</td>\n",
       "      <td>0.000000</td>\n",
       "      <td>0.008316</td>\n",
       "      <td>-0.000676</td>\n",
       "      <td>0.004597</td>\n",
       "      <td>0.011291</td>\n",
       "      <td>0.010074</td>\n",
       "      <td>0.008383</td>\n",
       "      <td>...</td>\n",
       "      <td>0.000744</td>\n",
       "      <td>-0.007302</td>\n",
       "      <td>-0.004395</td>\n",
       "      <td>0.002975</td>\n",
       "      <td>0.002975</td>\n",
       "      <td>-0.000203</td>\n",
       "      <td>0.011832</td>\n",
       "      <td>0.008451</td>\n",
       "      <td>-0.004597</td>\n",
       "      <td>0.013927</td>\n",
       "    </tr>\n",
       "    <tr>\n",
       "      <td>...</td>\n",
       "      <td>...</td>\n",
       "      <td>...</td>\n",
       "      <td>...</td>\n",
       "      <td>...</td>\n",
       "      <td>...</td>\n",
       "      <td>...</td>\n",
       "      <td>...</td>\n",
       "      <td>...</td>\n",
       "      <td>...</td>\n",
       "      <td>...</td>\n",
       "      <td>...</td>\n",
       "      <td>...</td>\n",
       "      <td>...</td>\n",
       "      <td>...</td>\n",
       "      <td>...</td>\n",
       "      <td>...</td>\n",
       "      <td>...</td>\n",
       "      <td>...</td>\n",
       "      <td>...</td>\n",
       "      <td>...</td>\n",
       "      <td>...</td>\n",
       "    </tr>\n",
       "    <tr>\n",
       "      <td>2995</td>\n",
       "      <td>2995000</td>\n",
       "      <td>-0.168008</td>\n",
       "      <td>-0.170374</td>\n",
       "      <td>-0.175377</td>\n",
       "      <td>-0.171929</td>\n",
       "      <td>-0.174295</td>\n",
       "      <td>-0.182949</td>\n",
       "      <td>-0.174566</td>\n",
       "      <td>-0.174025</td>\n",
       "      <td>-0.175445</td>\n",
       "      <td>...</td>\n",
       "      <td>-0.173822</td>\n",
       "      <td>-0.176932</td>\n",
       "      <td>-0.174768</td>\n",
       "      <td>-0.174430</td>\n",
       "      <td>-0.171320</td>\n",
       "      <td>-0.174768</td>\n",
       "      <td>-0.174363</td>\n",
       "      <td>-0.170374</td>\n",
       "      <td>-0.173957</td>\n",
       "      <td>-0.170847</td>\n",
       "    </tr>\n",
       "    <tr>\n",
       "      <td>2996</td>\n",
       "      <td>2996000</td>\n",
       "      <td>-0.167737</td>\n",
       "      <td>-0.170239</td>\n",
       "      <td>-0.174904</td>\n",
       "      <td>-0.171726</td>\n",
       "      <td>-0.173349</td>\n",
       "      <td>-0.180583</td>\n",
       "      <td>-0.174971</td>\n",
       "      <td>-0.174160</td>\n",
       "      <td>-0.174633</td>\n",
       "      <td>...</td>\n",
       "      <td>-0.173011</td>\n",
       "      <td>-0.176932</td>\n",
       "      <td>-0.175783</td>\n",
       "      <td>-0.175985</td>\n",
       "      <td>-0.171861</td>\n",
       "      <td>-0.174228</td>\n",
       "      <td>-0.174295</td>\n",
       "      <td>-0.169833</td>\n",
       "      <td>-0.173146</td>\n",
       "      <td>-0.171185</td>\n",
       "    </tr>\n",
       "    <tr>\n",
       "      <td>2997</td>\n",
       "      <td>2997000</td>\n",
       "      <td>-0.166993</td>\n",
       "      <td>-0.170036</td>\n",
       "      <td>-0.172808</td>\n",
       "      <td>-0.171658</td>\n",
       "      <td>-0.172875</td>\n",
       "      <td>-0.180110</td>\n",
       "      <td>-0.174025</td>\n",
       "      <td>-0.173551</td>\n",
       "      <td>-0.174092</td>\n",
       "      <td>...</td>\n",
       "      <td>-0.173687</td>\n",
       "      <td>-0.176053</td>\n",
       "      <td>-0.175850</td>\n",
       "      <td>-0.175512</td>\n",
       "      <td>-0.171591</td>\n",
       "      <td>-0.174566</td>\n",
       "      <td>-0.175174</td>\n",
       "      <td>-0.169563</td>\n",
       "      <td>-0.172267</td>\n",
       "      <td>-0.171658</td>\n",
       "    </tr>\n",
       "    <tr>\n",
       "      <td>2998</td>\n",
       "      <td>2998000</td>\n",
       "      <td>-0.165100</td>\n",
       "      <td>-0.171726</td>\n",
       "      <td>-0.172064</td>\n",
       "      <td>-0.170915</td>\n",
       "      <td>-0.171523</td>\n",
       "      <td>-0.179907</td>\n",
       "      <td>-0.172740</td>\n",
       "      <td>-0.173890</td>\n",
       "      <td>-0.174971</td>\n",
       "      <td>...</td>\n",
       "      <td>-0.173281</td>\n",
       "      <td>-0.176323</td>\n",
       "      <td>-0.176594</td>\n",
       "      <td>-0.175039</td>\n",
       "      <td>-0.171929</td>\n",
       "      <td>-0.175309</td>\n",
       "      <td>-0.176188</td>\n",
       "      <td>-0.169765</td>\n",
       "      <td>-0.172808</td>\n",
       "      <td>-0.172402</td>\n",
       "    </tr>\n",
       "    <tr>\n",
       "      <td>2999</td>\n",
       "      <td>2999000</td>\n",
       "      <td>-0.165709</td>\n",
       "      <td>-0.172335</td>\n",
       "      <td>-0.173551</td>\n",
       "      <td>-0.172064</td>\n",
       "      <td>-0.171320</td>\n",
       "      <td>-0.180583</td>\n",
       "      <td>-0.171726</td>\n",
       "      <td>-0.173754</td>\n",
       "      <td>-0.174295</td>\n",
       "      <td>...</td>\n",
       "      <td>-0.172470</td>\n",
       "      <td>-0.177473</td>\n",
       "      <td>-0.177067</td>\n",
       "      <td>-0.173281</td>\n",
       "      <td>-0.171185</td>\n",
       "      <td>-0.174430</td>\n",
       "      <td>-0.176729</td>\n",
       "      <td>-0.171591</td>\n",
       "      <td>-0.173551</td>\n",
       "      <td>-0.172875</td>\n",
       "    </tr>\n",
       "  </tbody>\n",
       "</table>\n",
       "<p>3000 rows × 84 columns</p>\n",
       "</div>"
      ],
      "text/plain": [
       "      timestep   chain_0   chain_1   chain_2   chain_3   chain_4   chain_5  \\\n",
       "0            0 -0.000811  0.006288 -0.003718  0.004462 -0.002096 -0.001082   \n",
       "1         1000  0.001825  0.009600 -0.003110  0.005138 -0.002231  0.000135   \n",
       "2         2000  0.001825  0.009871 -0.003718  0.008316 -0.003042  0.000473   \n",
       "3         3000  0.003989  0.011832 -0.001149  0.009262 -0.003042  0.005071   \n",
       "4         4000  0.006288  0.017037  0.000000  0.008316 -0.000676  0.004597   \n",
       "...        ...       ...       ...       ...       ...       ...       ...   \n",
       "2995   2995000 -0.168008 -0.170374 -0.175377 -0.171929 -0.174295 -0.182949   \n",
       "2996   2996000 -0.167737 -0.170239 -0.174904 -0.171726 -0.173349 -0.180583   \n",
       "2997   2997000 -0.166993 -0.170036 -0.172808 -0.171658 -0.172875 -0.180110   \n",
       "2998   2998000 -0.165100 -0.171726 -0.172064 -0.170915 -0.171523 -0.179907   \n",
       "2999   2999000 -0.165709 -0.172335 -0.173551 -0.172064 -0.171320 -0.180583   \n",
       "\n",
       "       chain_6   chain_7   chain_8  ...  chain_73  chain_74  chain_75  \\\n",
       "0     0.001149  0.003786  0.008181  ... -0.006828 -0.010615 -0.008181   \n",
       "1     0.003989  0.003313  0.005612  ... -0.002975 -0.009938 -0.008248   \n",
       "2     0.003651  0.004665  0.003921  ... -0.002772 -0.007302 -0.004733   \n",
       "3     0.006828  0.005003  0.006288  ... -0.000947 -0.008586 -0.003921   \n",
       "4     0.011291  0.010074  0.008383  ...  0.000744 -0.007302 -0.004395   \n",
       "...        ...       ...       ...  ...       ...       ...       ...   \n",
       "2995 -0.174566 -0.174025 -0.175445  ... -0.173822 -0.176932 -0.174768   \n",
       "2996 -0.174971 -0.174160 -0.174633  ... -0.173011 -0.176932 -0.175783   \n",
       "2997 -0.174025 -0.173551 -0.174092  ... -0.173687 -0.176053 -0.175850   \n",
       "2998 -0.172740 -0.173890 -0.174971  ... -0.173281 -0.176323 -0.176594   \n",
       "2999 -0.171726 -0.173754 -0.174295  ... -0.172470 -0.177473 -0.177067   \n",
       "\n",
       "      chain_76  chain_77  chain_78  chain_79  chain_80  chain_81  chain_82  \n",
       "0     0.003178 -0.008654 -0.002840  0.002704 -0.002907 -0.009060  0.012034  \n",
       "1     0.002840 -0.003854 -0.001893  0.002975  0.002975 -0.005409  0.011832  \n",
       "2     0.003448 -0.000947 -0.002096  0.006490  0.004259 -0.005341  0.013454  \n",
       "3     0.002502  0.003313 -0.000406  0.007099  0.006626 -0.005071  0.013387  \n",
       "4     0.002975  0.002975 -0.000203  0.011832  0.008451 -0.004597  0.013927  \n",
       "...        ...       ...       ...       ...       ...       ...       ...  \n",
       "2995 -0.174430 -0.171320 -0.174768 -0.174363 -0.170374 -0.173957 -0.170847  \n",
       "2996 -0.175985 -0.171861 -0.174228 -0.174295 -0.169833 -0.173146 -0.171185  \n",
       "2997 -0.175512 -0.171591 -0.174566 -0.175174 -0.169563 -0.172267 -0.171658  \n",
       "2998 -0.175039 -0.171929 -0.175309 -0.176188 -0.169765 -0.172808 -0.172402  \n",
       "2999 -0.173281 -0.171185 -0.174430 -0.176729 -0.171591 -0.173551 -0.172875  \n",
       "\n",
       "[3000 rows x 84 columns]"
      ]
     },
     "execution_count": 5,
     "metadata": {},
     "output_type": "execute_result"
    }
   ],
   "source": [
    "data=pd.read_csv(f\"Data/mc_chain_examples/random_init_chain_data_beta_{beta_f}_g_{gradient}\".replace(\".\",\"-\") + \".csv\")\n",
    "data"
   ]
  },
  {
   "cell_type": "code",
   "execution_count": null,
   "metadata": {},
   "outputs": [],
   "source": []
  }
 ],
 "metadata": {
  "kernelspec": {
   "display_name": "Python 3",
   "language": "python",
   "name": "python3"
  },
  "language_info": {
   "codemirror_mode": {
    "name": "ipython",
    "version": 3
   },
   "file_extension": ".py",
   "mimetype": "text/x-python",
   "name": "python",
   "nbconvert_exporter": "python",
   "pygments_lexer": "ipython3",
   "version": "3.7.4"
  }
 },
 "nbformat": 4,
 "nbformat_minor": 2
}
