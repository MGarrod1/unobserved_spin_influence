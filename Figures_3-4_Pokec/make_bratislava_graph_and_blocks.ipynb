{
 "cells": [
  {
   "cell_type": "markdown",
   "metadata": {},
   "source": [
    "## Make Bratislava Blocks and graph\n",
    "\n",
    "\n",
    "This notebook takes the Pokec graph data and processed metadata generated in **make_Pokec_Reduced_profiles.ipynb** as an input and outputs the lcc graph of nodes in the Bratislava region. We also output a coarse grained network consisting of 9 blocks made by differen combinations of the age and region name variables.\n",
    "\n",
    "The graph data is origianlly directed, however, we take the edges to be undirected.\n",
    "\n",
    "To do:\n",
    "- Validate that we are getting the correct matrix from the number of connections.\n",
    "- Code for the ordering of the matrix\n",
    "\n",
    "Aim: Adapting the code from *pokec_make_Bratislava_blocks.py* to be in notebook form for greater clarity on the steps perfomed.\n",
    "\n",
    "Created on 04/09/20"
   ]
  },
  {
   "cell_type": "code",
   "execution_count": 1,
   "metadata": {},
   "outputs": [],
   "source": [
    "import pandas as pd\n",
    "import numpy as np\n",
    "import networkx as nx\n",
    "import tqdm\n",
    "import geopy.distance\n",
    "import matplotlib.pyplot as plt\n",
    "import seaborn as sns\n",
    "\n",
    "import Pokec_processing as PokProc"
   ]
  },
  {
   "cell_type": "code",
   "execution_count": 2,
   "metadata": {},
   "outputs": [
    {
     "data": {
      "text/html": [
       "<div>\n",
       "<style scoped>\n",
       "    .dataframe tbody tr th:only-of-type {\n",
       "        vertical-align: middle;\n",
       "    }\n",
       "\n",
       "    .dataframe tbody tr th {\n",
       "        vertical-align: top;\n",
       "    }\n",
       "\n",
       "    .dataframe thead th {\n",
       "        text-align: right;\n",
       "    }\n",
       "</style>\n",
       "<table border=\"1\" class=\"dataframe\">\n",
       "  <thead>\n",
       "    <tr style=\"text-align: right;\">\n",
       "      <th></th>\n",
       "      <th>Unnamed: 0</th>\n",
       "      <th>user_id</th>\n",
       "      <th>gender</th>\n",
       "      <th>region</th>\n",
       "      <th>age</th>\n",
       "      <th>user_lat</th>\n",
       "      <th>user_lon</th>\n",
       "    </tr>\n",
       "  </thead>\n",
       "  <tbody>\n",
       "    <tr>\n",
       "      <th>0</th>\n",
       "      <td>0</td>\n",
       "      <td>1</td>\n",
       "      <td>1.0</td>\n",
       "      <td>zilinsky kraj, zilina</td>\n",
       "      <td>26.0</td>\n",
       "      <td>49.223467</td>\n",
       "      <td>18.739314</td>\n",
       "    </tr>\n",
       "    <tr>\n",
       "      <th>1</th>\n",
       "      <td>1</td>\n",
       "      <td>2</td>\n",
       "      <td>0.0</td>\n",
       "      <td>zilinsky kraj, kysucke nove mesto</td>\n",
       "      <td>0.0</td>\n",
       "      <td>49.299918</td>\n",
       "      <td>18.786508</td>\n",
       "    </tr>\n",
       "    <tr>\n",
       "      <th>2</th>\n",
       "      <td>2</td>\n",
       "      <td>16</td>\n",
       "      <td>1.0</td>\n",
       "      <td>zilinsky kraj, kysucke nove mesto</td>\n",
       "      <td>23.0</td>\n",
       "      <td>49.299918</td>\n",
       "      <td>18.786508</td>\n",
       "    </tr>\n",
       "    <tr>\n",
       "      <th>3</th>\n",
       "      <td>3</td>\n",
       "      <td>3</td>\n",
       "      <td>1.0</td>\n",
       "      <td>bratislavsky kraj, bratislava - karlova ves</td>\n",
       "      <td>29.0</td>\n",
       "      <td>48.159240</td>\n",
       "      <td>17.052677</td>\n",
       "    </tr>\n",
       "    <tr>\n",
       "      <th>4</th>\n",
       "      <td>4</td>\n",
       "      <td>4</td>\n",
       "      <td>0.0</td>\n",
       "      <td>banskobystricky kraj, brezno</td>\n",
       "      <td>26.0</td>\n",
       "      <td>48.805335</td>\n",
       "      <td>19.640961</td>\n",
       "    </tr>\n",
       "  </tbody>\n",
       "</table>\n",
       "</div>"
      ],
      "text/plain": [
       "   Unnamed: 0  user_id  gender                                       region  \\\n",
       "0           0        1     1.0                        zilinsky kraj, zilina   \n",
       "1           1        2     0.0            zilinsky kraj, kysucke nove mesto   \n",
       "2           2       16     1.0            zilinsky kraj, kysucke nove mesto   \n",
       "3           3        3     1.0  bratislavsky kraj, bratislava - karlova ves   \n",
       "4           4        4     0.0                 banskobystricky kraj, brezno   \n",
       "\n",
       "    age   user_lat   user_lon  \n",
       "0  26.0  49.223467  18.739314  \n",
       "1   0.0  49.299918  18.786508  \n",
       "2  23.0  49.299918  18.786508  \n",
       "3  29.0  48.159240  17.052677  \n",
       "4  26.0  48.805335  19.640961  "
      ]
     },
     "execution_count": 2,
     "metadata": {},
     "output_type": "execute_result"
    }
   ],
   "source": [
    "path_to_reduced_profiles = 'Data/reduced_pokec_profiles.csv'\n",
    "all_profiles = pd.read_csv(path_to_reduced_profiles)\n",
    "all_profiles.head()"
   ]
  },
  {
   "cell_type": "markdown",
   "metadata": {},
   "source": [
    "## Filter missing values\n",
    "Missing ages and locations are set to 0.0. Filter these out."
   ]
  },
  {
   "cell_type": "code",
   "execution_count": 3,
   "metadata": {},
   "outputs": [],
   "source": [
    "all_profiles = all_profiles.loc[(all_profiles['age'] > 0.0) & (all_profiles['user_lat'] > 0.0)]"
   ]
  },
  {
   "cell_type": "markdown",
   "metadata": {},
   "source": [
    "Use the 0,25,50,75 and 100th percentiles of the distribution of ages."
   ]
  },
  {
   "cell_type": "markdown",
   "metadata": {},
   "source": [
    "## Set age and region bins"
   ]
  },
  {
   "cell_type": "code",
   "execution_count": 4,
   "metadata": {},
   "outputs": [
    {
     "name": "stdout",
     "output_type": "stream",
     "text": [
      "age ranges\n",
      "[(1.0, 17.0), (18.0, 21.0), (22.0, 28.0), (29.0, 112.0)]\n"
     ]
    }
   ],
   "source": [
    "ages=list(all_profiles['age'])\n",
    "age_ranges = [(np.percentile(ages, 0), np.percentile(ages, 25)-1), (np.percentile(ages, 25), np.percentile(ages, 50)-1)\n",
    "    , (np.percentile(ages, 50), np.percentile(ages, 75)-1), (np.percentile(ages, 75), np.percentile(ages, 100))]\n",
    "print(\"age ranges\")\n",
    "print(age_ranges)\n",
    "\n",
    "region_names = ['bratislavsky kraj, bratislava - okolie','bratislavsky kraj, bratislava - petrzalka',\n",
    "'bratislavsky kraj, bratislava - ruzinov']"
   ]
  },
  {
   "cell_type": "code",
   "execution_count": 5,
   "metadata": {},
   "outputs": [
    {
     "name": "stderr",
     "output_type": "stream",
     "text": [
      "<ipython-input-5-0cba52b5485a>:4: SettingWithCopyWarning: \n",
      "A value is trying to be set on a copy of a slice from a DataFrame.\n",
      "Try using .loc[row_indexer,col_indexer] = value instead\n",
      "\n",
      "See the caveats in the documentation: https://pandas.pydata.org/pandas-docs/stable/user_guide/indexing.html#returning-a-view-versus-a-copy\n",
      "  bratislava_profiles['region'] = [ k.split(' ')[-1].title() for k in list(bratislava_profiles['region']) ]\n"
     ]
    },
    {
     "data": {
      "text/html": [
       "<div>\n",
       "<style scoped>\n",
       "    .dataframe tbody tr th:only-of-type {\n",
       "        vertical-align: middle;\n",
       "    }\n",
       "\n",
       "    .dataframe tbody tr th {\n",
       "        vertical-align: top;\n",
       "    }\n",
       "\n",
       "    .dataframe thead th {\n",
       "        text-align: right;\n",
       "    }\n",
       "</style>\n",
       "<table border=\"1\" class=\"dataframe\">\n",
       "  <thead>\n",
       "    <tr style=\"text-align: right;\">\n",
       "      <th></th>\n",
       "      <th>Unnamed: 0</th>\n",
       "      <th>user_id</th>\n",
       "      <th>gender</th>\n",
       "      <th>region</th>\n",
       "      <th>age</th>\n",
       "      <th>user_lat</th>\n",
       "      <th>user_lon</th>\n",
       "    </tr>\n",
       "  </thead>\n",
       "  <tbody>\n",
       "    <tr>\n",
       "      <th>112</th>\n",
       "      <td>112</td>\n",
       "      <td>181</td>\n",
       "      <td>1.0</td>\n",
       "      <td>Ruzinov</td>\n",
       "      <td>26.0</td>\n",
       "      <td>48.149314</td>\n",
       "      <td>17.164505</td>\n",
       "    </tr>\n",
       "    <tr>\n",
       "      <th>314</th>\n",
       "      <td>314</td>\n",
       "      <td>344</td>\n",
       "      <td>0.0</td>\n",
       "      <td>Ruzinov</td>\n",
       "      <td>22.0</td>\n",
       "      <td>48.149314</td>\n",
       "      <td>17.164505</td>\n",
       "    </tr>\n",
       "    <tr>\n",
       "      <th>450</th>\n",
       "      <td>450</td>\n",
       "      <td>529</td>\n",
       "      <td>1.0</td>\n",
       "      <td>Okolie</td>\n",
       "      <td>22.0</td>\n",
       "      <td>48.295066</td>\n",
       "      <td>17.242634</td>\n",
       "    </tr>\n",
       "    <tr>\n",
       "      <th>804</th>\n",
       "      <td>804</td>\n",
       "      <td>834</td>\n",
       "      <td>1.0</td>\n",
       "      <td>Okolie</td>\n",
       "      <td>18.0</td>\n",
       "      <td>48.295066</td>\n",
       "      <td>17.242634</td>\n",
       "    </tr>\n",
       "    <tr>\n",
       "      <th>1247</th>\n",
       "      <td>1247</td>\n",
       "      <td>1138</td>\n",
       "      <td>0.0</td>\n",
       "      <td>Okolie</td>\n",
       "      <td>16.0</td>\n",
       "      <td>48.295066</td>\n",
       "      <td>17.242634</td>\n",
       "    </tr>\n",
       "    <tr>\n",
       "      <th>...</th>\n",
       "      <td>...</td>\n",
       "      <td>...</td>\n",
       "      <td>...</td>\n",
       "      <td>...</td>\n",
       "      <td>...</td>\n",
       "      <td>...</td>\n",
       "      <td>...</td>\n",
       "    </tr>\n",
       "    <tr>\n",
       "      <th>1632688</th>\n",
       "      <td>1632688</td>\n",
       "      <td>1632689</td>\n",
       "      <td>0.0</td>\n",
       "      <td>Petrzalka</td>\n",
       "      <td>31.0</td>\n",
       "      <td>48.110972</td>\n",
       "      <td>17.111290</td>\n",
       "    </tr>\n",
       "    <tr>\n",
       "      <th>1632720</th>\n",
       "      <td>1632720</td>\n",
       "      <td>1632721</td>\n",
       "      <td>1.0</td>\n",
       "      <td>Ruzinov</td>\n",
       "      <td>37.0</td>\n",
       "      <td>48.149314</td>\n",
       "      <td>17.164505</td>\n",
       "    </tr>\n",
       "    <tr>\n",
       "      <th>1632739</th>\n",
       "      <td>1632739</td>\n",
       "      <td>1632740</td>\n",
       "      <td>1.0</td>\n",
       "      <td>Okolie</td>\n",
       "      <td>26.0</td>\n",
       "      <td>48.295066</td>\n",
       "      <td>17.242634</td>\n",
       "    </tr>\n",
       "    <tr>\n",
       "      <th>1632753</th>\n",
       "      <td>1632753</td>\n",
       "      <td>1632754</td>\n",
       "      <td>1.0</td>\n",
       "      <td>Ruzinov</td>\n",
       "      <td>48.0</td>\n",
       "      <td>48.149314</td>\n",
       "      <td>17.164505</td>\n",
       "    </tr>\n",
       "    <tr>\n",
       "      <th>1632794</th>\n",
       "      <td>1632794</td>\n",
       "      <td>1632795</td>\n",
       "      <td>1.0</td>\n",
       "      <td>Okolie</td>\n",
       "      <td>31.0</td>\n",
       "      <td>48.295066</td>\n",
       "      <td>17.242634</td>\n",
       "    </tr>\n",
       "  </tbody>\n",
       "</table>\n",
       "<p>46106 rows × 7 columns</p>\n",
       "</div>"
      ],
      "text/plain": [
       "         Unnamed: 0  user_id  gender     region   age   user_lat   user_lon\n",
       "112             112      181     1.0    Ruzinov  26.0  48.149314  17.164505\n",
       "314             314      344     0.0    Ruzinov  22.0  48.149314  17.164505\n",
       "450             450      529     1.0     Okolie  22.0  48.295066  17.242634\n",
       "804             804      834     1.0     Okolie  18.0  48.295066  17.242634\n",
       "1247           1247     1138     0.0     Okolie  16.0  48.295066  17.242634\n",
       "...             ...      ...     ...        ...   ...        ...        ...\n",
       "1632688     1632688  1632689     0.0  Petrzalka  31.0  48.110972  17.111290\n",
       "1632720     1632720  1632721     1.0    Ruzinov  37.0  48.149314  17.164505\n",
       "1632739     1632739  1632740     1.0     Okolie  26.0  48.295066  17.242634\n",
       "1632753     1632753  1632754     1.0    Ruzinov  48.0  48.149314  17.164505\n",
       "1632794     1632794  1632795     1.0     Okolie  31.0  48.295066  17.242634\n",
       "\n",
       "[46106 rows x 7 columns]"
      ]
     },
     "execution_count": 5,
     "metadata": {},
     "output_type": "execute_result"
    }
   ],
   "source": [
    "bratislava_profiles = all_profiles.loc[all_profiles['region'].isin(region_names)]\n",
    "\n",
    "#Shorter naming convention with caps\n",
    "bratislava_profiles['region'] = [ k.split(' ')[-1].title() for k in list(bratislava_profiles['region']) ]\n",
    "\n",
    "region_names = [ k.split(' ')[-1].title() for k in region_names ]\n",
    "\n",
    "bratislava_profiles"
   ]
  },
  {
   "cell_type": "code",
   "execution_count": 6,
   "metadata": {},
   "outputs": [
    {
     "name": "stderr",
     "output_type": "stream",
     "text": [
      "<ipython-input-6-c1fde0c31d59>:17: SettingWithCopyWarning: \n",
      "A value is trying to be set on a copy of a slice from a DataFrame.\n",
      "Try using .loc[row_indexer,col_indexer] = value instead\n",
      "\n",
      "See the caveats in the documentation: https://pandas.pydata.org/pandas-docs/stable/user_guide/indexing.html#returning-a-view-versus-a-copy\n",
      "  bratislava_profiles['age_group'] = [get_age_cat(age_ranges,age) for age in list(bratislava_profiles['age'])]\n",
      "<ipython-input-6-c1fde0c31d59>:18: SettingWithCopyWarning: \n",
      "A value is trying to be set on a copy of a slice from a DataFrame.\n",
      "Try using .loc[row_indexer,col_indexer] = value instead\n",
      "\n",
      "See the caveats in the documentation: https://pandas.pydata.org/pandas-docs/stable/user_guide/indexing.html#returning-a-view-versus-a-copy\n",
      "  bratislava_profiles['block'] = [ i +'_'+ j for i,j in zip(list(bratislava_profiles['region']),list(bratislava_profiles['age_group']))]\n"
     ]
    },
    {
     "data": {
      "text/html": [
       "<div>\n",
       "<style scoped>\n",
       "    .dataframe tbody tr th:only-of-type {\n",
       "        vertical-align: middle;\n",
       "    }\n",
       "\n",
       "    .dataframe tbody tr th {\n",
       "        vertical-align: top;\n",
       "    }\n",
       "\n",
       "    .dataframe thead th {\n",
       "        text-align: right;\n",
       "    }\n",
       "</style>\n",
       "<table border=\"1\" class=\"dataframe\">\n",
       "  <thead>\n",
       "    <tr style=\"text-align: right;\">\n",
       "      <th></th>\n",
       "      <th>Unnamed: 0</th>\n",
       "      <th>user_id</th>\n",
       "      <th>gender</th>\n",
       "      <th>region</th>\n",
       "      <th>age</th>\n",
       "      <th>user_lat</th>\n",
       "      <th>user_lon</th>\n",
       "      <th>age_group</th>\n",
       "      <th>block</th>\n",
       "    </tr>\n",
       "  </thead>\n",
       "  <tbody>\n",
       "    <tr>\n",
       "      <th>112</th>\n",
       "      <td>112</td>\n",
       "      <td>181</td>\n",
       "      <td>1.0</td>\n",
       "      <td>Ruzinov</td>\n",
       "      <td>26.0</td>\n",
       "      <td>48.149314</td>\n",
       "      <td>17.164505</td>\n",
       "      <td>ages_22-28</td>\n",
       "      <td>Ruzinov_ages_22-28</td>\n",
       "    </tr>\n",
       "    <tr>\n",
       "      <th>314</th>\n",
       "      <td>314</td>\n",
       "      <td>344</td>\n",
       "      <td>0.0</td>\n",
       "      <td>Ruzinov</td>\n",
       "      <td>22.0</td>\n",
       "      <td>48.149314</td>\n",
       "      <td>17.164505</td>\n",
       "      <td>ages_22-28</td>\n",
       "      <td>Ruzinov_ages_22-28</td>\n",
       "    </tr>\n",
       "    <tr>\n",
       "      <th>450</th>\n",
       "      <td>450</td>\n",
       "      <td>529</td>\n",
       "      <td>1.0</td>\n",
       "      <td>Okolie</td>\n",
       "      <td>22.0</td>\n",
       "      <td>48.295066</td>\n",
       "      <td>17.242634</td>\n",
       "      <td>ages_22-28</td>\n",
       "      <td>Okolie_ages_22-28</td>\n",
       "    </tr>\n",
       "    <tr>\n",
       "      <th>804</th>\n",
       "      <td>804</td>\n",
       "      <td>834</td>\n",
       "      <td>1.0</td>\n",
       "      <td>Okolie</td>\n",
       "      <td>18.0</td>\n",
       "      <td>48.295066</td>\n",
       "      <td>17.242634</td>\n",
       "      <td>ages_18-21</td>\n",
       "      <td>Okolie_ages_18-21</td>\n",
       "    </tr>\n",
       "    <tr>\n",
       "      <th>1247</th>\n",
       "      <td>1247</td>\n",
       "      <td>1138</td>\n",
       "      <td>0.0</td>\n",
       "      <td>Okolie</td>\n",
       "      <td>16.0</td>\n",
       "      <td>48.295066</td>\n",
       "      <td>17.242634</td>\n",
       "      <td>ages_1-17</td>\n",
       "      <td>Okolie_ages_1-17</td>\n",
       "    </tr>\n",
       "    <tr>\n",
       "      <th>...</th>\n",
       "      <td>...</td>\n",
       "      <td>...</td>\n",
       "      <td>...</td>\n",
       "      <td>...</td>\n",
       "      <td>...</td>\n",
       "      <td>...</td>\n",
       "      <td>...</td>\n",
       "      <td>...</td>\n",
       "      <td>...</td>\n",
       "    </tr>\n",
       "    <tr>\n",
       "      <th>1632688</th>\n",
       "      <td>1632688</td>\n",
       "      <td>1632689</td>\n",
       "      <td>0.0</td>\n",
       "      <td>Petrzalka</td>\n",
       "      <td>31.0</td>\n",
       "      <td>48.110972</td>\n",
       "      <td>17.111290</td>\n",
       "      <td>ages_29-112</td>\n",
       "      <td>Petrzalka_ages_29-112</td>\n",
       "    </tr>\n",
       "    <tr>\n",
       "      <th>1632720</th>\n",
       "      <td>1632720</td>\n",
       "      <td>1632721</td>\n",
       "      <td>1.0</td>\n",
       "      <td>Ruzinov</td>\n",
       "      <td>37.0</td>\n",
       "      <td>48.149314</td>\n",
       "      <td>17.164505</td>\n",
       "      <td>ages_29-112</td>\n",
       "      <td>Ruzinov_ages_29-112</td>\n",
       "    </tr>\n",
       "    <tr>\n",
       "      <th>1632739</th>\n",
       "      <td>1632739</td>\n",
       "      <td>1632740</td>\n",
       "      <td>1.0</td>\n",
       "      <td>Okolie</td>\n",
       "      <td>26.0</td>\n",
       "      <td>48.295066</td>\n",
       "      <td>17.242634</td>\n",
       "      <td>ages_22-28</td>\n",
       "      <td>Okolie_ages_22-28</td>\n",
       "    </tr>\n",
       "    <tr>\n",
       "      <th>1632753</th>\n",
       "      <td>1632753</td>\n",
       "      <td>1632754</td>\n",
       "      <td>1.0</td>\n",
       "      <td>Ruzinov</td>\n",
       "      <td>48.0</td>\n",
       "      <td>48.149314</td>\n",
       "      <td>17.164505</td>\n",
       "      <td>ages_29-112</td>\n",
       "      <td>Ruzinov_ages_29-112</td>\n",
       "    </tr>\n",
       "    <tr>\n",
       "      <th>1632794</th>\n",
       "      <td>1632794</td>\n",
       "      <td>1632795</td>\n",
       "      <td>1.0</td>\n",
       "      <td>Okolie</td>\n",
       "      <td>31.0</td>\n",
       "      <td>48.295066</td>\n",
       "      <td>17.242634</td>\n",
       "      <td>ages_29-112</td>\n",
       "      <td>Okolie_ages_29-112</td>\n",
       "    </tr>\n",
       "  </tbody>\n",
       "</table>\n",
       "<p>46106 rows × 9 columns</p>\n",
       "</div>"
      ],
      "text/plain": [
       "         Unnamed: 0  user_id  gender     region   age   user_lat   user_lon  \\\n",
       "112             112      181     1.0    Ruzinov  26.0  48.149314  17.164505   \n",
       "314             314      344     0.0    Ruzinov  22.0  48.149314  17.164505   \n",
       "450             450      529     1.0     Okolie  22.0  48.295066  17.242634   \n",
       "804             804      834     1.0     Okolie  18.0  48.295066  17.242634   \n",
       "1247           1247     1138     0.0     Okolie  16.0  48.295066  17.242634   \n",
       "...             ...      ...     ...        ...   ...        ...        ...   \n",
       "1632688     1632688  1632689     0.0  Petrzalka  31.0  48.110972  17.111290   \n",
       "1632720     1632720  1632721     1.0    Ruzinov  37.0  48.149314  17.164505   \n",
       "1632739     1632739  1632740     1.0     Okolie  26.0  48.295066  17.242634   \n",
       "1632753     1632753  1632754     1.0    Ruzinov  48.0  48.149314  17.164505   \n",
       "1632794     1632794  1632795     1.0     Okolie  31.0  48.295066  17.242634   \n",
       "\n",
       "           age_group                  block  \n",
       "112       ages_22-28     Ruzinov_ages_22-28  \n",
       "314       ages_22-28     Ruzinov_ages_22-28  \n",
       "450       ages_22-28      Okolie_ages_22-28  \n",
       "804       ages_18-21      Okolie_ages_18-21  \n",
       "1247       ages_1-17       Okolie_ages_1-17  \n",
       "...              ...                    ...  \n",
       "1632688  ages_29-112  Petrzalka_ages_29-112  \n",
       "1632720  ages_29-112    Ruzinov_ages_29-112  \n",
       "1632739   ages_22-28      Okolie_ages_22-28  \n",
       "1632753  ages_29-112    Ruzinov_ages_29-112  \n",
       "1632794  ages_29-112     Okolie_ages_29-112  \n",
       "\n",
       "[46106 rows x 9 columns]"
      ]
     },
     "execution_count": 6,
     "metadata": {},
     "output_type": "execute_result"
    }
   ],
   "source": [
    "def age_range_string(age_ranges,index) :\n",
    "    return f\"ages_{int(age_ranges[index][0])}-{int(age_ranges[index][1])}\"\n",
    "\n",
    "def get_age_cat(age_ranges,age) :\n",
    "    for group,age_range in enumerate(age_ranges) :\n",
    "        if age_range[0] <= age <= age_range[1] :\n",
    "            return age_range_string(age_ranges,group)\n",
    "\n",
    "        \n",
    "block_names = [ ]\n",
    "block_ages = [ ]\n",
    "for i in region_names :\n",
    "    for j in range(len(age_ranges)) :\n",
    "        block_names.append(i +'_'+ age_range_string(age_ranges,j) )\n",
    "        block_ages.append(age_ranges[j])\n",
    "\n",
    "bratislava_profiles['age_group'] = [get_age_cat(age_ranges,age) for age in list(bratislava_profiles['age'])]\n",
    "bratislava_profiles['block'] = [ i +'_'+ j for i,j in zip(list(bratislava_profiles['region']),list(bratislava_profiles['age_group']))]\n",
    "bratislava_profiles"
   ]
  },
  {
   "cell_type": "code",
   "execution_count": 7,
   "metadata": {},
   "outputs": [
    {
     "name": "stdout",
     "output_type": "stream",
     "text": [
      "46106\n"
     ]
    }
   ],
   "source": [
    "bratislava_user_ids = list(bratislava_profiles['user_id'])\n",
    "print(len(bratislava_user_ids))"
   ]
  },
  {
   "cell_type": "markdown",
   "metadata": {},
   "source": [
    "## Read edge data"
   ]
  },
  {
   "cell_type": "code",
   "execution_count": 8,
   "metadata": {},
   "outputs": [],
   "source": [
    "def read_edge_list(path_to_edge_list) :\n",
    "    print(\"Reading edge data...\")\n",
    "    edge_data = pd.read_csv(path_to_edge_list,sep='\\t',names=['id_1','id_2'],dtype=np.int32)\n",
    "    return edge_data"
   ]
  },
  {
   "cell_type": "code",
   "execution_count": 9,
   "metadata": {},
   "outputs": [
    {
     "name": "stdout",
     "output_type": "stream",
     "text": [
      "Reading edge data...\n"
     ]
    },
    {
     "data": {
      "text/html": [
       "<div>\n",
       "<style scoped>\n",
       "    .dataframe tbody tr th:only-of-type {\n",
       "        vertical-align: middle;\n",
       "    }\n",
       "\n",
       "    .dataframe tbody tr th {\n",
       "        vertical-align: top;\n",
       "    }\n",
       "\n",
       "    .dataframe thead th {\n",
       "        text-align: right;\n",
       "    }\n",
       "</style>\n",
       "<table border=\"1\" class=\"dataframe\">\n",
       "  <thead>\n",
       "    <tr style=\"text-align: right;\">\n",
       "      <th></th>\n",
       "      <th>id_1</th>\n",
       "      <th>id_2</th>\n",
       "    </tr>\n",
       "  </thead>\n",
       "  <tbody>\n",
       "    <tr>\n",
       "      <th>0</th>\n",
       "      <td>1</td>\n",
       "      <td>13</td>\n",
       "    </tr>\n",
       "    <tr>\n",
       "      <th>1</th>\n",
       "      <td>1</td>\n",
       "      <td>11</td>\n",
       "    </tr>\n",
       "    <tr>\n",
       "      <th>2</th>\n",
       "      <td>1</td>\n",
       "      <td>6</td>\n",
       "    </tr>\n",
       "    <tr>\n",
       "      <th>3</th>\n",
       "      <td>1</td>\n",
       "      <td>3</td>\n",
       "    </tr>\n",
       "    <tr>\n",
       "      <th>4</th>\n",
       "      <td>1</td>\n",
       "      <td>4</td>\n",
       "    </tr>\n",
       "  </tbody>\n",
       "</table>\n",
       "</div>"
      ],
      "text/plain": [
       "   id_1  id_2\n",
       "0     1    13\n",
       "1     1    11\n",
       "2     1     6\n",
       "3     1     3\n",
       "4     1     4"
      ]
     },
     "execution_count": 9,
     "metadata": {},
     "output_type": "execute_result"
    }
   ],
   "source": [
    "path_to_edge_list = 'Data/raw_data/soc-pokec-relationships.txt'\n",
    "\n",
    "edge_data = read_edge_list(path_to_edge_list)\n",
    "edge_data.head()"
   ]
  },
  {
   "cell_type": "code",
   "execution_count": 10,
   "metadata": {},
   "outputs": [
    {
     "data": {
      "text/plain": [
       "30622564"
      ]
     },
     "execution_count": 10,
     "metadata": {},
     "output_type": "execute_result"
    }
   ],
   "source": [
    "len(edge_data)"
   ]
  },
  {
   "cell_type": "code",
   "execution_count": 11,
   "metadata": {},
   "outputs": [
    {
     "name": "stdout",
     "output_type": "stream",
     "text": [
      "91482\n"
     ]
    }
   ],
   "source": [
    "bratislava_edge_data = edge_data.loc[ (edge_data['id_1'].isin(bratislava_user_ids)) & (edge_data['id_2'].isin(bratislava_user_ids))]\n",
    "print(len(bratislava_edge_data))"
   ]
  },
  {
   "cell_type": "markdown",
   "metadata": {},
   "source": [
    "## Build graph and extract LCC"
   ]
  },
  {
   "cell_type": "code",
   "execution_count": 12,
   "metadata": {},
   "outputs": [
    {
     "data": {
      "text/plain": [
       "30953"
      ]
     },
     "execution_count": 12,
     "metadata": {},
     "output_type": "execute_result"
    }
   ],
   "source": [
    "graph = PokProc.make_graph_from_edge_data(bratislava_profiles,bratislava_edge_data,add_disconnected_nodes=False)\n",
    "len(graph)"
   ]
  },
  {
   "cell_type": "code",
   "execution_count": 13,
   "metadata": {},
   "outputs": [
    {
     "name": "stdout",
     "output_type": "stream",
     "text": [
      "29582\n"
     ]
    }
   ],
   "source": [
    "Gcc = sorted(nx.connected_components(graph), key=len, reverse=True)\n",
    "lcc_graph = graph.subgraph(Gcc[0])\n",
    "print(len(lcc_graph))"
   ]
  },
  {
   "cell_type": "code",
   "execution_count": 14,
   "metadata": {},
   "outputs": [
    {
     "data": {
      "text/plain": [
       "29582"
      ]
     },
     "execution_count": 14,
     "metadata": {},
     "output_type": "execute_result"
    }
   ],
   "source": [
    "bratislava_lcc_profiles = bratislava_profiles.loc[bratislava_profiles['user_id'].isin(lcc_graph.nodes())]\n",
    "len(bratislava_lcc_profiles)"
   ]
  },
  {
   "cell_type": "code",
   "execution_count": 15,
   "metadata": {},
   "outputs": [],
   "source": [
    "bratislava_lcc_profiles.to_csv(\"Data/bratislava_profiles.csv\")"
   ]
  },
  {
   "cell_type": "code",
   "execution_count": 16,
   "metadata": {},
   "outputs": [],
   "source": [
    "nx.write_graphml(lcc_graph,\"Data/Bratislava_graph.graphml\")"
   ]
  },
  {
   "cell_type": "markdown",
   "metadata": {},
   "source": [
    "## Extract Block information"
   ]
  },
  {
   "cell_type": "code",
   "execution_count": 17,
   "metadata": {},
   "outputs": [
    {
     "name": "stdout",
     "output_type": "stream",
     "text": [
      "Okolie_ages_1-17 1234\n",
      "Okolie_ages_18-21 1939\n",
      "Okolie_ages_22-28 3154\n",
      "Okolie_ages_29-112 3458\n",
      "Petrzalka_ages_1-17 1398\n",
      "Petrzalka_ages_18-21 2106\n",
      "Petrzalka_ages_22-28 5234\n",
      "Petrzalka_ages_29-112 4550\n",
      "Ruzinov_ages_1-17 586\n",
      "Ruzinov_ages_18-21 1123\n",
      "Ruzinov_ages_22-28 2444\n",
      "Ruzinov_ages_29-112 2356\n"
     ]
    }
   ],
   "source": [
    "groups = [ bratislava_lcc_profiles.loc[bratislava_lcc_profiles['block']==block] for block in block_names]\n",
    "groups_node_ids = [list(k['user_id']) for k in groups]\n",
    "block_sizes = [len(k) for k in groups]\n",
    "\n",
    "node_to_group_map = { i:j for i,j in zip(list(bratislava_lcc_profiles['user_id']),list(bratislava_lcc_profiles['block']))} # will this keep the correct order to map? \n",
    "\n",
    "for i,j in zip(block_names,block_sizes) :\n",
    "    print(i,j)"
   ]
  },
  {
   "cell_type": "code",
   "execution_count": 18,
   "metadata": {},
   "outputs": [],
   "source": [
    "assert np.sum(block_sizes) == len(lcc_graph)"
   ]
  },
  {
   "cell_type": "code",
   "execution_count": 19,
   "metadata": {},
   "outputs": [
    {
     "data": {
      "text/html": [
       "<div>\n",
       "<style scoped>\n",
       "    .dataframe tbody tr th:only-of-type {\n",
       "        vertical-align: middle;\n",
       "    }\n",
       "\n",
       "    .dataframe tbody tr th {\n",
       "        vertical-align: top;\n",
       "    }\n",
       "\n",
       "    .dataframe thead th {\n",
       "        text-align: right;\n",
       "    }\n",
       "</style>\n",
       "<table border=\"1\" class=\"dataframe\">\n",
       "  <thead>\n",
       "    <tr style=\"text-align: right;\">\n",
       "      <th></th>\n",
       "      <th>block_name</th>\n",
       "      <th>block_size</th>\n",
       "      <th>average_age</th>\n",
       "    </tr>\n",
       "  </thead>\n",
       "  <tbody>\n",
       "    <tr>\n",
       "      <th>0</th>\n",
       "      <td>Okolie_ages_1-17</td>\n",
       "      <td>1234</td>\n",
       "      <td>9.0</td>\n",
       "    </tr>\n",
       "    <tr>\n",
       "      <th>1</th>\n",
       "      <td>Okolie_ages_18-21</td>\n",
       "      <td>1939</td>\n",
       "      <td>19.5</td>\n",
       "    </tr>\n",
       "    <tr>\n",
       "      <th>2</th>\n",
       "      <td>Okolie_ages_22-28</td>\n",
       "      <td>3154</td>\n",
       "      <td>25.0</td>\n",
       "    </tr>\n",
       "    <tr>\n",
       "      <th>3</th>\n",
       "      <td>Okolie_ages_29-112</td>\n",
       "      <td>3458</td>\n",
       "      <td>70.5</td>\n",
       "    </tr>\n",
       "    <tr>\n",
       "      <th>4</th>\n",
       "      <td>Petrzalka_ages_1-17</td>\n",
       "      <td>1398</td>\n",
       "      <td>9.0</td>\n",
       "    </tr>\n",
       "    <tr>\n",
       "      <th>5</th>\n",
       "      <td>Petrzalka_ages_18-21</td>\n",
       "      <td>2106</td>\n",
       "      <td>19.5</td>\n",
       "    </tr>\n",
       "    <tr>\n",
       "      <th>6</th>\n",
       "      <td>Petrzalka_ages_22-28</td>\n",
       "      <td>5234</td>\n",
       "      <td>25.0</td>\n",
       "    </tr>\n",
       "    <tr>\n",
       "      <th>7</th>\n",
       "      <td>Petrzalka_ages_29-112</td>\n",
       "      <td>4550</td>\n",
       "      <td>70.5</td>\n",
       "    </tr>\n",
       "    <tr>\n",
       "      <th>8</th>\n",
       "      <td>Ruzinov_ages_1-17</td>\n",
       "      <td>586</td>\n",
       "      <td>9.0</td>\n",
       "    </tr>\n",
       "    <tr>\n",
       "      <th>9</th>\n",
       "      <td>Ruzinov_ages_18-21</td>\n",
       "      <td>1123</td>\n",
       "      <td>19.5</td>\n",
       "    </tr>\n",
       "    <tr>\n",
       "      <th>10</th>\n",
       "      <td>Ruzinov_ages_22-28</td>\n",
       "      <td>2444</td>\n",
       "      <td>25.0</td>\n",
       "    </tr>\n",
       "    <tr>\n",
       "      <th>11</th>\n",
       "      <td>Ruzinov_ages_29-112</td>\n",
       "      <td>2356</td>\n",
       "      <td>70.5</td>\n",
       "    </tr>\n",
       "  </tbody>\n",
       "</table>\n",
       "</div>"
      ],
      "text/plain": [
       "               block_name  block_size  average_age\n",
       "0        Okolie_ages_1-17        1234          9.0\n",
       "1       Okolie_ages_18-21        1939         19.5\n",
       "2       Okolie_ages_22-28        3154         25.0\n",
       "3      Okolie_ages_29-112        3458         70.5\n",
       "4     Petrzalka_ages_1-17        1398          9.0\n",
       "5    Petrzalka_ages_18-21        2106         19.5\n",
       "6    Petrzalka_ages_22-28        5234         25.0\n",
       "7   Petrzalka_ages_29-112        4550         70.5\n",
       "8       Ruzinov_ages_1-17         586          9.0\n",
       "9      Ruzinov_ages_18-21        1123         19.5\n",
       "10     Ruzinov_ages_22-28        2444         25.0\n",
       "11    Ruzinov_ages_29-112        2356         70.5"
      ]
     },
     "execution_count": 19,
     "metadata": {},
     "output_type": "execute_result"
    }
   ],
   "source": [
    "block_info = pd.DataFrame({'block_name':block_names,'block_size':block_sizes,'average_age':[np.mean(k) for k in block_ages]})\n",
    "block_info"
   ]
  },
  {
   "cell_type": "code",
   "execution_count": 20,
   "metadata": {},
   "outputs": [],
   "source": [
    "block_info.to_csv(\"Data/block_info.csv\")"
   ]
  },
  {
   "cell_type": "markdown",
   "metadata": {},
   "source": [
    "## Count edges between blocks + make connection prob matrix"
   ]
  },
  {
   "cell_type": "code",
   "execution_count": 21,
   "metadata": {},
   "outputs": [
    {
     "name": "stderr",
     "output_type": "stream",
     "text": [
      "<ipython-input-21-402d670d1496>:5: TqdmDeprecationWarning: This function will be removed in tqdm==5.0.0\n",
      "Please use `tqdm.notebook.tqdm` instead of `tqdm.tqdm_notebook`\n",
      "  for group_1 in tqdm.tqdm_notebook(groups_node_ids) :\n"
     ]
    },
    {
     "data": {
      "application/vnd.jupyter.widget-view+json": {
       "model_id": "6eaf9afbf4894fcab8d7d0b179932725",
       "version_major": 2,
       "version_minor": 0
      },
      "text/plain": [
       "  0%|          | 0/12 [00:00<?, ?it/s]"
      ]
     },
     "metadata": {},
     "output_type": "display_data"
    }
   ],
   "source": [
    "# could make the interaction dataframe at this stage?\n",
    "\n",
    "edge_counts = np.zeros((len(groups_node_ids),len(groups_node_ids)))\n",
    "i=0\n",
    "for group_1 in tqdm.tqdm_notebook(groups_node_ids) :\n",
    "    for j,group_2 in enumerate(groups_node_ids) :\n",
    "        num_edges_between = len([ k for k in nx.edge_boundary(lcc_graph,group_1,nbunch2=group_2) ])\n",
    "        edge_counts[i][j]=num_edges_between\n",
    "    i+=1"
   ]
  },
  {
   "cell_type": "code",
   "execution_count": 22,
   "metadata": {},
   "outputs": [],
   "source": [
    "def check_symmetric(X : np.ndarray) :\n",
    "    np.testing.assert_array_equal( X - X.T , np.zeros((X.shape[0],X.shape[1])) )\n",
    "check_symmetric(edge_counts)"
   ]
  },
  {
   "cell_type": "code",
   "execution_count": 23,
   "metadata": {},
   "outputs": [],
   "source": [
    "def prob_mat_from_edge_counts(block_sizes :  list , edge_counts : np.ndarray) :\n",
    "\n",
    "    prob_mat = np.zeros(edge_counts.shape)\n",
    "    \n",
    "    for i in range(edge_counts.shape[0]) :\n",
    "        for j in range(edge_counts.shape[1]) : \n",
    "            \n",
    "            if i == j :\n",
    "                prob_mat[i][j] = (2.0/(block_sizes[i]*(block_sizes[i]-1.0)))*edge_counts[i,j]\n",
    "            else :\n",
    "                prob_mat[i][j] = (1.0/(block_sizes[i]*block_sizes[j]))*edge_counts[i,j]\n",
    "                \n",
    "    return prob_mat"
   ]
  },
  {
   "cell_type": "code",
   "execution_count": 24,
   "metadata": {},
   "outputs": [
    {
     "data": {
      "text/plain": [
       "array([[1.37888246e-03, 3.60258550e-04, 5.39563355e-05, 2.62468914e-05],\n",
       "       [3.60258550e-04, 9.26078203e-04, 2.49852590e-04, 5.47347661e-05],\n",
       "       [5.39563355e-05, 2.49852590e-04, 4.27369250e-04, 1.25246045e-04],\n",
       "       [2.62468914e-05, 5.47347661e-05, 1.25246045e-04, 2.59153480e-04]])"
      ]
     },
     "execution_count": 24,
     "metadata": {},
     "output_type": "execute_result"
    }
   ],
   "source": [
    "prob_mat = prob_mat_from_edge_counts(block_sizes,edge_counts)\n",
    "prob_mat[:4,:4]"
   ]
  },
  {
   "cell_type": "code",
   "execution_count": 25,
   "metadata": {},
   "outputs": [
    {
     "name": "stdout",
     "output_type": "stream",
     "text": [
      "[[1.70154096 0.69854133 0.17017828 0.09076175]\n",
      " [0.44455905 1.79566563 0.78803507 0.18927282]\n",
      " [0.06658212 0.48446417 1.34792261 0.43310082]\n",
      " [0.03238866 0.10613071 0.39502603 0.89615273]]\n"
     ]
    }
   ],
   "source": [
    "coupling_mat = np.dot( prob_mat , np.diag(block_sizes ) )\n",
    "print(coupling_mat[:4,:4])"
   ]
  },
  {
   "cell_type": "code",
   "execution_count": 26,
   "metadata": {},
   "outputs": [],
   "source": [
    "coupling_graph = nx.from_numpy_matrix(coupling_mat)"
   ]
  },
  {
   "cell_type": "code",
   "execution_count": 27,
   "metadata": {},
   "outputs": [],
   "source": [
    "nx.write_graphml(coupling_graph,\"Data/Bratislava_coupling.graphml\")"
   ]
  },
  {
   "cell_type": "markdown",
   "metadata": {},
   "source": [
    "## Plotting of the coupling matrix (TBC - use this rather than dedicated script?!)"
   ]
  },
  {
   "cell_type": "code",
   "execution_count": 28,
   "metadata": {},
   "outputs": [],
   "source": [
    "block_names_with_newline = [ k.split('_')[0] + '\\n' + k.split('_')[2]  for k in block_names]"
   ]
  },
  {
   "cell_type": "code",
   "execution_count": 29,
   "metadata": {},
   "outputs": [
    {
     "data": {
      "image/png": "[encoded data removed]",
      "text/plain": [
       "<Figure size 432x432 with 2 Axes>"
      ]
     },
     "metadata": {
      "needs_background": "light"
     },
     "output_type": "display_data"
    }
   ],
   "source": [
    "fig,ax = plt.subplots(figsize=(6,6))\n",
    "#plt.imshow(coupling_mat,cmap='plasma')\n",
    "\n",
    "hm = sns.heatmap(coupling_mat,cmap='Blues')\n",
    "\n",
    "plt.yticks(np.arange(0,len(block_names),1))\n",
    "ax.set_yticklabels(block_names_with_newline, rotation=0,fontsize=11)\n",
    "plt.xticks(np.arange(0,len(block_names),1))\n",
    "ax.set_xticklabels(block_names_with_newline, rotation=90,fontsize=11)\n",
    "\n",
    "cbar = ax.collections[0].colorbar\n",
    "# here set the labelsize by 20\n",
    "cbar.ax.tick_params(labelsize=20)\n",
    "\n",
    "plt.text(-3.75,0.5,'(a)',fontsize=25)\n",
    "\n",
    "#cbar = plt.colorbar()\n",
    "plt.savefig(\"Plots/block_interactions.pdf\",bbox_inches='tight')"
   ]
  },
  {
   "cell_type": "markdown",
   "metadata": {},
   "source": [
    "## Check how to recover the symmetric probability matrix (\n",
    "\n",
    "## Note - now that we know block level approx gives reasonable approx for magnetisation. This suggests that we have the correct\n",
    "\n",
    "$ \\kappa = \\Omega \\mathcal{N} $\n",
    "\n",
    "-->\n",
    "\n",
    "$ \\Omega =  \\kappa \\mathcal{N}^{-1} $\n",
    "\n",
    "The order of opperations does matter here"
   ]
  },
  {
   "cell_type": "code",
   "execution_count": 30,
   "metadata": {},
   "outputs": [
    {
     "name": "stdout",
     "output_type": "stream",
     "text": [
      "[[1.37888246e-03 3.60258550e-04 5.39563355e-05 2.62468914e-05]\n",
      " [3.60258550e-04 9.26078203e-04 2.49852590e-04 5.47347661e-05]\n",
      " [5.39563355e-05 2.49852590e-04 4.27369250e-04 1.25246045e-04]\n",
      " [2.62468914e-05 5.47347661e-05 1.25246045e-04 2.59153480e-04]]\n"
     ]
    }
   ],
   "source": [
    "N_mat = np.diag(block_sizes)\n",
    "#np.dot( prob_mat, N_mat)\n",
    "prob_mat = np.dot(   coupling_mat, np.linalg.inv(N_mat) )\n",
    "print(prob_mat[:4,:4])"
   ]
  },
  {
   "cell_type": "code",
   "execution_count": 31,
   "metadata": {},
   "outputs": [
    {
     "data": {
      "text/plain": [
       "matrix([[1.70154096, 0.44455905, 0.06658212, 0.03238866, 0.70386266,\n",
       "         0.18376068, 0.02674818, 0.01120879, 0.82935154, 0.1460374 ,\n",
       "         0.03191489, 0.01273345],\n",
       "        [0.44455905, 1.79566563, 0.48446417, 0.10613071, 0.27896996,\n",
       "         0.62060779, 0.16488345, 0.06637363, 0.29351536, 0.66429207,\n",
       "         0.20335516, 0.06706282],\n",
       "        [0.06658212, 0.48446417, 1.34792261, 0.39502603, 0.08082976,\n",
       "         0.27730294, 0.52541078, 0.26373626, 0.07679181, 0.2983081 ,\n",
       "         0.57201309, 0.21943973],\n",
       "        [0.03238866, 0.10613071, 0.39502603, 0.89615273, 0.04291845,\n",
       "         0.14387464, 0.2369125 , 0.50153846, 0.05972696, 0.13891362,\n",
       "         0.25654664, 0.55517827],\n",
       "        [0.70386266, 0.27896996, 0.08082976, 0.04291845, 3.0694345 ,\n",
       "         0.53703704, 0.07298433, 0.06197802, 0.82593857, 0.14425646,\n",
       "         0.03764321, 0.01188455],\n",
       "        [0.18376068, 0.62060779, 0.27730294, 0.14387464, 0.53703704,\n",
       "         2.46270784, 0.45319068, 0.16549451, 0.29351536, 0.62956367,\n",
       "         0.22094926, 0.07640068],\n",
       "        [0.02674818, 0.16488345, 0.52541078, 0.2369125 , 0.07298433,\n",
       "         0.45319068, 2.39594879, 0.86395604, 0.14675768, 0.50400712,\n",
       "         1.03191489, 0.41468591],\n",
       "        [0.01120879, 0.06637363, 0.26373626, 0.50153846, 0.06197802,\n",
       "         0.16549451, 0.86395604, 1.3906353 , 0.07337884, 0.14870882,\n",
       "         0.42062193, 0.70967742],\n",
       "        [0.82935154, 0.29351536, 0.07679181, 0.05972696, 0.82593857,\n",
       "         0.29351536, 0.14675768, 0.07337884, 2.10598291, 0.41763134,\n",
       "         0.04459902, 0.03310696],\n",
       "        [0.1460374 , 0.66429207, 0.2983081 , 0.13891362, 0.14425646,\n",
       "         0.62956367, 0.50400712, 0.14870882, 0.41763134, 1.52762923,\n",
       "         0.31669394, 0.08743633],\n",
       "        [0.03191489, 0.20335516, 0.57201309, 0.25654664, 0.03764321,\n",
       "         0.22094926, 1.03191489, 0.42062193, 0.04459902, 0.31669394,\n",
       "         1.19033975, 0.37393888],\n",
       "        [0.01273345, 0.06706282, 0.21943973, 0.55517827, 0.01188455,\n",
       "         0.07640068, 0.41468591, 0.70967742, 0.03310696, 0.08743633,\n",
       "         0.37393888, 0.80424628]])"
      ]
     },
     "execution_count": 31,
     "metadata": {},
     "output_type": "execute_result"
    }
   ],
   "source": [
    "# For testing only - this saved version was produced using the previous version of the code.\n",
    "coupling_graph = nx.read_graphml('Data/Bratislava_coupling.graphml')\n",
    "nx.to_numpy_matrix(coupling_graph)"
   ]
  },
  {
   "cell_type": "markdown",
   "metadata": {},
   "source": [
    "### Task: confirm we use Kappa vs the Transpose - note the fact that block level approximation works is some evidence.\n",
    "\n",
    "Expect that the smaller block will have more outgoing connections on average - i.e. to have the same number of edges increases the mean degree more. \n",
    "\n",
    "Looks like the current version may indeed be correct."
   ]
  },
  {
   "cell_type": "code",
   "execution_count": 32,
   "metadata": {},
   "outputs": [
    {
     "data": {
      "text/plain": [
       "array([[1.70154096, 0.69854133, 0.17017828],\n",
       "       [0.44455905, 1.79566563, 0.78803507],\n",
       "       [0.06658212, 0.48446417, 1.34792261]])"
      ]
     },
     "execution_count": 32,
     "metadata": {},
     "output_type": "execute_result"
    }
   ],
   "source": [
    "coupling_mat[:3,:3]"
   ]
  },
  {
   "cell_type": "code",
   "execution_count": 33,
   "metadata": {},
   "outputs": [
    {
     "data": {
      "text/plain": [
       "array([[1049.,  862.,  210.],\n",
       "       [ 862., 1740., 1528.],\n",
       "       [ 210., 1528., 2125.]])"
      ]
     },
     "execution_count": 33,
     "metadata": {},
     "output_type": "execute_result"
    }
   ],
   "source": [
    "edge_counts[:3,:3]"
   ]
  },
  {
   "cell_type": "code",
   "execution_count": 34,
   "metadata": {},
   "outputs": [
    {
     "data": {
      "text/plain": [
       "[1234, 1939, 3154]"
      ]
     },
     "execution_count": 34,
     "metadata": {},
     "output_type": "execute_result"
    }
   ],
   "source": [
    "block_sizes[:3]"
   ]
  },
  {
   "cell_type": "code",
   "execution_count": 35,
   "metadata": {},
   "outputs": [
    {
     "name": "stdout",
     "output_type": "stream",
     "text": [
      "0.44455905105724597\n"
     ]
    }
   ],
   "source": [
    "kappa_12 = (block_sizes[0]/block_sizes[1])*coupling_mat[0,1]\n",
    "print(kappa_12)"
   ]
  }
 ],
 "metadata": {
  "kernelspec": {
   "display_name": "Python 3",
   "language": "python",
   "name": "python3"
  },
  "language_info": {
   "codemirror_mode": {
    "name": "ipython",
    "version": 3
   },
   "file_extension": ".py",
   "mimetype": "text/x-python",
   "name": "python",
   "nbconvert_exporter": "python",
   "pygments_lexer": "ipython3",
   "version": "3.8.8"
  }
 },
 "nbformat": 4,
 "nbformat_minor": 2
}
