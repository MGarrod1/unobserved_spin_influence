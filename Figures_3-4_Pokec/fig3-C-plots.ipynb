{
 "cells": [
  {
   "cell_type": "markdown",
   "metadata": {},
   "source": [
    "Plot the outcome of simulations exploring the role of $\\beta$ in the magnetisation markup on the Pokec social network.\n",
    "\n",
    "Created on: 10/02/21"
   ]
  },
  {
   "cell_type": "code",
   "execution_count": 2,
   "metadata": {},
   "outputs": [],
   "source": [
    "import pandas as pd\n",
    "import matplotlib.pyplot as plt\n",
    "import seaborn as sns\n",
    "import numpy as np\n",
    "from scipy import stats\n",
    "import matplotlib\n",
    "import pylab\n",
    "import itertools"
   ]
  },
  {
   "cell_type": "code",
   "execution_count": 4,
   "metadata": {},
   "outputs": [
    {
     "name": "stdout",
     "output_type": "stream",
     "text": [
      "[0.1, 0.17969891485325942, 0.32291699999438983, 0.5802783448666183, 1.0427538888537675, 1.873817422860383, 3.3672295752114207, 6.050875007272942, 10.873356727196558, 19.539304046896085, 35.11191734215127, 63.095734448019336]\n"
     ]
    }
   ],
   "source": [
    "eval_data=pd.read_csv('Data/Pokec_control_eval_as_beta')\n",
    "print(sorted(list(set(eval_data['beta_factor'].to_list()))))"
   ]
  },
  {
   "cell_type": "code",
   "execution_count": 5,
   "metadata": {},
   "outputs": [],
   "source": [
    "# eval_data=pd.read_csv(\"Data/Pokec_control_eval_data_g5_beta_impact.csv\")\n",
    "eval_data=pd.read_csv('Data/Pokec_control_eval_as_beta')\n",
    "# eval_data=pd.read_csv(\"Data/Pokec_control_eval_data_g0_beta_impact_w_full.csv\").append(pd.read_csv(\"Data/Pokec_control_eval_data_g0_beta_impact_w_full_2.csv\"))\n",
    "\n",
    "eval_data=eval_data.loc[eval_data['beta_factor']<20.0]"
   ]
  },
  {
   "cell_type": "code",
   "execution_count": 6,
   "metadata": {},
   "outputs": [
    {
     "data": {
      "text/html": [
       "<div>\n",
       "<style scoped>\n",
       "    .dataframe tbody tr th:only-of-type {\n",
       "        vertical-align: middle;\n",
       "    }\n",
       "\n",
       "    .dataframe tbody tr th {\n",
       "        vertical-align: top;\n",
       "    }\n",
       "\n",
       "    .dataframe thead th {\n",
       "        text-align: right;\n",
       "    }\n",
       "</style>\n",
       "<table border=\"1\" class=\"dataframe\">\n",
       "  <thead>\n",
       "    <tr style=\"text-align: right;\">\n",
       "      <th></th>\n",
       "      <th>beta_factor__</th>\n",
       "      <th>gradient__</th>\n",
       "      <th>markup_block_mean</th>\n",
       "      <th>markup_block_sem</th>\n",
       "      <th>markup_full_mean</th>\n",
       "      <th>markup_full_sem</th>\n",
       "    </tr>\n",
       "  </thead>\n",
       "  <tbody>\n",
       "    <tr>\n",
       "      <td>0</td>\n",
       "      <td>0.100000</td>\n",
       "      <td>0.0</td>\n",
       "      <td>-0.001585</td>\n",
       "      <td>0.001989</td>\n",
       "      <td>-0.000957</td>\n",
       "      <td>0.002114</td>\n",
       "    </tr>\n",
       "    <tr>\n",
       "      <td>1</td>\n",
       "      <td>0.179699</td>\n",
       "      <td>0.0</td>\n",
       "      <td>-0.002467</td>\n",
       "      <td>0.001099</td>\n",
       "      <td>-0.001128</td>\n",
       "      <td>0.001229</td>\n",
       "    </tr>\n",
       "    <tr>\n",
       "      <td>2</td>\n",
       "      <td>0.322917</td>\n",
       "      <td>0.0</td>\n",
       "      <td>0.000544</td>\n",
       "      <td>0.002080</td>\n",
       "      <td>0.000751</td>\n",
       "      <td>0.002367</td>\n",
       "    </tr>\n",
       "    <tr>\n",
       "      <td>3</td>\n",
       "      <td>0.580278</td>\n",
       "      <td>0.0</td>\n",
       "      <td>0.001151</td>\n",
       "      <td>0.002094</td>\n",
       "      <td>0.000935</td>\n",
       "      <td>0.002216</td>\n",
       "    </tr>\n",
       "    <tr>\n",
       "      <td>4</td>\n",
       "      <td>1.042754</td>\n",
       "      <td>0.0</td>\n",
       "      <td>0.003036</td>\n",
       "      <td>0.003149</td>\n",
       "      <td>0.010088</td>\n",
       "      <td>0.002920</td>\n",
       "    </tr>\n",
       "  </tbody>\n",
       "</table>\n",
       "</div>"
      ],
      "text/plain": [
       "   beta_factor__  gradient__  markup_block_mean  markup_block_sem  \\\n",
       "0       0.100000         0.0          -0.001585          0.001989   \n",
       "1       0.179699         0.0          -0.002467          0.001099   \n",
       "2       0.322917         0.0           0.000544          0.002080   \n",
       "3       0.580278         0.0           0.001151          0.002094   \n",
       "4       1.042754         0.0           0.003036          0.003149   \n",
       "\n",
       "   markup_full_mean  markup_full_sem  \n",
       "0         -0.000957         0.002114  \n",
       "1         -0.001128         0.001229  \n",
       "2          0.000751         0.002367  \n",
       "3          0.000935         0.002216  \n",
       "4          0.010088         0.002920  "
      ]
     },
     "execution_count": 6,
     "metadata": {},
     "output_type": "execute_result"
    }
   ],
   "source": [
    "control_names = list(set(eval_data['control'].to_list())-set(['unif'])) #['block','full','nc','sv','snapshot']\n",
    "eval_data['Sample_index'] = eval_data.reset_index().reset_index().groupby(by=['control','gradient','beta_factor'])['level_0'].transform(lambda x: x.rank())\n",
    "\n",
    "pivotted = pd.pivot_table( eval_data , values=['magnetisation'],columns=['control'] ,index=['beta_factor','gradient','Sample_index'],aggfunc={'magnetisation':np.mean} ).reset_index()\n",
    "pivotted.columns=pivotted.columns.map('_'.join)\n",
    "for k in control_names :\n",
    "    pivotted[f\"markup_{k}\"] = pivotted[f'magnetisation_{k}'] - pivotted['magnetisation_unif']\n",
    "\n",
    "grouped = pivotted.groupby(['beta_factor_','gradient_']).agg({f'markup_{k}':[np.mean,stats.sem] for k in control_names}).reset_index()\n",
    "grouped.columns=grouped.columns.map('_'.join)\n",
    "grouped.head()"
   ]
  },
  {
   "cell_type": "code",
   "execution_count": 44,
   "metadata": {},
   "outputs": [
    {
     "data": {
      "image/png": "[encoded data removed]",
      "text/plain": [
       "<Figure size 432x432 with 2 Axes>"
      ]
     },
     "metadata": {
      "needs_background": "light"
     },
     "output_type": "display_data"
    }
   ],
   "source": [
    "gradient = list(grouped['beta_factor__'])\n",
    "\n",
    "# Select colours scheme:\n",
    "cmap = pylab.cm.get_cmap(\"tab10\", 6)    # PiYG\n",
    "#hex_codes = [matplotlib.colors.rgb2hex(cmap(i)[:3]) for i in  range(cmap.N)]\n",
    "hex_codes  = [matplotlib.colors.rgb2hex(pal) for pal in  sns.color_palette()]\n",
    "col= itertools.cycle(tuple(hex_codes))\n",
    "marker_styles = itertools.cycle(('o','s','*','<',\"D\",\"P\"))\n",
    "line_styles = itertools.cycle(('-', '--', '-.', ':','-.'))\n",
    "\n",
    "\n",
    "def name_map(label) :\n",
    "    \"\"\"\n",
    "    Upper case SV and NC.\n",
    "    \n",
    "    .title() to other labels\n",
    "    \"\"\"\n",
    "    if len(label) < 3 :\n",
    "        return label.upper()\n",
    "    else :\n",
    "        return label.title()\n",
    "\n",
    "fig,ax=plt.subplots(figsize=(6,6))\n",
    "\n",
    "for con in control_names :\n",
    "    mean_markup = list(grouped[f'markup_{con}_mean'])\n",
    "    sem_markup = list(grouped[f'markup_{con}_sem'])\n",
    "    col_current=next(col)\n",
    "    plt.errorbar(gradient,mean_markup,yerr=sem_markup,label=name_map(con)\n",
    "                 ,mfc=f'{col_current}',mec=f'{col_current}',\n",
    "                 color=f'{col_current}',\n",
    "                 marker=f'{next(marker_styles)}',\n",
    "                linestyle=f'{next(line_styles)}',alpha=0.7,markersize=10,lw=3.0)\n",
    "\n",
    "plt.plot([0,20],[0,0],'k--')\n",
    "\n",
    "plt.xlabel(\"$\\\\beta$ \\ $\\\\beta_c $\",fontsize=20)\n",
    "plt.ylabel(\"$\\Delta M_{MC}$\",fontsize=20 )\n",
    "plt.yticks(fontsize=16)\n",
    "plt.xticks(fontsize=16)\n",
    "#plt.legend(fontsize=14,ncol=2,loc='upper left')\n",
    "ax.legend(fontsize=14,ncol=2,loc='lower left').set_zorder(0)\n",
    "#plt.xlim(0.001,5)\n",
    "#plt.xlim(0,3)\n",
    "\n",
    "#plt.ylim(-0.015,0.01)\n",
    "plt.xscale('log')\n",
    "plt.ylim(-0.01,0.025)\n",
    "\n",
    "plt.text(0.0145,0.024,'(c)',fontsize=25)\n",
    "\n",
    "#Inset to show the magnetisation.\n",
    "left, bottom, width, height = [0.25, 0.6, 0.3, 0.25]\n",
    "ax2 = fig.add_axes([left, bottom, width, height])\n",
    "just_unif_means=just_unif.groupby(['beta_factor']).agg({'magnetisation':np.mean}).reset_index()\n",
    "mag_vals=just_unif_means['magnetisation'].to_list()\n",
    "beta_vals_unif=just_unif_means['beta_factor'].to_list()\n",
    "ax2.plot(beta_vals_unif,mag_vals,lw=2.0,color='k')\n",
    "ax2.set_xscale('log')\n",
    "ax2.set_xticks([0.1,1,10],['10','10','10'])\n",
    "ax2.set_ylabel(\"M\",fontsize=20,rotation=90)\n",
    "\n",
    "\n",
    "\n",
    "plt.savefig(\"Plots/markup_as_beta_grad_0_postivie.jpg\",bbox_inches='tight')"
   ]
  },
  {
   "cell_type": "code",
   "execution_count": 25,
   "metadata": {},
   "outputs": [
    {
     "data": {
      "image/png": "[encoded data removed]",
      "text/plain": [
       "<Figure size 432x432 with 1 Axes>"
      ]
     },
     "metadata": {
      "needs_background": "light"
     },
     "output_type": "display_data"
    }
   ],
   "source": [
    "fig,ax=plt.subplots(figsize=(6,6))\n",
    "just_unif=eval_data.loc[eval_data['control']=='unif']\n",
    "sns.lineplot(data=just_unif,x='beta_factor',y='magnetisation')\n",
    "plt.xlabel(\"$\\\\beta$ \\ $\\\\beta_c $\",fontsize=20)\n",
    "plt.xscale('log')"
   ]
  },
  {
   "cell_type": "code",
   "execution_count": 29,
   "metadata": {},
   "outputs": [
    {
     "data": {
      "text/html": [
       "<div>\n",
       "<style scoped>\n",
       "    .dataframe tbody tr th:only-of-type {\n",
       "        vertical-align: middle;\n",
       "    }\n",
       "\n",
       "    .dataframe tbody tr th {\n",
       "        vertical-align: top;\n",
       "    }\n",
       "\n",
       "    .dataframe thead th {\n",
       "        text-align: right;\n",
       "    }\n",
       "</style>\n",
       "<table border=\"1\" class=\"dataframe\">\n",
       "  <thead>\n",
       "    <tr style=\"text-align: right;\">\n",
       "      <th></th>\n",
       "      <th>beta_factor</th>\n",
       "      <th>magnetisation</th>\n",
       "    </tr>\n",
       "  </thead>\n",
       "  <tbody>\n",
       "    <tr>\n",
       "      <td>0</td>\n",
       "      <td>0.100000</td>\n",
       "      <td>0.000670</td>\n",
       "    </tr>\n",
       "    <tr>\n",
       "      <td>1</td>\n",
       "      <td>0.179699</td>\n",
       "      <td>0.001346</td>\n",
       "    </tr>\n",
       "    <tr>\n",
       "      <td>2</td>\n",
       "      <td>0.322917</td>\n",
       "      <td>0.000563</td>\n",
       "    </tr>\n",
       "    <tr>\n",
       "      <td>3</td>\n",
       "      <td>0.580278</td>\n",
       "      <td>0.003331</td>\n",
       "    </tr>\n",
       "    <tr>\n",
       "      <td>4</td>\n",
       "      <td>1.042754</td>\n",
       "      <td>0.008214</td>\n",
       "    </tr>\n",
       "    <tr>\n",
       "      <td>5</td>\n",
       "      <td>1.873817</td>\n",
       "      <td>0.135413</td>\n",
       "    </tr>\n",
       "    <tr>\n",
       "      <td>6</td>\n",
       "      <td>3.367230</td>\n",
       "      <td>0.369134</td>\n",
       "    </tr>\n",
       "    <tr>\n",
       "      <td>7</td>\n",
       "      <td>6.050875</td>\n",
       "      <td>0.601023</td>\n",
       "    </tr>\n",
       "    <tr>\n",
       "      <td>8</td>\n",
       "      <td>10.873357</td>\n",
       "      <td>0.797029</td>\n",
       "    </tr>\n",
       "    <tr>\n",
       "      <td>9</td>\n",
       "      <td>19.539304</td>\n",
       "      <td>0.931269</td>\n",
       "    </tr>\n",
       "  </tbody>\n",
       "</table>\n",
       "</div>"
      ],
      "text/plain": [
       "   beta_factor  magnetisation\n",
       "0     0.100000       0.000670\n",
       "1     0.179699       0.001346\n",
       "2     0.322917       0.000563\n",
       "3     0.580278       0.003331\n",
       "4     1.042754       0.008214\n",
       "5     1.873817       0.135413\n",
       "6     3.367230       0.369134\n",
       "7     6.050875       0.601023\n",
       "8    10.873357       0.797029\n",
       "9    19.539304       0.931269"
      ]
     },
     "execution_count": 29,
     "metadata": {},
     "output_type": "execute_result"
    }
   ],
   "source": []
  },
  {
   "cell_type": "markdown",
   "metadata": {},
   "source": [
    "## Fractional markup\n",
    "\n",
    "Also compute in terms of the change in the vote share."
   ]
  },
  {
   "cell_type": "code",
   "execution_count": 5,
   "metadata": {},
   "outputs": [
    {
     "data": {
      "text/html": [
       "<div>\n",
       "<style scoped>\n",
       "    .dataframe tbody tr th:only-of-type {\n",
       "        vertical-align: middle;\n",
       "    }\n",
       "\n",
       "    .dataframe tbody tr th {\n",
       "        vertical-align: top;\n",
       "    }\n",
       "\n",
       "    .dataframe thead th {\n",
       "        text-align: right;\n",
       "    }\n",
       "</style>\n",
       "<table border=\"1\" class=\"dataframe\">\n",
       "  <thead>\n",
       "    <tr style=\"text-align: right;\">\n",
       "      <th></th>\n",
       "      <th>Unnamed: 0</th>\n",
       "      <th>control</th>\n",
       "      <th>magnetisation</th>\n",
       "      <th>mag_se</th>\n",
       "      <th>beta_factor</th>\n",
       "      <th>gradient</th>\n",
       "      <th>Sample_index</th>\n",
       "      <th>percent_up</th>\n",
       "    </tr>\n",
       "  </thead>\n",
       "  <tbody>\n",
       "    <tr>\n",
       "      <td>0</td>\n",
       "      <td>0</td>\n",
       "      <td>block</td>\n",
       "      <td>-0.003374</td>\n",
       "      <td>1.709275e-05</td>\n",
       "      <td>0.100000</td>\n",
       "      <td>0.0</td>\n",
       "      <td>1</td>\n",
       "      <td>0.498313</td>\n",
       "    </tr>\n",
       "    <tr>\n",
       "      <td>1</td>\n",
       "      <td>1</td>\n",
       "      <td>unif</td>\n",
       "      <td>-0.004628</td>\n",
       "      <td>2.441009e-05</td>\n",
       "      <td>0.100000</td>\n",
       "      <td>0.0</td>\n",
       "      <td>1</td>\n",
       "      <td>0.497686</td>\n",
       "    </tr>\n",
       "    <tr>\n",
       "      <td>2</td>\n",
       "      <td>2</td>\n",
       "      <td>full</td>\n",
       "      <td>0.001167</td>\n",
       "      <td>1.285551e-05</td>\n",
       "      <td>0.100000</td>\n",
       "      <td>0.0</td>\n",
       "      <td>1</td>\n",
       "      <td>0.500584</td>\n",
       "    </tr>\n",
       "    <tr>\n",
       "      <td>3</td>\n",
       "      <td>0</td>\n",
       "      <td>block</td>\n",
       "      <td>-0.004128</td>\n",
       "      <td>1.620476e-05</td>\n",
       "      <td>0.100000</td>\n",
       "      <td>0.0</td>\n",
       "      <td>2</td>\n",
       "      <td>0.497936</td>\n",
       "    </tr>\n",
       "    <tr>\n",
       "      <td>4</td>\n",
       "      <td>1</td>\n",
       "      <td>unif</td>\n",
       "      <td>-0.004330</td>\n",
       "      <td>3.361930e-05</td>\n",
       "      <td>0.100000</td>\n",
       "      <td>0.0</td>\n",
       "      <td>2</td>\n",
       "      <td>0.497835</td>\n",
       "    </tr>\n",
       "    <tr>\n",
       "      <td>...</td>\n",
       "      <td>...</td>\n",
       "      <td>...</td>\n",
       "      <td>...</td>\n",
       "      <td>...</td>\n",
       "      <td>...</td>\n",
       "      <td>...</td>\n",
       "      <td>...</td>\n",
       "      <td>...</td>\n",
       "    </tr>\n",
       "    <tr>\n",
       "      <td>535</td>\n",
       "      <td>1</td>\n",
       "      <td>unif</td>\n",
       "      <td>0.999617</td>\n",
       "      <td>3.190278e-07</td>\n",
       "      <td>63.095734</td>\n",
       "      <td>0.0</td>\n",
       "      <td>14</td>\n",
       "      <td>0.999808</td>\n",
       "    </tr>\n",
       "    <tr>\n",
       "      <td>536</td>\n",
       "      <td>2</td>\n",
       "      <td>full</td>\n",
       "      <td>0.999932</td>\n",
       "      <td>2.220557e-18</td>\n",
       "      <td>63.095734</td>\n",
       "      <td>0.0</td>\n",
       "      <td>14</td>\n",
       "      <td>0.999966</td>\n",
       "    </tr>\n",
       "    <tr>\n",
       "      <td>537</td>\n",
       "      <td>0</td>\n",
       "      <td>block</td>\n",
       "      <td>-0.004034</td>\n",
       "      <td>1.396191e-05</td>\n",
       "      <td>63.095734</td>\n",
       "      <td>0.0</td>\n",
       "      <td>15</td>\n",
       "      <td>0.497983</td>\n",
       "    </tr>\n",
       "    <tr>\n",
       "      <td>538</td>\n",
       "      <td>1</td>\n",
       "      <td>unif</td>\n",
       "      <td>0.999607</td>\n",
       "      <td>2.630830e-07</td>\n",
       "      <td>63.095734</td>\n",
       "      <td>0.0</td>\n",
       "      <td>15</td>\n",
       "      <td>0.999803</td>\n",
       "    </tr>\n",
       "    <tr>\n",
       "      <td>539</td>\n",
       "      <td>2</td>\n",
       "      <td>full</td>\n",
       "      <td>0.999932</td>\n",
       "      <td>2.220557e-18</td>\n",
       "      <td>63.095734</td>\n",
       "      <td>0.0</td>\n",
       "      <td>15</td>\n",
       "      <td>0.999966</td>\n",
       "    </tr>\n",
       "  </tbody>\n",
       "</table>\n",
       "<p>540 rows × 8 columns</p>\n",
       "</div>"
      ],
      "text/plain": [
       "     Unnamed: 0 control  magnetisation        mag_se  beta_factor  gradient  \\\n",
       "0             0   block      -0.003374  1.709275e-05     0.100000       0.0   \n",
       "1             1    unif      -0.004628  2.441009e-05     0.100000       0.0   \n",
       "2             2    full       0.001167  1.285551e-05     0.100000       0.0   \n",
       "3             0   block      -0.004128  1.620476e-05     0.100000       0.0   \n",
       "4             1    unif      -0.004330  3.361930e-05     0.100000       0.0   \n",
       "..          ...     ...            ...           ...          ...       ...   \n",
       "535           1    unif       0.999617  3.190278e-07    63.095734       0.0   \n",
       "536           2    full       0.999932  2.220557e-18    63.095734       0.0   \n",
       "537           0   block      -0.004034  1.396191e-05    63.095734       0.0   \n",
       "538           1    unif       0.999607  2.630830e-07    63.095734       0.0   \n",
       "539           2    full       0.999932  2.220557e-18    63.095734       0.0   \n",
       "\n",
       "     Sample_index  percent_up  \n",
       "0               1    0.498313  \n",
       "1               1    0.497686  \n",
       "2               1    0.500584  \n",
       "3               2    0.497936  \n",
       "4               2    0.497835  \n",
       "..            ...         ...  \n",
       "535            14    0.999808  \n",
       "536            14    0.999966  \n",
       "537            15    0.497983  \n",
       "538            15    0.999803  \n",
       "539            15    0.999966  \n",
       "\n",
       "[540 rows x 8 columns]"
      ]
     },
     "execution_count": 5,
     "metadata": {},
     "output_type": "execute_result"
    }
   ],
   "source": [
    "eval_data['percent_up']= (eval_data['magnetisation']+1.0)/2.0\n",
    "eval_data"
   ]
  },
  {
   "cell_type": "code",
   "execution_count": 6,
   "metadata": {},
   "outputs": [
    {
     "data": {
      "text/plain": [
       "(0.45, 0.6)"
      ]
     },
     "execution_count": 6,
     "metadata": {},
     "output_type": "execute_result"
    },
    {
     "data": {
      "image/png": "[encoded data removed]",
      "text/plain": [
       "<Figure size 576x576 with 1 Axes>"
      ]
     },
     "metadata": {
      "needs_background": "light"
     },
     "output_type": "display_data"
    }
   ],
   "source": [
    "# Plotting raw magnetisations helps to illustrate behaviour of mag\n",
    "fig,ax=plt.subplots(figsize=(8,8))\n",
    "sns.scatterplot(data=eval_data,x='beta_factor',y='percent_up',hue='control')\n",
    "#sns.lineplot(data=eval_data,x='beta_factor',y='magnetisation',hue='control')\n",
    "#plt.xscale('log')\n",
    "#plt.xlim(0.01,5.0)\n",
    "#plt.ylim(-0.05,0.2)\n",
    "\n",
    "plt.ylim(0.45,0.6)\n",
    "#plt.xlim(0.9,2.1)"
   ]
  },
  {
   "cell_type": "code",
   "execution_count": 7,
   "metadata": {},
   "outputs": [
    {
     "data": {
      "text/plain": [
       "<matplotlib.axes._subplots.AxesSubplot at 0x7f365d226510>"
      ]
     },
     "execution_count": 7,
     "metadata": {},
     "output_type": "execute_result"
    },
    {
     "data": {
      "image/png": "[encoded data removed]",
      "text/plain": [
       "<Figure size 432x288 with 1 Axes>"
      ]
     },
     "metadata": {
      "needs_background": "light"
     },
     "output_type": "display_data"
    }
   ],
   "source": [
    "sns.lineplot(data=eval_data,x='beta_factor',y='percent_up',hue='control')\n",
    "sns.scatterplot(data=eval_data,x='beta_factor',y='percent_up',hue='control')\n",
    "#plt.ylim(0.45,0.6)\n",
    "#plt.xlim(0.9,2.1)"
   ]
  },
  {
   "cell_type": "code",
   "execution_count": null,
   "metadata": {},
   "outputs": [],
   "source": []
  }
 ],
 "metadata": {
  "kernelspec": {
   "display_name": "Python 3",
   "language": "python",
   "name": "python3"
  },
  "language_info": {
   "codemirror_mode": {
    "name": "ipython",
    "version": 3
   },
   "file_extension": ".py",
   "mimetype": "text/x-python",
   "name": "python",
   "nbconvert_exporter": "python",
   "pygments_lexer": "ipython3",
   "version": "3.7.4"
  }
 },
 "nbformat": 4,
 "nbformat_minor": 2
}
